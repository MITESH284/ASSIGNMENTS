{
  "nbformat": 4,
  "nbformat_minor": 0,
  "metadata": {
    "colab": {
      "provenance": [],
      "collapsed_sections": [
        "f9-h_OV2HjQC",
        "bFSz8664Mc4U"
      ]
    },
    "kernelspec": {
      "name": "python3",
      "display_name": "Python 3"
    },
    "language_info": {
      "name": "python"
    }
  },
  "cells": [
    {
      "cell_type": "markdown",
      "source": [
        "#Files, exceptional handling, logging and memory management Questions"
      ],
      "metadata": {
        "id": "f9-h_OV2HjQC"
      }
    },
    {
      "cell_type": "markdown",
      "source": [
        "1) What is the difference between interpreted and compiled languages?\n",
        "\n",
        "ANS-The main difference between interpreted and compiled languages lies in how the source code is translated into machine code. In compiled languages, the entire program is translated into machine code by a compiler before it is executed. This results in a standalone executable file that runs directly on the hardware, making compiled programs generally faster and more efficient at runtime. Examples include C, C++, and Rust. On the other hand, interpreted languages use an interpreter to translate and execute code line-by-line at runtime. This makes them more flexible and easier to debug but usually slower in execution. Examples of interpreted languages include Python, JavaScript, and Ruby. Some languages, like Java, use a combination of both approaches by compiling code into intermediate bytecode that is then interpreted or just-in-time compiled by a virtual machine."
      ],
      "metadata": {
        "id": "b_Kgv2Z9HsU_"
      }
    },
    {
      "cell_type": "markdown",
      "source": [
        "2) What is exception handling in Python?\n",
        "\n",
        "ANS-Exception handling in Python is a technique used to manage and respond to runtime errors in a program without crashing it. When something goes wrong during execution—such as dividing by zero, accessing a missing file, or entering invalid input—Python raises an exception. To handle such situations, Python provides the try, except, else, and finally blocks. Code that might raise an exception is placed inside the try block. If an exception occurs, it is caught by the except block, which contains code to handle the error. The else block, if used, runs only when no exception occurs, and the finally block executes no matter what, often used for cleanup actions. This system makes Python programs more robust and prevents them from crashing due to common or unexpected errors."
      ],
      "metadata": {
        "id": "oKBPmGhOIIfk"
      }
    },
    {
      "cell_type": "markdown",
      "source": [
        "3) What is the purpose of the finally block in exception handling?\n",
        "\n",
        "ANS-The purpose of the finally block in Python exception handling is to define a section of code that always executes, no matter what happens in the try or except blocks. Whether an exception occurs or not, and whether it is handled or not, the code inside the finally block will run. This is especially useful for tasks like closing files, releasing resources, or cleaning up after a process—things that must be done regardless of whether an error occurred. By ensuring certain actions always happen, the finally block helps make programs more reliable and prevents resource leaks."
      ],
      "metadata": {
        "id": "pJk1BTFFIcij"
      }
    },
    {
      "cell_type": "markdown",
      "source": [
        "4) What is logging in Python?\n",
        "\n",
        "ANS-Logging in Python is the process of recording messages that describe events or errors during a program's execution. It helps developers track the flow of a program, detect bugs, and understand what happened before a problem occurred. Python provides a built-in logging module that allows you to log messages at different severity levels, such as DEBUG, INFO, WARNING, ERROR, and CRITICAL. Unlike print statements, logs can be easily directed to files, filtered by severity, and formatted for better readability. Logging is essential for debugging and maintaining larger applications, especially when you need to monitor them without constantly watching the screen."
      ],
      "metadata": {
        "id": "-E-6lU-hInQK"
      }
    },
    {
      "cell_type": "markdown",
      "source": [
        "5) What is the significance of the __del__ method in Python?\n",
        "\n",
        "ANS-The __del__ method in Python is a special method called a destructor. Its significance lies in its role of defining the cleanup behavior for an object when it is about to be destroyed by the garbage collector. When an object’s reference count drops to zero (meaning no variable is using it), Python automatically calls the __del__ method if it’s defined. This method is typically used to release external resources like files, network connections, or memory that the object may be using. However, relying heavily on __del__ is discouraged because its exact timing is uncertain, especially in complex programs. For more reliable cleanup, Python developers often use context managers (with statements) instead."
      ],
      "metadata": {
        "id": "tXCEYIwdIyBs"
      }
    },
    {
      "cell_type": "markdown",
      "source": [
        "6) What is the difference between import and from ... import in Python?\n",
        "\n",
        "ANS-In Python, the difference between import and from ... import lies in how they bring external code into your program and how you access it. When you use the import statement, you import the entire module, and you must use the module name to access its functions, classes, or variables. For example, import math allows you to use math.sqrt(16) to access the square root function. On the other hand, from ... import lets you import specific parts of a module directly into your program, so you don’t need the module name prefix. For instance, from math import sqrt lets you simply call sqrt(16). While import keeps your namespace cleaner and reduces the chance of naming conflicts, from ... import can make code shorter and easier to read when you only need a few items from a module."
      ],
      "metadata": {
        "id": "Q5hz_nFMI7iS"
      }
    },
    {
      "cell_type": "markdown",
      "source": [
        "7) How can you handle multiple exceptions in Python?\n",
        "\n",
        "ANS-In Python, multiple exceptions can be handled by using either separate except blocks for each exception type or a single except block with multiple exceptions grouped in a tuple. Using multiple except blocks allows the program to respond differently depending on the specific error, such as handling a ValueError separately from a ZeroDivisionError. Alternatively, if you want to handle several exceptions in the same way, you can group them using a tuple in a single except block, which simplifies the code when the response to each error is the same. Both methods help ensure the program can catch and respond appropriately to different kinds of runtime errors, making it more robust and user-friendly."
      ],
      "metadata": {
        "id": "sJRC-A2CJQsE"
      }
    },
    {
      "cell_type": "markdown",
      "source": [
        "8) What is the purpose of the with statement when handling files in Python?\n",
        "ANS-The purpose of the with statement when handling files in Python is to simplify file management and ensure that resources like file handles are properly cleaned up after use. When you open a file using with, Python automatically takes care of closing the file for you once the block of code is exited, even if an error occurs during file operations. This reduces the risk of forgetting to close a file manually, which can lead to data loss or resource leaks. The with statement makes the code cleaner, safer, and more readable by handling setup and teardown automatically through what’s called a context manager."
      ],
      "metadata": {
        "id": "HfdPR8UwJgGo"
      }
    },
    {
      "cell_type": "markdown",
      "source": [
        "9) What is the difference between multithreading and multiprocessing?\n",
        "\n",
        "ANS-The difference between multithreading and multiprocessing in Python lies in how tasks are executed concurrently and how system resources are used. Multithreading involves running multiple threads within a single process, sharing the same memory space. It is useful for I/O-bound tasks, like reading files or making network requests, where waiting time can be used to perform other operations. However, due to Python’s Global Interpreter Lock (GIL), only one thread can execute Python bytecode at a time, which limits true parallelism for CPU-bound tasks. On the other hand, multiprocessing runs multiple processes, each with its own memory space and Python interpreter. This allows true parallel execution and is ideal for CPU-bound tasks that need to use multiple cores efficiently. While multiprocessing can lead to better performance for heavy computations, it also uses more system resources and has more overhead than multithreading."
      ],
      "metadata": {
        "id": "QFeXaTtNJpBx"
      }
    },
    {
      "cell_type": "markdown",
      "source": [
        "10) What are the advantages of using logging in a program?\n",
        "\n",
        "ANS-The advantages of using logging in a Python program are numerous, especially for building reliable and maintainable applications. Logging allows you to track events, debug issues, and monitor the flow of execution without interrupting the program with print statements. It provides different log levels—such as DEBUG, INFO, WARNING, ERROR, and CRITICAL—so you can control the importance and detail of messages. You can also write logs to files, which is helpful for reviewing past events and diagnosing problems after deployment. Additionally, logging can be configured with timestamps, custom formats, and filters, making it easier to analyze behavior in complex systems. Overall, logging improves error tracking, performance analysis, and system auditing, making it a crucial tool in professional software development."
      ],
      "metadata": {
        "id": "OXt-wYlEJ0Zo"
      }
    },
    {
      "cell_type": "markdown",
      "source": [
        "11) What is memory management in Python?\n",
        "\n",
        "ANS-Memory management in Python refers to how Python handles the allocation, use, and release of memory during program execution. Python uses an automatic memory management system that includes a private heap space where all objects and data structures are stored. The key components of this system are reference counting and garbage collection. Reference counting keeps track of the number of references to each object in memory, and when an object’s reference count drops to zero, it becomes eligible for garbage collection. Python’s built-in garbage collector then automatically frees up memory by cleaning out objects that are no longer in use. Additionally, Python uses dynamic memory allocation, meaning it manages memory as needed at runtime, which helps optimize performance and reduce memory waste. This built-in memory management system helps developers write efficient code without manually allocating or deallocating memory, while still giving them control through tools like the gc module for advanced memory handling."
      ],
      "metadata": {
        "id": "t_FvKE8RJ-nx"
      }
    },
    {
      "cell_type": "markdown",
      "source": [
        "12) What are the basic steps involved in exception handling in Python?\n",
        "\n",
        "ANS-The basic steps involved in exception handling in Python are structured around using the try, except, else, and finally blocks to manage and respond to errors during program execution. First, you write the potentially error-prone code inside a try block. If an exception occurs, Python immediately stops executing the try block and looks for a matching except block to handle the error. You can have multiple except blocks to catch different types of exceptions. If no exception occurs, the optional else block (if present) will run. Regardless of whether an exception was raised or not, the finally block will always execute, making it ideal for cleanup tasks such as closing files or releasing resources. These structured steps allow a program to handle errors gracefully and continue running without crashing."
      ],
      "metadata": {
        "id": "pxQLjYntKID3"
      }
    },
    {
      "cell_type": "markdown",
      "source": [
        "13) Why is memory management important in Python?\n",
        "\n",
        "ANS-Memory management is important in Python because it ensures that programs use system memory efficiently and do not consume more resources than necessary. Good memory management helps prevent memory leaks, where unused objects stay in memory, and memory overflows, which can cause programs to crash. Python's automatic memory management—through reference counting and garbage collection—makes it easier for developers to write reliable code without worrying about manually allocating or freeing memory. Efficient memory use also improves a program’s performance, scalability, and stability, especially in long-running or resource-intensive applications. In short, proper memory management allows Python programs to run smoothly, avoid crashes, and make better use of hardware resources."
      ],
      "metadata": {
        "id": "l7UkLdL5KQrl"
      }
    },
    {
      "cell_type": "markdown",
      "source": [
        "14) What is the role of try and except in exception handling?\n",
        "\n",
        "ANS-The role of try and except in exception handling in Python is to manage and respond to errors that occur during program execution, without crashing the program. The try block contains code that might raise an exception—such as dividing by zero or converting an invalid string to a number. If an exception occurs inside the try block, Python immediately stops executing the rest of the block and jumps to the corresponding except block. The except block contains code to handle the specific error, such as displaying a message or taking corrective action. This structure allows programs to deal with unexpected situations gracefully and continue running instead of terminating abruptly."
      ],
      "metadata": {
        "id": "bguo0UM4KfJb"
      }
    },
    {
      "cell_type": "markdown",
      "source": [
        "15) How does Python's garbage collection system work?\n",
        "\n",
        "ANS-Python's garbage collection system works by automatically managing memory and cleaning up objects that are no longer in use, freeing memory for other operations. It primarily relies on reference counting, where each object keeps track of how many references point to it. When an object’s reference count drops to zero—meaning no part of the program is using it—Python automatically deletes it.\n",
        "\n",
        "However, reference counting alone can't handle circular references (when two or more objects reference each other). To solve this, Python also uses a cyclic garbage collector, which periodically searches for groups of objects that reference each other but are no longer reachable by the program. When such unreachable cycles are found, the garbage collector removes them.\n",
        "\n",
        "Python's garbage collection is mostly automatic and runs in the background, but developers can also interact with it using the gc module to control or monitor garbage collection manually. This system helps keep memory usage efficient without requiring the programmer to manage it directly."
      ],
      "metadata": {
        "id": "sjHmSSlpKtNE"
      }
    },
    {
      "cell_type": "markdown",
      "source": [
        "16) What is the purpose of the else block in exception handling?\n",
        "\n",
        "ANS-The purpose of the else block in exception handling in Python is to define a section of code that should run only if no exception occurs in the try block. While the except block handles errors and the finally block runs no matter what, the else block is specifically used for code that should execute after the try block succeeds, but before finally, if present. This helps keep error-handling code (except) separate from normal logic (else), making the program more readable and organized. For example, you can place code in the else block that depends on the successful execution of the try block—such as processing input or saving data—knowing it will only run when no exceptions were raised."
      ],
      "metadata": {
        "id": "_eAddfQdK4h4"
      }
    },
    {
      "cell_type": "markdown",
      "source": [
        "17) What are the common logging levels in Python?\n",
        "\n",
        "ANS-The common logging levels in Python represent the severity of events that occur during a program’s execution and help categorize messages for better monitoring and debugging. These levels, from lowest to highest severity, are:\n",
        "\n",
        "DEBUG – Used for detailed diagnostic information, typically useful only for developers while troubleshooting.\n",
        "\n",
        "INFO – Used to confirm that things are working as expected, such as successful execution steps or status updates.\n",
        "\n",
        "WARNING – Indicates something unexpected happened or a potential problem, but the program is still running normally.\n",
        "\n",
        "ERROR – Signals a serious issue that has caused a specific operation to fail.\n",
        "\n",
        "CRITICAL – Indicates a very severe error that may prevent the program from continuing to run.\n",
        "\n",
        "These logging levels allow developers to control the amount and type of information captured, helping with effective debugging, auditing, and maintenance of applications."
      ],
      "metadata": {
        "id": "L53uXIcPLBM2"
      }
    },
    {
      "cell_type": "markdown",
      "source": [
        "18) What is the difference between os.fork() and multiprocessing in Python?\n",
        "\n",
        "ANS-The difference between os.fork() and the multiprocessing module in Python lies in their level of abstraction, portability, and ease of use for creating new processes.\n",
        "\n",
        "os.fork() is a low-level system call available only on Unix-like systems (such as Linux and macOS). When called, it creates a new child process that is a copy of the current process. After the fork, both the parent and child continue executing the code independently. While powerful, os.fork() requires careful handling of shared resources and is not portable to Windows systems.\n",
        "\n",
        "On the other hand, Python’s multiprocessing module is a high-level, cross-platform library that provides an easier and safer way to create and manage separate processes. It handles the creation of processes, inter-process communication, synchronization, and more, abstracting away the complexities of fork() and offering better compatibility across operating systems, including Windows.\n",
        "\n",
        "In summary, os.fork() is faster and more direct but platform-dependent and complex, while multiprocessing is portable, user-friendly, and designed for writing robust multi-process applications in Python."
      ],
      "metadata": {
        "id": "CcCYjobcLMyS"
      }
    },
    {
      "cell_type": "markdown",
      "source": [
        "19) What is the importance of closing a file in Python?\n",
        "\n",
        "ANS-The importance of closing a file in Python lies in properly managing system resources and ensuring data integrity. When a file is opened, the operating system allocates resources like memory and file handles to manage that file. If you don’t close the file after you're done using it, those resources may remain locked or unavailable, which can lead to performance issues or even system-level file access errors in large programs or over time.\n",
        "\n",
        "Moreover, if you’re writing to a file, closing it ensures that all buffered data is actually written to disk. Without closing, there's a risk of losing data because changes might still be sitting in a temporary memory buffer. Python provides the close() method to manually close files, but using the with statement is preferred because it automatically closes the file, even if an error occurs. This makes the code cleaner and more reliable."
      ],
      "metadata": {
        "id": "vQCct3tVLWHK"
      }
    },
    {
      "cell_type": "markdown",
      "source": [
        "20) What is the difference between file.read() and file.readline() in Python?\n",
        "\n",
        "ANS-The difference between file.read() and file.readline() in Python lies in how much data they read from a file at a time.\n",
        "\n",
        "file.read() reads the entire contents of the file (or a specified number of bytes if an argument is given) into a single string. It’s useful when you want to process the whole file at once. However, it can consume a lot of memory if the file is large.\n",
        "\n",
        "On the other hand, file.readline() reads just one line from the file at a time, stopping at the newline character (\\n). It’s more memory-efficient and ideal for reading files line by line, especially when dealing with large files where you don’t want to load everything into memory all at once.\n",
        "\n",
        "In summary, file.read() is for reading the full content at once, while file.readline() is for reading the file incrementally, one line at a time."
      ],
      "metadata": {
        "id": "nkb1eOwELg8H"
      }
    },
    {
      "cell_type": "markdown",
      "source": [
        "21) What is the logging module in Python used for?\n",
        "\n",
        "ANS-The logging module in Python is used for recording messages that describe events happening during the execution of a program. It provides a flexible and standardized way to track errors, warnings, informational events, and debugging messages. Instead of using print statements, developers use logging to record messages at different severity levels—such as DEBUG, INFO, WARNING, ERROR, and CRITICAL—which helps in identifying the nature and seriousness of events.\n",
        "\n",
        "The module also allows logging messages to be sent to various outputs, such as the console, log files, or external systems, with customizable formatting and filtering. This makes it an essential tool for debugging, monitoring, and maintaining applications, especially in larger or production-level software where tracking program behavior is critical."
      ],
      "metadata": {
        "id": "u2JLwSooLq1x"
      }
    },
    {
      "cell_type": "markdown",
      "source": [
        "22) What is the os module in Python used for in file handling?\n",
        "\n",
        "ANS-The os module in Python is used in file handling to interact with the operating system and perform various file and directory operations. It provides functions to create, delete, rename, and move files and directories, as well as to navigate the file system, such as changing the current working directory or listing directory contents. Common functions include os.remove() to delete a file, os.rename() to rename a file or folder, os.mkdir() and os.makedirs() to create directories, and os.path utilities like os.path.exists() and os.path.join() to handle paths in a platform-independent way. The os module is essential for writing file-handling scripts that work reliably across different operating systems."
      ],
      "metadata": {
        "id": "s4xtpxBnLzz0"
      }
    },
    {
      "cell_type": "markdown",
      "source": [
        "23) What are the challenges associated with memory management in Python?\n",
        "\n",
        "ANS-The challenges associated with memory management in Python mainly stem from its automatic and dynamic nature, which, while convenient, can sometimes lead to inefficiencies or hidden issues. One key challenge is memory leaks, which occur when objects are unintentionally kept alive due to lingering references, often in complex data structures or closures. Another issue is circular references, where two or more objects reference each other, preventing their cleanup through simple reference counting. Although Python’s garbage collector can handle cycles, it doesn't always collect everything immediately, leading to unpredictable memory usage in some scenarios.\n",
        "\n",
        "Additionally, Python’s Global Interpreter Lock (GIL) can limit memory efficiency in multithreaded programs by restricting concurrent execution of threads, which can cause poor memory sharing in CPU-bound tasks. Developers may also face difficulties optimizing memory usage when handling large datasets or long-running processes, especially without careful profiling or use of memory-efficient data structures. While Python hides much of the low-level memory handling, understanding these challenges is important for building high-performance and scalable applications."
      ],
      "metadata": {
        "id": "PlylIgglL8C9"
      }
    },
    {
      "cell_type": "markdown",
      "source": [
        "24)  How do you raise an exception manually in Python?\n",
        "\n",
        "ANS-In Python, you can raise an exception manually using the raise keyword followed by an exception type or instance. This is typically done when you want to enforce certain conditions in your code and signal an error when those conditions are not met. For example, if a function receives an invalid input, you might raise a ValueError with a custom message to indicate the problem. The syntax is straightforward—raise ValueError(\"Invalid input\")—and when executed, it stops the program at that point unless the exception is caught using a try-except block. You can also define and raise custom exceptions by creating a new class that inherits from Python’s built-in Exception class. Raising exceptions manually is an important part of writing robust and defensive code, as it helps clearly communicate what went wrong and where."
      ],
      "metadata": {
        "id": "VFcOHoEmMFLm"
      }
    },
    {
      "cell_type": "markdown",
      "source": [
        "25) Why is it important to use multithreading in certain applications?\n",
        "\n",
        "ANS-Multithreading is important in certain applications because it allows multiple tasks to run concurrently within a single process, improving the efficiency and responsiveness of programs. This is especially valuable in I/O-bound applications—like web servers, network tools, or programs that wait for user input or read/write files—where threads can continue working while others are waiting for external operations to complete. By overlapping tasks, multithreading can make better use of system resources and reduce idle time.\n",
        "\n",
        "Additionally, in GUI applications, multithreading keeps the user interface responsive while background operations like loading data or performing calculations continue in separate threads. Although Python’s Global Interpreter Lock (GIL) limits true parallelism for CPU-bound tasks, multithreading still provides a practical way to handle concurrent I/O tasks efficiently, making it a valuable tool in real-world programming scenarios."
      ],
      "metadata": {
        "id": "-jfdM2UGMSXS"
      }
    },
    {
      "cell_type": "markdown",
      "source": [
        "#Practical Questions"
      ],
      "metadata": {
        "id": "bFSz8664Mc4U"
      }
    },
    {
      "cell_type": "markdown",
      "source": [
        "1) How can you open a file for writing in Python and write a string to it?\n",
        "\n",
        "ANS-"
      ],
      "metadata": {
        "id": "0NRHMLHBMi5b"
      }
    },
    {
      "cell_type": "code",
      "source": [
        "with open(\"example.txt\", \"w\") as file:\n",
        "    file.write(\"Hello, this is a line of text.\")"
      ],
      "metadata": {
        "id": "xulIcNlnMq8u"
      },
      "execution_count": null,
      "outputs": []
    },
    {
      "cell_type": "markdown",
      "source": [
        "2) Write a Python program to read the contents of a file and print each line?\n",
        "\n",
        "ANS-"
      ],
      "metadata": {
        "id": "UiJWAWo8M11f"
      }
    },
    {
      "cell_type": "code",
      "source": [
        "with open(\"example.txt\", \"r\") as file:\n",
        "    for line in file:\n",
        "        print(line.strip())"
      ],
      "metadata": {
        "id": "wnTahUyrNDcf"
      },
      "execution_count": null,
      "outputs": []
    },
    {
      "cell_type": "markdown",
      "source": [
        "3) How would you handle a case where the file doesn't exist while trying to open it for reading?\n",
        "\n",
        "ANS-"
      ],
      "metadata": {
        "id": "ClMzX7yONXSd"
      }
    },
    {
      "cell_type": "code",
      "source": [
        "try:\n",
        "    with open(\"nonexistent_file.txt\", \"r\") as file:\n",
        "        for line in file:\n",
        "            print(line)\n",
        "except FileNotFoundError:\n",
        "    print(\"The file does not exist.\")"
      ],
      "metadata": {
        "id": "UKdNFaZXNeQ5"
      },
      "execution_count": null,
      "outputs": []
    },
    {
      "cell_type": "markdown",
      "source": [
        "4) Write a Python script that reads from one file and writes its content to another file?\n",
        "\n",
        "ANS-"
      ],
      "metadata": {
        "id": "tFMl4Z6QNoBn"
      }
    },
    {
      "cell_type": "code",
      "source": [
        "with open(\"source.txt\", \"r\") as source_file:\n",
        "    content = source_file.read()\n",
        "\n",
        "with open(\"destination.txt\", \"w\") as destination_file:\n",
        "    destination_file.write(content)"
      ],
      "metadata": {
        "id": "xYtROvDFNurz"
      },
      "execution_count": null,
      "outputs": []
    },
    {
      "cell_type": "markdown",
      "source": [
        "5) How would you catch and handle division by zero error in Python?\n",
        "\n",
        "ANS-"
      ],
      "metadata": {
        "id": "DOeXzkcFN2Ty"
      }
    },
    {
      "cell_type": "code",
      "source": [
        "try:\n",
        "    result = 10 / 0\n",
        "    print(result)\n",
        "except ZeroDivisionError:\n",
        "    print(\"Error: Division by zero is not allowed.\")"
      ],
      "metadata": {
        "id": "vocUeZO_N71z"
      },
      "execution_count": null,
      "outputs": []
    },
    {
      "cell_type": "markdown",
      "source": [
        "6) Write a Python program that logs an error message to a log file when a division by zero exception occurs?\n",
        "\n",
        "ANS-"
      ],
      "metadata": {
        "id": "zsf7sqgcOBTD"
      }
    },
    {
      "cell_type": "code",
      "source": [
        "import logging\n",
        "\n",
        "logging.basicConfig(filename='error.log', level=logging.ERROR)\n",
        "\n",
        "try:\n",
        "    result = 10 / 0\n",
        "    print(result)\n",
        "except ZeroDivisionError as e:\n",
        "    logging.error(\"Division by zero error occurred: %s\", e)"
      ],
      "metadata": {
        "id": "gxPUor76OJ2O"
      },
      "execution_count": null,
      "outputs": []
    },
    {
      "cell_type": "markdown",
      "source": [
        "7) How do you log information at different levels (INFO, ERROR, WARNING) in Python using the logging module?\n",
        "\n",
        "ANS-"
      ],
      "metadata": {
        "id": "UTt-Tbg_OQj3"
      }
    },
    {
      "cell_type": "code",
      "source": [
        "import logging\n",
        "\n",
        "logging.basicConfig(filename='app.log', level=logging.DEBUG)\n",
        "\n",
        "logging.info(\"This is an info message.\")\n",
        "logging.warning(\"This is a warning message.\")\n",
        "logging.error(\"This is an error message.\")"
      ],
      "metadata": {
        "id": "57kTsyyCOc8d"
      },
      "execution_count": null,
      "outputs": []
    },
    {
      "cell_type": "markdown",
      "source": [
        "8) Write a program to handle a file opening error using exception handling?\n",
        "\n",
        "ANS-"
      ],
      "metadata": {
        "id": "Dm1V7fK1Ogi6"
      }
    },
    {
      "cell_type": "code",
      "source": [
        "try:\n",
        "    with open(\"nonexistent_file.txt\", \"r\") as file:\n",
        "        content = file.read()\n",
        "        print(content)\n",
        "except FileNotFoundError:\n",
        "    print(\"Error: The file could not be found.\")"
      ],
      "metadata": {
        "id": "lIiTFLzfOnJl"
      },
      "execution_count": null,
      "outputs": []
    },
    {
      "cell_type": "markdown",
      "source": [
        "9) How can you read a file line by line and store its content in a list in Python?\n",
        "\n",
        "ANS-"
      ],
      "metadata": {
        "id": "gGGQ5QXpOsoQ"
      }
    },
    {
      "cell_type": "code",
      "source": [
        "with open(\"example.txt\", \"r\") as file: lines = file.readlines()"
      ],
      "metadata": {
        "id": "ahVhJMfNPAP0"
      },
      "execution_count": null,
      "outputs": []
    },
    {
      "cell_type": "markdown",
      "source": [
        "10) How can you append data to an existing file in Python?\n",
        "\n",
        "ANS-"
      ],
      "metadata": {
        "id": "2Cl3dIIHPBhe"
      }
    },
    {
      "cell_type": "code",
      "source": [
        "with open(\"example.txt\", \"a\") as file:\n",
        "    file.write(\"This is a new line of text.\\n\")"
      ],
      "metadata": {
        "id": "WKZrqqyKPHO6"
      },
      "execution_count": null,
      "outputs": []
    },
    {
      "cell_type": "markdown",
      "source": [
        "11) Write a Python program that uses a try-except block to handle an error when attempting to access a\n",
        "dictionary key that doesn't exist?\n",
        "\n",
        "ANS-"
      ],
      "metadata": {
        "id": "InG3ANbDPN3O"
      }
    },
    {
      "cell_type": "code",
      "source": [
        "my_dict = {\"name\": \"Alice\", \"age\": 25}\n",
        "\n",
        "try:\n",
        "    value = my_dict[\"address\"]\n",
        "    print(value)\n",
        "except KeyError:\n",
        "    print(\"Error: The key 'address' does not exist in the dictionary.\")"
      ],
      "metadata": {
        "id": "2coivzPKPW-o"
      },
      "execution_count": null,
      "outputs": []
    },
    {
      "cell_type": "markdown",
      "source": [
        "12) Write a program that demonstrates using multiple except blocks to handle different types of exceptions?\n",
        "\n",
        "ANS-"
      ],
      "metadata": {
        "id": "BQZ8q3BCPpkP"
      }
    },
    {
      "cell_type": "code",
      "source": [
        "try:\n",
        "    num = int(input(\"Enter a number: \"))\n",
        "    result = 10 / num\n",
        "    print(\"Result:\", result)\n",
        "except ValueError:\n",
        "    print(\"Error: Invalid input. Please enter a valid number.\")\n",
        "except ZeroDivisionError:\n",
        "    print(\"Error: Cannot divide by zero.\")\n",
        "except Exception as e:\n",
        "    print(\"An unexpected error occurred:\", e)"
      ],
      "metadata": {
        "id": "87PKbLsnPv5l"
      },
      "execution_count": null,
      "outputs": []
    },
    {
      "cell_type": "markdown",
      "source": [
        "13) How would you check if a file exists before attempting to read it in Python?\n",
        "\n",
        "ANS-"
      ],
      "metadata": {
        "id": "y9AAWJ_YP1pM"
      }
    },
    {
      "cell_type": "code",
      "source": [
        "import os\n",
        "\n",
        "if os.path.exists(\"example.txt\"):\n",
        "    with open(\"example.txt\", \"r\") as file:\n",
        "        content = file.read()\n",
        "        print(content)\n",
        "else:\n",
        "    print(\"The file does not exist.\")"
      ],
      "metadata": {
        "id": "iyQtygEfP9lm"
      },
      "execution_count": null,
      "outputs": []
    },
    {
      "cell_type": "markdown",
      "source": [
        "14) Write a program that uses the logging module to log both informational and error messages?\n",
        "\n",
        "ANS-"
      ],
      "metadata": {
        "id": "Lc6C_xa5QFMo"
      }
    },
    {
      "cell_type": "code",
      "source": [
        "import logging\n",
        "\n",
        "logging.basicConfig(filename='app.log', level=logging.DEBUG, format='%(asctime)s - %(levelname)s - %(message)s')\n",
        "\n",
        "logging.info(\"This is an informational message.\")\n",
        "logging.error(\"This is an error message.\")"
      ],
      "metadata": {
        "id": "I3U9DeRKQMQc"
      },
      "execution_count": null,
      "outputs": []
    },
    {
      "cell_type": "markdown",
      "source": [
        "15) Write a Python program that prints the content of a file and handles the case when the file is empty?\n",
        "\n",
        "ANS-"
      ],
      "metadata": {
        "id": "5cZeCxOXQWyd"
      }
    },
    {
      "cell_type": "code",
      "source": [
        "try:\n",
        "    with open(\"example.txt\", \"r\") as file:\n",
        "        content = file.read()\n",
        "        if content:\n",
        "            print(content)\n",
        "        else:\n",
        "            print(\"The file is empty.\")\n",
        "except FileNotFoundError:\n",
        "    print(\"The file does not exist.\")"
      ],
      "metadata": {
        "id": "1gq-MTdvQga-"
      },
      "execution_count": null,
      "outputs": []
    },
    {
      "cell_type": "markdown",
      "source": [
        "16) Demonstrate how to use memory profiling to check the memory usage of a small program?\n",
        "\n",
        "ANS-"
      ],
      "metadata": {
        "id": "rOBP57nCQql_"
      }
    },
    {
      "cell_type": "code",
      "source": [
        "from memory_profiler import profile\n",
        "\n",
        "@profile\n",
        "def my_function():\n",
        "    a = [i for i in range(100000)]\n",
        "    b = [i*i for i in range(100000)]\n",
        "    return a, b\n",
        "\n",
        "if __name__ == \"__main__\":\n",
        "    my_function()"
      ],
      "metadata": {
        "id": "hFJavWCVQnAm"
      },
      "execution_count": null,
      "outputs": []
    },
    {
      "cell_type": "markdown",
      "source": [
        "17) Write a Python program to create and write a list of numbers to a file, one number per line?\n",
        "\n",
        "ANS-"
      ],
      "metadata": {
        "id": "9QqtcHeZQ7CS"
      }
    },
    {
      "cell_type": "code",
      "source": [
        "numbers = [1, 2, 3, 4, 5]\n",
        "\n",
        "with open(\"numbers.txt\", \"w\") as file:\n",
        "    for number in numbers:\n",
        "        file.write(f\"{number}\\n\")"
      ],
      "metadata": {
        "id": "CkrrMAtuRBaT"
      },
      "execution_count": null,
      "outputs": []
    },
    {
      "cell_type": "markdown",
      "source": [
        "18) How would you implement a basic logging setup that logs to a file with rotation after 1MB?\n",
        "\n",
        "ANS-"
      ],
      "metadata": {
        "id": "iMGvjHcDRFYF"
      }
    },
    {
      "cell_type": "code",
      "source": [
        "import logging\n",
        "from logging.handlers import RotatingFileHandler\n",
        "\n",
        "logger = logging.getLogger(\"MyLogger\")\n",
        "logger.setLevel(logging.DEBUG)\n",
        "\n",
        "handler = RotatingFileHandler(\"app.log\", maxBytes=1_000_000, backupCount=3)\n",
        "formatter = logging.Formatter('%(asctime)s - %(levelname)s - %(message)s')\n",
        "handler.setFormatter(formatter)\n",
        "\n",
        "logger.addHandler(handler)\n",
        "\n",
        "logger.info(\"This is an info message.\")\n",
        "logger.error(\"This is an error message.\")"
      ],
      "metadata": {
        "id": "VoHBN_lFRPLv"
      },
      "execution_count": null,
      "outputs": []
    },
    {
      "cell_type": "markdown",
      "source": [
        "19) Write a program that handles both IndexError and KeyError using a try-except block?\n",
        "\n",
        "ANS-"
      ],
      "metadata": {
        "id": "MG0OEp2tRUDW"
      }
    },
    {
      "cell_type": "code",
      "source": [
        "my_list = [1, 2, 3]\n",
        "my_dict = {\"a\": 10, \"b\": 20}\n",
        "\n",
        "try:\n",
        "    print(my_list[5])        # May raise IndexError\n",
        "    print(my_dict[\"c\"])      # May raise KeyError\n",
        "except IndexError:\n",
        "    print(\"Error: List index out of range.\")\n",
        "except KeyError:\n",
        "    print(\"Error: Key not found in dictionary.\")"
      ],
      "metadata": {
        "id": "ZgoMQikTRZmC"
      },
      "execution_count": null,
      "outputs": []
    },
    {
      "cell_type": "markdown",
      "source": [
        "20) How would you open a file and read its contents using a context manager in Python?\n",
        "\n",
        "ANS-"
      ],
      "metadata": {
        "id": "oze_7JK4ReAM"
      }
    },
    {
      "cell_type": "code",
      "source": [
        "with open(\"example.txt\", \"r\") as file:\n",
        "    content = file.read()\n",
        "    print(content)"
      ],
      "metadata": {
        "id": "ky82gmtHRdcL"
      },
      "execution_count": null,
      "outputs": []
    },
    {
      "cell_type": "markdown",
      "source": [
        "21) Write a Python program that reads a file and prints the number of occurrences of a specific word?\n",
        "\n",
        "ANS-"
      ],
      "metadata": {
        "id": "-x-905TIRp98"
      }
    },
    {
      "cell_type": "code",
      "source": [
        "word_to_count = \"python\"\n",
        "count = 0\n",
        "\n",
        "with open(\"example.txt\", \"r\") as file:\n",
        "    for line in file:\n",
        "        words = line.lower().split()\n",
        "        count += words.count(word_to_count.lower())\n",
        "\n",
        "print(f\"The word '{word_to_count}' occurs {count} times in the file.\")"
      ],
      "metadata": {
        "id": "Sb5eXr1vRpgz"
      },
      "execution_count": null,
      "outputs": []
    },
    {
      "cell_type": "markdown",
      "source": [
        "22) How can you check if a file is empty before attempting to read its contents?\n",
        "\n",
        "ANS-"
      ],
      "metadata": {
        "id": "qmnVz3Y1R3tr"
      }
    },
    {
      "cell_type": "code",
      "source": [
        "import os\n",
        "\n",
        "file_path = \"example.txt\"\n",
        "\n",
        "if os.path.getsize(file_path) > 0:\n",
        "    with open(file_path, \"r\") as file:\n",
        "        content = file.read()\n",
        "        print(content)\n",
        "else:\n",
        "    print(\"The file is empty.\")"
      ],
      "metadata": {
        "id": "fCj8yN2mR-WD"
      },
      "execution_count": null,
      "outputs": []
    },
    {
      "cell_type": "markdown",
      "source": [
        "23) Write a Python program that writes to a log file when an error occurs during file handling.\n",
        "\n",
        "ANS-"
      ],
      "metadata": {
        "id": "sNC8FcVjSBti"
      }
    },
    {
      "cell_type": "code",
      "source": [
        "import logging\n",
        "\n",
        "logging.basicConfig(filename='file_errors.log', level=logging.ERROR,\n",
        "                    format='%(asctime)s - %(levelname)s - %(message)s')\n",
        "\n",
        "try:\n",
        "    with open(\"nonexistent_file.txt\", \"r\") as file:\n",
        "        content = file.read()\n",
        "except Exception as e:\n",
        "    logging.error(\"An error occurred during file handling: %s\", e)"
      ],
      "metadata": {
        "id": "v5x6JelgSHzW"
      },
      "execution_count": null,
      "outputs": []
    }
  ]
}