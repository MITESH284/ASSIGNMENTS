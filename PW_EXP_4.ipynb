{
  "nbformat": 4,
  "nbformat_minor": 0,
  "metadata": {
    "colab": {
      "provenance": [],
      "collapsed_sections": [
        "IiXuPmWFDV6r",
        "XU7Nw1O63zyA"
      ]
    },
    "kernelspec": {
      "name": "python3",
      "display_name": "Python 3"
    },
    "language_info": {
      "name": "python"
    }
  },
  "cells": [
    {
      "cell_type": "markdown",
      "source": [
        "#Python OOPs Questions"
      ],
      "metadata": {
        "id": "IiXuPmWFDV6r"
      }
    },
    {
      "cell_type": "markdown",
      "source": [
        "1) What is Object-Oriented Programming (OOP)?\n",
        "\n",
        "ANS-Object-Oriented Programming (OOP) is a way of writing and organizing computer programs using “objects.” These objects are like real-life things that have properties (like color or size) and can do actions (like move or speak). In OOP, we use classes to create these objects. A class is like a blueprint, and objects are built from that blueprint. OOP helps make code easier to understand, reuse, and fix by keeping related data and actions together. The four main ideas in OOP are: encapsulation (keeping data safe inside an object), inheritance (one class can use things from another class), polymorphism (objects can take many forms or do the same action in different ways), and abstraction (hiding complex details to show only what's needed)."
      ],
      "metadata": {
        "id": "9GJP14ePDYLv"
      }
    },
    {
      "cell_type": "markdown",
      "source": [
        "2) What is a class in OOP?\n",
        "\n",
        "ANS-In Object-Oriented Programming (OOP), a class is like a blueprint or plan used to create objects. It defines what the object will be like by listing its properties (called attributes) and the actions it can do (called methods). For example, if you have a class called \"Car,\" it might have properties like color and speed, and actions like drive or stop. You can then use this class to make many car objects, each with their own details. So, a class helps organize code and makes it easier to create and manage similar objects."
      ],
      "metadata": {
        "id": "uVnIFM-iDydF"
      }
    },
    {
      "cell_type": "markdown",
      "source": [
        "3) What is an object in OOP?\n",
        "\n",
        "ANS-In Object-Oriented Programming (OOP), an object is a real thing created from a class. If a class is like a blueprint, then an object is the actual thing built from it. For example, if you have a class called “Dog,” you can create objects like a brown dog named Max or a black dog named Bella. Each object has its own values for the properties (like name or color) and can do actions defined in the class (like bark or run). So, an object is a working version of a class with real data."
      ],
      "metadata": {
        "id": "t9DAWNjDD7Yi"
      }
    },
    {
      "cell_type": "markdown",
      "source": [
        "4) What is the difference between abstraction and encapsulation?\n",
        "\n",
        "ANS-Abstraction and encapsulation are both important ideas in Object-Oriented Programming, but they are different. Abstraction means hiding the complex parts of code and only showing what is needed. For example, when you drive a car, you don’t need to know how the engine works—just how to use the steering wheel and pedals. Encapsulation means keeping data and methods (actions) inside one unit, like a class, and protecting it from outside changes. It’s like putting important parts of a machine in a box so no one can mess with them directly. So, abstraction hides complexity, and encapsulation hides data to keep it safe."
      ],
      "metadata": {
        "id": "_kxmCoT1ED2e"
      }
    },
    {
      "cell_type": "markdown",
      "source": [
        "5) What are dunder methods in Python?\n",
        "\n",
        "ANS-Dunder methods in Python are special methods that start and end with double underscores (that's why they’re called “dunder,” short for double underscore). They are used to make objects work in certain ways, like built-in types. For example, __init__ is a dunder method that runs when you create a new object, and __str__ defines how the object looks when printed. Another example is __add__, which lets you use the + sign between two objects. These methods help make your classes behave like regular Python types, and Python calls them automatically in certain situations."
      ],
      "metadata": {
        "id": "xBBeMwU_EPJL"
      }
    },
    {
      "cell_type": "markdown",
      "source": [
        "6) Explain the concept of inheritance in OOP?\n",
        "\n",
        "ANS-Inheritance in Object-Oriented Programming (OOP) is a way for one class (called the child or subclass) to get features from another class (called the parent or superclass). This means the child class can use the properties and methods of the parent class without rewriting them. For example, if you have a parent class called “Animal” with a method “eat,” and a child class called “Dog,” the Dog class will automatically have the “eat” method too. Inheritance helps make code shorter, easier to manage, and allows reuse of existing code."
      ],
      "metadata": {
        "id": "L9hA74AQEZvX"
      }
    },
    {
      "cell_type": "markdown",
      "source": [
        "7) What is polymorphism in OOP?\n",
        "\n",
        "ANS-Polymorphism in Object-Oriented Programming (OOP) means that the same action or method can work in different ways depending on the object using it. For example, if different classes like “Dog” and “Cat” both have a method called make_sound(), the Dog might bark and the Cat might meow—but you can call make_sound() the same way for both. This makes it easier to write flexible and reusable code, because you don’t need to know exactly what type of object you’re working with—you just use the method, and it behaves the right way for that object."
      ],
      "metadata": {
        "id": "WMgtZvVHElTy"
      }
    },
    {
      "cell_type": "markdown",
      "source": [
        "8) How is encapsulation achieved in Python?\n",
        "\n",
        "ANS-Encapsulation in Python is achieved by keeping the data (variables) and methods (functions) inside a class and controlling access to them. You can make variables private by starting their name with an underscore _ (protected) or double underscore __ (private). This tells other programmers not to change them directly. Instead, you use getter and setter methods to safely get or change the values. For example, you might have a method called get_balance() to see the balance and set_balance() to update it. This helps protect the data and keeps the class in control of how it is used."
      ],
      "metadata": {
        "id": "Iq6M82EZE3fI"
      }
    },
    {
      "cell_type": "markdown",
      "source": [
        "9) What is a constructor in Python?\n",
        "\n",
        "ANS-A constructor in Python is a special method used to create and set up a new object when a class is called. It’s named __init__() and runs automatically when you make a new object from a class. The constructor lets you give starting values to the object’s variables. For example, in a class called Person, the constructor might set the person’s name and age when you create the object. It helps make sure every object begins with the right data."
      ],
      "metadata": {
        "id": "dkPLxB15FCBN"
      }
    },
    {
      "cell_type": "markdown",
      "source": [
        "10) What are class and static methods in Python?\n",
        "\n",
        "ANS-In Python, class methods and static methods are special types of methods that belong to a class, not just to one object. A class method uses @classmethod and takes cls as its first parameter, which means it works with the class itself, not a specific object. You can use it to change class-level data or create new objects. A static method uses @staticmethod and doesn’t take self or cls. It doesn’t use any class or object data—it’s just a regular function placed inside a class for better organization. Both are useful when you want to group related code inside a class without always working on one object."
      ],
      "metadata": {
        "id": "mdzhuUF3F2Jv"
      }
    },
    {
      "cell_type": "markdown",
      "source": [
        "11) What is method overloading in Python?\n",
        "\n",
        "ANS-Method overloading in Python means creating multiple methods with the same name but different numbers or types of inputs. However, unlike some other languages, Python does not support true method overloading directly. If you define the same method name more than once in a class, the last one will replace the others. But you can simulate overloading by using default arguments or *args and **args to accept different types or numbers of inputs. This way, one method can handle many cases based on what is passed to it. So, while Python doesn't have built-in method overloading, it can still be done in a flexible way."
      ],
      "metadata": {
        "id": "H3kmyse8GPbo"
      }
    },
    {
      "cell_type": "markdown",
      "source": [
        "12) What is method overriding in OOP?\n",
        "\n",
        "ANS-Method overriding in Object-Oriented Programming (OOP) happens when a child class (subclass) defines a method with the same name as a method in its parent class (superclass). This allows the child class to change or customize how the method works. When the method is called on an object of the child class, Python uses the child’s version, not the parent’s. For example, if a parent class has a method called speak() and the child class has its own speak() method, the child’s method will run when called. Method overriding helps make code more flexible and allows subclasses to behave differently from their parent classes."
      ],
      "metadata": {
        "id": "fFQixyWHGaow"
      }
    },
    {
      "cell_type": "markdown",
      "source": [
        "13) What is a property decorator in Python?\n",
        "\n",
        "ANS-In Python, a property decorator is used to turn a method into a special kind of attribute, so you can access it like a variable but still run code in the background. It uses @property above a method. This is helpful when you want to control access to a value—like calculating it, checking it, or hiding how it works—while letting users of your class get it in a simple way. You can also use @<property_name>.setter to let the value be updated with rules, and @<property_name>.deleter to delete it safely. So, the property decorator makes your class cleaner and smarter by combining methods with variable-like access."
      ],
      "metadata": {
        "id": "g9QteKWvGny_"
      }
    },
    {
      "cell_type": "markdown",
      "source": [
        "14) Why is polymorphism important in OOP?\n",
        "\n",
        "ANS-Polymorphism is important in Object-Oriented Programming (OOP) because it makes code more flexible, reusable, and easier to work with. It lets you use the same method name or action for different types of objects, and each object can do that action in its own way. For example, if different classes like “Bird” and “Fish” both have a method called move(), the bird can fly and the fish can swim, but you can call move() the same way for both. This means you can write code that works with many types of objects without needing to know their exact class. Polymorphism helps keep programs simple, organized, and easier to update or expand later."
      ],
      "metadata": {
        "id": "1wOhQhkkG1pA"
      }
    },
    {
      "cell_type": "markdown",
      "source": [
        "15) What is an abstract class in Python?\n",
        "\n",
        "ANS-An abstract class in Python is a class that cannot be used to make objects directly. It is like a base or template for other classes. It can have normal methods and also abstract methods, which are methods without any code inside them—they just define a name and must be written in any child class. To create an abstract class, you use the ABC module and the @abstractmethod decorator. Abstract classes help make sure that all child classes follow a certain structure by forcing them to implement specific methods. This is useful when you want different classes to share common rules or behaviors."
      ],
      "metadata": {
        "id": "A3y5ISk0G-6z"
      }
    },
    {
      "cell_type": "markdown",
      "source": [
        "16) What are the advantages of OOP?\n",
        "\n",
        "ANS-The advantages of Object-Oriented Programming (OOP) are that it helps make code easier to manage, reuse, and understand. First, OOP uses classes and objects, which organize code in a clean way. Encapsulation keeps data safe by hiding it inside classes. Inheritance lets you reuse code from one class in another, saving time. Polymorphism allows the same method name to work differently for different objects, making code flexible. Abstraction hides complex details and shows only what’s needed. Overall, OOP makes programs easier to build, test, update, and grow, especially for big or complex projects."
      ],
      "metadata": {
        "id": "QoQjw2fIHJJe"
      }
    },
    {
      "cell_type": "markdown",
      "source": [
        "17) What is the difference between a class variable and an instance variable?\n",
        "\n",
        "ANS-The difference between a class variable and an instance variable in Python is about where the data is stored and shared. A class variable is shared by all objects of the class. If you change it, the change affects every object. It is defined inside the class but outside any method. An instance variable, on the other hand, is unique to each object. It is usually set inside the __init__() method using self, like self.name. Changing one object’s instance variable does not affect others. So, class variables are shared, and instance variables are personal to each object."
      ],
      "metadata": {
        "id": "tIeWxVm1HV_E"
      }
    },
    {
      "cell_type": "markdown",
      "source": [
        "18) What is multiple inheritance in Python?\n",
        "\n",
        "ANS-Multiple inheritance in Python means that a class can inherit from more than one parent class at the same time. This allows the child class to use features (like methods and variables) from all its parent classes. For example, if you have two classes Teacher and Coach, a new class SportsTeacher can inherit from both to get the abilities of teaching and coaching. Python handles this using something called the Method Resolution Order (MRO), which decides the order in which methods are looked up. Multiple inheritance can be powerful, but it should be used carefully to avoid confusion or conflicts between parent classes."
      ],
      "metadata": {
        "id": "TonY1rKhHhQv"
      }
    },
    {
      "cell_type": "markdown",
      "source": [
        "19) Explain the purpose of ‘’__str__’ and ‘__repr__’ ‘ methods in Python?\n",
        "\n",
        "ANS-In Python, the __str__ and __repr__ methods are special (dunder) methods used to define how an object looks when you print it or inspect it.\n",
        "\n",
        "__str__ is meant to return a user-friendly string. It’s used when you call print() on an object. For example, it might return something simple like \"Car: Toyota\" so it's easy to read.\n",
        "\n",
        "__repr__ is meant for developers and debugging. It should return a string that shows how to recreate the object if possible, like Car('Toyota', 2020). It’s used when you type the object name in the Python shell or use repr().\n",
        "\n",
        "If __str__ is not defined, Python will use __repr__ as a backup. So, __str__ is for readable output, and __repr__ is for detailed, unambiguous output."
      ],
      "metadata": {
        "id": "p6Mx3BkrHuXa"
      }
    },
    {
      "cell_type": "markdown",
      "source": [
        "20) What is the significance of the ‘super()’ function in Python?\n",
        "\n",
        "ANS-The super() function in Python is used to call methods from a parent class in a child class. It is especially useful when you are working with inheritance. For example, if a child class has its own __init__() method but you also want to run the parent class’s __init__(), you can use super().__init__(). This makes sure the parent’s setup is not skipped. super() helps avoid repeating code and makes it easier to manage changes, especially in programs with multiple inheritance. So, the main purpose of super() is to help you reuse parent class code safely and clearly."
      ],
      "metadata": {
        "id": "2IezHRN9H8ui"
      }
    },
    {
      "cell_type": "markdown",
      "source": [
        "21) What is the significance of the __del__ method in Python?\n",
        "\n",
        "ANS-The __del__ method in Python is a special method called a destructor. It runs automatically when an object is about to be deleted from memory. You can use __del__ to clean up things like closing a file, releasing a network connection, or printing a message when the object is destroyed. However, it’s not used very often because Python has a garbage collector that handles memory cleanup automatically. Also, relying too much on __del__ can cause problems if objects are deleted in an unexpected order. So, while __del__ can be useful for cleanup, it should be used carefully and only when truly needed."
      ],
      "metadata": {
        "id": "QgqvVUiiIHVy"
      }
    },
    {
      "cell_type": "markdown",
      "source": [
        "22) What is the difference between @staticmethod and @classmethod in Python?\n",
        "\n",
        "ANS-The difference between @staticmethod and @classmethod in Python is how they interact with the class.\n",
        "\n",
        "A @staticmethod does not take self or cls as the first argument. It doesn’t know anything about the class or object—it’s just a regular function placed inside a class for better organization. You use it when the method doesn’t need to access class or instance data.\n",
        "\n",
        "A @classmethod takes cls as the first argument, which means it knows about the class and can change class-level data or create new instances. It is used when you want a method to work with the class itself, not just an object."
      ],
      "metadata": {
        "id": "glPbWKADImfu"
      }
    },
    {
      "cell_type": "markdown",
      "source": [
        "23) How does polymorphism work in Python with inheritance?\n",
        "\n",
        "ANS-In Python, polymorphism with inheritance works by allowing child classes to have their own versions of methods that are also defined in the parent class. This means you can use the same method name across different classes, and Python will automatically call the correct version based on the object type.\n",
        "\n",
        "For example, if a parent class called Animal has a method speak(), and two child classes Dog and Cat each have their own speak() method, you can write code that calls speak() on an Animal object—and Python will use the correct method depending on whether the object is a Dog or a Cat. This makes code more flexible, since you can use a single interface for different types of objects, and they will behave correctly based on their class."
      ],
      "metadata": {
        "id": "DhL6TieqJl7q"
      }
    },
    {
      "cell_type": "markdown",
      "source": [
        "24) What is method chaining in Python OOP?\n",
        "\n",
        "ANS-Method chaining in Python OOP is a way to call multiple methods on the same object in a single, continuous line. This is possible when each method returns the object itself, usually by using return self at the end of the method. For example, in a class like Person, you might have methods such as set_name() and set_age() that both return self. Then, you can write something like Person().set_name(\"John\").set_age(25), which is shorter and cleaner than writing each method on a separate line. Method chaining helps make the code more readable and compact, especially when performing several actions on the same object."
      ],
      "metadata": {
        "id": "lCGAgHTWJt54"
      }
    },
    {
      "cell_type": "markdown",
      "source": [
        "25) What is the purpose of the __call__ method in Python?\n",
        "\n",
        "ANS-The __call__ method in Python is a special method that lets an object behave like a function. When you define __call__ inside a class, you can use the object as if you were calling a regular function using parentheses. For example, if a class has a __call__ method, and you create an object obj, then writing obj() will run the __call__ method. This is useful when you want your object to perform an action directly, like processing data or doing a calculation, without calling a specific method by name. It helps make your code cleaner and more flexible by allowing objects to act like functions."
      ],
      "metadata": {
        "id": "VUXqMBTgJ7Rv"
      }
    },
    {
      "cell_type": "markdown",
      "source": [
        "#Practical Questions"
      ],
      "metadata": {
        "id": "XU7Nw1O63zyA"
      }
    },
    {
      "cell_type": "markdown",
      "source": [
        "1. Create a parent class Animal with a method speak() that prints a generic message. Create a child class Dog\n",
        "that overrides the speak() method to print \"Bark!\".\n",
        "\n",
        "ANS-"
      ],
      "metadata": {
        "id": "DZzRmQap32Cc"
      }
    },
    {
      "cell_type": "code",
      "source": [
        "class Animal:\n",
        "    def speak(self):\n",
        "        print(\"The animal makes a sound.\")\n",
        "\n",
        "class Dog(Animal):\n",
        "    def speak(self):\n",
        "        print(\"Bark!\")\n",
        "\n",
        "a = Animal()\n",
        "a.speak()\n",
        "\n",
        "d = Dog()\n",
        "d.speak()"
      ],
      "metadata": {
        "colab": {
          "base_uri": "https://localhost:8080/"
        },
        "id": "XtanXnZN4NxM",
        "outputId": "1147b945-ba63-4f11-eb40-9f4767cba855"
      },
      "execution_count": 1,
      "outputs": [
        {
          "output_type": "stream",
          "name": "stdout",
          "text": [
            "The animal makes a sound.\n",
            "Bark!\n"
          ]
        }
      ]
    },
    {
      "cell_type": "markdown",
      "source": [
        "2. Write a program to create an abstract class Shape with a method area(). Derive classes Circle and Rectangle\n",
        "from it and implement the area() method in both.\n",
        "\n",
        "ANS-"
      ],
      "metadata": {
        "id": "STxB5Cx24Z-Q"
      }
    },
    {
      "cell_type": "code",
      "source": [
        "from abc import ABC, abstractmethod\n",
        "import math\n",
        "\n",
        "class Shape(ABC):\n",
        "    @abstractmethod\n",
        "    def area(self):\n",
        "        pass\n",
        "\n",
        "class Circle(Shape):\n",
        "    def __init__(self, radius):\n",
        "        self.radius = radius\n",
        "\n",
        "    def area(self):\n",
        "        return math.pi * self.radius * self.radius\n",
        "\n",
        "class Rectangle(Shape):\n",
        "    def __init__(self, length, width):\n",
        "        self.length = length\n",
        "        self.width = width\n",
        "\n",
        "    def area(self):\n",
        "        return self.length * self.width\n",
        "\n",
        "c = Circle(5)\n",
        "print(\"Circle area:\", c.area())\n",
        "\n",
        "r = Rectangle(4, 6)\n",
        "print(\"Rectangle area:\", r.area())"
      ],
      "metadata": {
        "colab": {
          "base_uri": "https://localhost:8080/"
        },
        "id": "G8wwqQ1j4O-C",
        "outputId": "d872b11a-8b0f-4e54-d07b-036f653eeaff"
      },
      "execution_count": 2,
      "outputs": [
        {
          "output_type": "stream",
          "name": "stdout",
          "text": [
            "Circle area: 78.53981633974483\n",
            "Rectangle area: 24\n"
          ]
        }
      ]
    },
    {
      "cell_type": "markdown",
      "source": [
        "3. Implement a multi-level inheritance scenario where a class Vehicle has an attribute type. Derive a class Car\n",
        "and further derive a class ElectricCar that adds a battery attribute.\n",
        "\n",
        "ANS-"
      ],
      "metadata": {
        "id": "V5bqbVrw4lcj"
      }
    },
    {
      "cell_type": "code",
      "source": [
        "class Vehicle:\n",
        "    def __init__(self, type):\n",
        "        self.type = type\n",
        "\n",
        "class Car(Vehicle):\n",
        "    def __init__(self, type, brand):\n",
        "        super().__init__(type)\n",
        "        self.brand = brand\n",
        "\n",
        "class ElectricCar(Car):\n",
        "    def __init__(self, type, brand, battery):\n",
        "        super().__init__(type, brand)\n",
        "        self.battery = battery\n",
        "\n",
        "e_car = ElectricCar(\"Four Wheeler\", \"Tesla\", \"75 kWh\")\n",
        "print(\"Type:\", e_car.type)\n",
        "print(\"Brand:\", e_car.brand)\n",
        "print(\"Battery:\", e_car.battery)"
      ],
      "metadata": {
        "colab": {
          "base_uri": "https://localhost:8080/"
        },
        "id": "_KvvTEfy4i62",
        "outputId": "7cfa1f59-0ead-4776-eb9b-9caab352ed7d"
      },
      "execution_count": 3,
      "outputs": [
        {
          "output_type": "stream",
          "name": "stdout",
          "text": [
            "Type: Four Wheeler\n",
            "Brand: Tesla\n",
            "Battery: 75 kWh\n"
          ]
        }
      ]
    },
    {
      "cell_type": "markdown",
      "source": [
        "4. Demonstrate polymorphism by creating a base class Bird with a method fly(). Create two derived classes\n",
        "Sparrow and Penguin that override the fly() method.\n",
        "\n",
        "ANS-"
      ],
      "metadata": {
        "id": "EP0FSCLC4v7M"
      }
    },
    {
      "cell_type": "code",
      "source": [
        "class Bird:\n",
        "    def fly(self):\n",
        "        print(\"Some birds can fly.\")\n",
        "\n",
        "class Sparrow(Bird):\n",
        "    def fly(self):\n",
        "        print(\"Sparrow flies high in the sky.\")\n",
        "\n",
        "class Penguin(Bird):\n",
        "    def fly(self):\n",
        "        print(\"Penguins cannot fly, they swim.\")\n",
        "\n",
        "b1 = Sparrow()\n",
        "b2 = Penguin()\n",
        "\n",
        "b1.fly()\n",
        "b2.fly()"
      ],
      "metadata": {
        "colab": {
          "base_uri": "https://localhost:8080/"
        },
        "id": "jDXGbd0K4uqZ",
        "outputId": "1f4f7141-42fd-4c29-8cb3-ccdca0501ee0"
      },
      "execution_count": 4,
      "outputs": [
        {
          "output_type": "stream",
          "name": "stdout",
          "text": [
            "Sparrow flies high in the sky.\n",
            "Penguins cannot fly, they swim.\n"
          ]
        }
      ]
    },
    {
      "cell_type": "markdown",
      "source": [
        "5. Write a program to demonstrate encapsulation by creating a class BankAccount with private attributes\n",
        "balance and methods to deposit, withdraw, and check balance.\n",
        "\n",
        "ANS-"
      ],
      "metadata": {
        "id": "Iu_Rv4rn443x"
      }
    },
    {
      "cell_type": "code",
      "source": [
        "class BankAccount:\n",
        "    def __init__(self, initial_balance):\n",
        "        self.__balance = initial_balance\n",
        "\n",
        "    def deposit(self, amount):\n",
        "        if amount > 0:\n",
        "            self.__balance += amount\n",
        "\n",
        "    def withdraw(self, amount):\n",
        "        if 0 < amount <= self.__balance:\n",
        "            self.__balance -= amount\n",
        "\n",
        "    def get_balance(self):\n",
        "        return self.__balance\n",
        "\n",
        "account = BankAccount(1000)\n",
        "account.deposit(500)\n",
        "account.withdraw(300)\n",
        "print(\"Current Balance:\", account.get_balance())"
      ],
      "metadata": {
        "colab": {
          "base_uri": "https://localhost:8080/"
        },
        "id": "GUASfvoz43m0",
        "outputId": "e68f4ecc-dedb-4ad9-9ad1-3a9ab55e49f3"
      },
      "execution_count": 5,
      "outputs": [
        {
          "output_type": "stream",
          "name": "stdout",
          "text": [
            "Current Balance: 1200\n"
          ]
        }
      ]
    },
    {
      "cell_type": "markdown",
      "source": [
        "6. Demonstrate runtime polymorphism using a method play() in a base class Instrument. Derive classes Guitar\n",
        "and Piano that implement their own version of play().\n",
        "\n",
        "ANS-"
      ],
      "metadata": {
        "id": "q4seNyEo5BW0"
      }
    },
    {
      "cell_type": "code",
      "source": [
        "class Instrument:\n",
        "    def play(self):\n",
        "        print(\"Playing an instrument.\")\n",
        "\n",
        "class Guitar(Instrument):\n",
        "    def play(self):\n",
        "        print(\"Strumming the guitar.\")\n",
        "\n",
        "class Piano(Instrument):\n",
        "    def play(self):\n",
        "        print(\"Playing the piano keys.\")\n",
        "\n",
        "i1 = Guitar()\n",
        "i2 = Piano()\n",
        "\n",
        "i1.play()\n",
        "i2.play()"
      ],
      "metadata": {
        "colab": {
          "base_uri": "https://localhost:8080/"
        },
        "id": "ycvX4t9k5ABb",
        "outputId": "d6ebfe8e-113d-48ac-c173-5c5e953e4a6a"
      },
      "execution_count": 6,
      "outputs": [
        {
          "output_type": "stream",
          "name": "stdout",
          "text": [
            "Strumming the guitar.\n",
            "Playing the piano keys.\n"
          ]
        }
      ]
    },
    {
      "cell_type": "markdown",
      "source": [
        "7. Create a class MathOperations with a class method add_numbers() to add two numbers and a static\n",
        "method subtract_numbers() to subtract two numbers.\n",
        "\n",
        "ANS-"
      ],
      "metadata": {
        "id": "f2s10u9I5JVm"
      }
    },
    {
      "cell_type": "code",
      "source": [
        "class MathOperations:\n",
        "    @classmethod\n",
        "    def add_numbers(cls, a, b):\n",
        "        return a + b\n",
        "\n",
        "    @staticmethod\n",
        "    def subtract_numbers(a, b):\n",
        "        return a - b\n",
        "\n",
        "print(\"Addition:\", MathOperations.add_numbers(10, 5))\n",
        "print(\"Subtraction:\", MathOperations.subtract_numbers(10, 5))"
      ],
      "metadata": {
        "colab": {
          "base_uri": "https://localhost:8080/"
        },
        "id": "q1XSfBjs5IL4",
        "outputId": "25cf23be-4264-41fb-cf19-f29fb6a206f0"
      },
      "execution_count": 7,
      "outputs": [
        {
          "output_type": "stream",
          "name": "stdout",
          "text": [
            "Addition: 15\n",
            "Subtraction: 5\n"
          ]
        }
      ]
    },
    {
      "cell_type": "markdown",
      "source": [
        "8. Implement a class Person with a class method to count the total number of persons created.\n",
        "\n",
        "ANS-"
      ],
      "metadata": {
        "id": "8dETFJZl5TPy"
      }
    },
    {
      "cell_type": "code",
      "source": [
        "class Person:\n",
        "    count = 0\n",
        "\n",
        "    def __init__(self, name):\n",
        "        self.name = name\n",
        "        Person.count += 1\n",
        "\n",
        "    @classmethod\n",
        "    def total_persons(cls):\n",
        "        return cls.count\n",
        "\n",
        "p1 = Person(\"Alice\")\n",
        "p2 = Person(\"Bob\")\n",
        "p3 = Person(\"Charlie\")\n",
        "\n",
        "print(\"Total persons created:\", Person.total_persons())"
      ],
      "metadata": {
        "colab": {
          "base_uri": "https://localhost:8080/"
        },
        "id": "x_OpgTP65P1Q",
        "outputId": "0ce74813-73f7-4a44-db49-6231190b69b5"
      },
      "execution_count": 8,
      "outputs": [
        {
          "output_type": "stream",
          "name": "stdout",
          "text": [
            "Total persons created: 3\n"
          ]
        }
      ]
    },
    {
      "cell_type": "markdown",
      "source": [
        "9. Write a class Fraction with attributes numerator and denominator. Override the str method to display the\n",
        "fraction as \"numerator/denominator\".\n",
        "\n",
        "ANS-"
      ],
      "metadata": {
        "id": "jkjs3th25bMr"
      }
    },
    {
      "cell_type": "code",
      "source": [
        "class Fraction:\n",
        "    def __init__(self, numerator, denominator):\n",
        "        self.numerator = numerator\n",
        "        self.denominator = denominator\n",
        "\n",
        "    def __str__(self):\n",
        "        return f\"{self.numerator}/{self.denominator}\"\n",
        "\n",
        "f = Fraction(3, 4)\n",
        "print(f)"
      ],
      "metadata": {
        "colab": {
          "base_uri": "https://localhost:8080/"
        },
        "id": "XEmyv_WZ5YE4",
        "outputId": "6bf088ae-237e-467d-8c42-aa23f0d15972"
      },
      "execution_count": 9,
      "outputs": [
        {
          "output_type": "stream",
          "name": "stdout",
          "text": [
            "3/4\n"
          ]
        }
      ]
    },
    {
      "cell_type": "markdown",
      "source": [
        "10. Demonstrate operator overloading by creating a class Vector and overriding the add method to add two\n",
        "vectors.\n",
        "\n",
        "ANS-"
      ],
      "metadata": {
        "id": "r66wtDZh5gHT"
      }
    },
    {
      "cell_type": "code",
      "source": [
        "class Vector:\n",
        "    def __init__(self, x, y):\n",
        "        self.x = x\n",
        "        self.y = y\n",
        "\n",
        "    def __add__(self, other):\n",
        "        return Vector(self.x + other.x, self.y + other.y)\n",
        "\n",
        "    def __str__(self):\n",
        "        return f\"({self.x}, {self.y})\"\n",
        "\n",
        "v1 = Vector(2, 3)\n",
        "v2 = Vector(4, 5)\n",
        "v3 = v1 + v2\n",
        "print(v3)"
      ],
      "metadata": {
        "colab": {
          "base_uri": "https://localhost:8080/"
        },
        "id": "tSuL4Vfu5fZ3",
        "outputId": "7e3c8c6a-3aa5-4bb8-8c16-fa7ec560a85c"
      },
      "execution_count": 10,
      "outputs": [
        {
          "output_type": "stream",
          "name": "stdout",
          "text": [
            "(6, 8)\n"
          ]
        }
      ]
    },
    {
      "cell_type": "markdown",
      "source": [
        "11. Create a class Person with attributes name and age. Add a method greet() that prints \"Hello, my name is\n",
        "{name} and I am {age} years old.\"\n",
        "\n",
        "ANS-"
      ],
      "metadata": {
        "id": "XICqGhEG5m-H"
      }
    },
    {
      "cell_type": "code",
      "source": [
        "class Person:\n",
        "    def __init__(self, name, age):\n",
        "        self.name = name\n",
        "        self.age = age\n",
        "\n",
        "    def greet(self):\n",
        "        print(f\"Hello, my name is {self.name} and I am {self.age} years old.\")\n",
        "\n",
        "p = Person(\"Alice\", 30)\n",
        "p.greet()"
      ],
      "metadata": {
        "colab": {
          "base_uri": "https://localhost:8080/"
        },
        "id": "vQErrR0t5l_c",
        "outputId": "a95046a9-8c8b-4fd3-8940-b9ee375763fa"
      },
      "execution_count": 11,
      "outputs": [
        {
          "output_type": "stream",
          "name": "stdout",
          "text": [
            "Hello, my name is Alice and I am 30 years old.\n"
          ]
        }
      ]
    },
    {
      "cell_type": "markdown",
      "source": [
        "12. Implement a class Student with attributes name and grades. Create a method average_grade() to compute\n",
        "the average of the grades.\n",
        "\n",
        "ANS-"
      ],
      "metadata": {
        "id": "9UiMU-GT50b0"
      }
    },
    {
      "cell_type": "code",
      "source": [
        "class Student:\n",
        "    def __init__(self, name, grades):\n",
        "        self.name = name\n",
        "        self.grades = grades\n",
        "\n",
        "    def average_grade(self):\n",
        "        return sum(self.grades) / len(self.grades)\n",
        "\n",
        "s = Student(\"John\", [85, 90, 78, 92])\n",
        "print(\"Average grade:\", s.average_grade())"
      ],
      "metadata": {
        "colab": {
          "base_uri": "https://localhost:8080/"
        },
        "id": "61oJKXEq5vs1",
        "outputId": "6b014760-22ab-452c-e76c-641e756c9d46"
      },
      "execution_count": 12,
      "outputs": [
        {
          "output_type": "stream",
          "name": "stdout",
          "text": [
            "Average grade: 86.25\n"
          ]
        }
      ]
    },
    {
      "cell_type": "markdown",
      "source": [
        "13. Create a class Rectangle with methods set_dimensions() to set the dimensions and area() to calculate the\n",
        "area.\n",
        "\n",
        "ANS-"
      ],
      "metadata": {
        "id": "9w0Z-m5E578G"
      }
    },
    {
      "cell_type": "code",
      "source": [
        "class Rectangle:\n",
        "    def set_dimensions(self, length, width):\n",
        "        self.length = length\n",
        "        self.width = width\n",
        "\n",
        "    def area(self):\n",
        "        return self.length * self.width\n",
        "\n",
        "r = Rectangle()\n",
        "r.set_dimensions(5, 3)\n",
        "print(\"Area of rectangle:\", r.area())"
      ],
      "metadata": {
        "colab": {
          "base_uri": "https://localhost:8080/"
        },
        "id": "wOLowiVk57H9",
        "outputId": "2ee07e83-d9bf-4840-8542-2894843f8acd"
      },
      "execution_count": 13,
      "outputs": [
        {
          "output_type": "stream",
          "name": "stdout",
          "text": [
            "Area of rectangle: 15\n"
          ]
        }
      ]
    },
    {
      "cell_type": "markdown",
      "source": [
        "14. Create a class Employee with a method calculate_salary() that computes the salary based on hours worked\n",
        "and hourly rate. Create a derived class Manager that adds a bonus to the salary.\n",
        "\n",
        "ANS-"
      ],
      "metadata": {
        "id": "nyAEW4IS6DJY"
      }
    },
    {
      "cell_type": "code",
      "source": [
        "class Employee:\n",
        "    def __init__(self, hours_worked, hourly_rate):\n",
        "        self.hours_worked = hours_worked\n",
        "        self.hourly_rate = hourly_rate\n",
        "\n",
        "    def calculate_salary(self):\n",
        "        return self.hours_worked * self.hourly_rate\n",
        "\n",
        "class Manager(Employee):\n",
        "    def __init__(self, hours_worked, hourly_rate, bonus):\n",
        "        super().__init__(hours_worked, hourly_rate)\n",
        "        self.bonus = bonus\n",
        "\n",
        "    def calculate_salary(self):\n",
        "        base_salary = super().calculate_salary()\n",
        "        return base_salary + self.bonus\n",
        "\n",
        "e = Employee(40, 20)\n",
        "print(\"Employee salary:\", e.calculate_salary())\n",
        "\n",
        "m = Manager(40, 30, 500)\n",
        "print(\"Manager salary:\", m.calculate_salary())"
      ],
      "metadata": {
        "colab": {
          "base_uri": "https://localhost:8080/"
        },
        "id": "SKNyc7vh6CTx",
        "outputId": "75c162d8-174b-4fa4-b987-cecc8d5da701"
      },
      "execution_count": 14,
      "outputs": [
        {
          "output_type": "stream",
          "name": "stdout",
          "text": [
            "Employee salary: 800\n",
            "Manager salary: 1700\n"
          ]
        }
      ]
    },
    {
      "cell_type": "markdown",
      "source": [
        "15. Create a class Product with attributes name, price, and quantity. Implement a method total_price() that\n",
        "calculates the total price of the product.\n",
        "\n",
        "ANS-"
      ],
      "metadata": {
        "id": "tNmFtoSU6Myo"
      }
    },
    {
      "cell_type": "code",
      "source": [
        "class Product:\n",
        "    def __init__(self, name, price, quantity):\n",
        "        self.name = name\n",
        "        self.price = price\n",
        "        self.quantity = quantity\n",
        "\n",
        "    def total_price(self):\n",
        "        return self.price * self.quantity\n",
        "\n",
        "p = Product(\"Laptop\", 800, 2)\n",
        "print(\"Total price:\", p.total_price())"
      ],
      "metadata": {
        "colab": {
          "base_uri": "https://localhost:8080/"
        },
        "id": "2CUH2xdZ6LsO",
        "outputId": "8d45e981-1390-441c-92a1-6c48d335b3f2"
      },
      "execution_count": 15,
      "outputs": [
        {
          "output_type": "stream",
          "name": "stdout",
          "text": [
            "Total price: 1600\n"
          ]
        }
      ]
    },
    {
      "cell_type": "markdown",
      "source": [
        "16. Create a class Animal with an abstract method sound(). Create two derived classes Cow and Sheep that\n",
        "implement the sound() method.\n",
        "\n",
        "ANS-"
      ],
      "metadata": {
        "id": "86-2Ko-k6VjL"
      }
    },
    {
      "cell_type": "code",
      "source": [
        "from abc import ABC, abstractmethod\n",
        "\n",
        "class Animal(ABC):\n",
        "    @abstractmethod\n",
        "    def sound(self):\n",
        "        pass\n",
        "\n",
        "class Cow(Animal):\n",
        "    def sound(self):\n",
        "        print(\"Moo\")\n",
        "\n",
        "class Sheep(Animal):\n",
        "    def sound(self):\n",
        "        print(\"Baa\")\n",
        "\n",
        "c = Cow()\n",
        "s = Sheep()\n",
        "\n",
        "c.sound()\n",
        "s.sound()"
      ],
      "metadata": {
        "colab": {
          "base_uri": "https://localhost:8080/"
        },
        "id": "bkbSmLIa6UlP",
        "outputId": "2552f4b6-4347-415e-f4a0-d13e066fdb7a"
      },
      "execution_count": 16,
      "outputs": [
        {
          "output_type": "stream",
          "name": "stdout",
          "text": [
            "Moo\n",
            "Baa\n"
          ]
        }
      ]
    },
    {
      "cell_type": "markdown",
      "source": [
        "17. Create a class Book with attributes title, author, and year_published. Add a method get_book_info() that\n",
        "returns a formatted string with the book's details.\n",
        "\n",
        "ANS-"
      ],
      "metadata": {
        "id": "sHd3FsPZ6cA1"
      }
    },
    {
      "cell_type": "code",
      "source": [
        "class Book:\n",
        "    def __init__(self, title, author, year_published):\n",
        "        self.title = title\n",
        "        self.author = author\n",
        "        self.year_published = year_published\n",
        "\n",
        "    def get_book_info(self):\n",
        "        return f\"'{self.title}' by {self.author}, published in {self.year_published}\"\n",
        "\n",
        "b = Book(\"1984\", \"George Orwell\", 1949)\n",
        "print(b.get_book_info())"
      ],
      "metadata": {
        "colab": {
          "base_uri": "https://localhost:8080/"
        },
        "id": "yTak_yiB6bLf",
        "outputId": "9bedae78-d7d0-4944-df62-4ead4193aa1f"
      },
      "execution_count": 17,
      "outputs": [
        {
          "output_type": "stream",
          "name": "stdout",
          "text": [
            "'1984' by George Orwell, published in 1949\n"
          ]
        }
      ]
    },
    {
      "cell_type": "markdown",
      "source": [
        "18. Create a class House with attributes address and price. Create a derived class Mansion that adds an\n",
        "attribute number_of_rooms.\n",
        "\n",
        "ANS-"
      ],
      "metadata": {
        "id": "aKqNniKW6lf0"
      }
    },
    {
      "cell_type": "code",
      "source": [
        "class House:\n",
        "    def __init__(self, address, price):\n",
        "        self.address = address\n",
        "        self.price = price\n",
        "\n",
        "class Mansion(House):\n",
        "    def __init__(self, address, price, number_of_rooms):\n",
        "        super().__init__(address, price)\n",
        "        self.number_of_rooms = number_of_rooms\n",
        "\n",
        "m = Mansion(\"123 Luxury Lane\", 5000000, 10)\n",
        "print(\"Address:\", m.address)\n",
        "print(\"Price:\", m.price)\n",
        "print(\"Number of Rooms:\", m.number_of_rooms)"
      ],
      "metadata": {
        "colab": {
          "base_uri": "https://localhost:8080/"
        },
        "id": "HH0Lx62E6ijB",
        "outputId": "a05804ae-9fbe-4123-ae3e-786e4eb5ff26"
      },
      "execution_count": 18,
      "outputs": [
        {
          "output_type": "stream",
          "name": "stdout",
          "text": [
            "Address: 123 Luxury Lane\n",
            "Price: 5000000\n",
            "Number of Rooms: 10\n"
          ]
        }
      ]
    }
  ]
}