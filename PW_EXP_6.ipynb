{
  "nbformat": 4,
  "nbformat_minor": 0,
  "metadata": {
    "colab": {
      "provenance": [],
      "collapsed_sections": [
        "yGUpyWydRFOU",
        "-KO4N2qsUyGc"
      ]
    },
    "kernelspec": {
      "name": "python3",
      "display_name": "Python 3"
    },
    "language_info": {
      "name": "python"
    }
  },
  "cells": [
    {
      "cell_type": "markdown",
      "source": [
        "#Data Toolkit"
      ],
      "metadata": {
        "id": "yGUpyWydRFOU"
      }
    },
    {
      "cell_type": "markdown",
      "source": [
        "1) What is NumPy, and why is it widely used in Python?\n",
        "\n",
        "ANS-NumPy, short for Numerical Python, is a fundamental library in Python designed for scientific computing and numerical data processing. Its primary feature is the ndarray object, a powerful and efficient multidimensional array that allows storage and manipulation of large datasets far more effectively than standard Python lists. NumPy provides a wide range of optimized mathematical, statistical, and linear algebra functions that can operate directly on these arrays without the need for explicit loops, making code both cleaner and faster.\n",
        "\n",
        "One of NumPy’s major strengths is its speed and memory efficiency. The library is implemented in C under the hood, which allows it to execute complex operations much faster than pure Python code. It also uses contiguous memory blocks for storing data, which enhances performance and enables vectorized operations. Another key advantage is its broadcasting feature, which lets arrays of different shapes be used together in arithmetic operations without additional coding overhead.\n",
        "\n",
        "NumPy is widely adopted because it forms the backbone of the Python data science ecosystem. Libraries such as Pandas, SciPy, scikit-learn, TensorFlow, and PyTorch rely on NumPy arrays as their core data structures. This means that learning NumPy not only speeds up data processing but also makes it easier to work with other popular data analysis and machine learning tools in Python. Its concise, mathematically expressive syntax also makes it highly accessible for scientists, engineers, and analysts who want to perform large-scale numerical computations efficiently."
      ],
      "metadata": {
        "id": "WGErcnu7RIZt"
      }
    },
    {
      "cell_type": "markdown",
      "source": [
        "2) How does broadcasting work in NumPy?\n",
        "\n",
        "ANS-Broadcasting in NumPy is a mechanism that allows arrays of different shapes to be used together in arithmetic operations without explicitly resizing or copying them. Instead of requiring arrays to have exactly the same dimensions, NumPy automatically stretches the smaller array across the larger one so their shapes become compatible. This stretching does not physically duplicate data in memory; it just makes NumPy treat the smaller array as if it were repeated along the missing dimensions.\n",
        "\n",
        "The rules for broadcasting are straightforward. NumPy compares the shapes of the two arrays from right to left (starting with the last dimension). Two dimensions are considered compatible if they are equal or if one of them is 1. When a dimension is 1, NumPy conceptually replicates that array along that dimension to match the other array’s size. If any dimension sizes differ and neither is 1, broadcasting fails and raises an error.\n",
        "\n",
        "For example, if you have a one-dimensional array of shape `(3,)` and a two-dimensional array of shape `(2, 3)`, NumPy will broadcast the smaller array along the missing first dimension, making it behave like a `(2, 3)` array in the operation. This eliminates the need for manual looping and makes code more concise and efficient while still leveraging NumPy’s high performance for large-scale computations."
      ],
      "metadata": {
        "id": "SAQjbD48RdRY"
      }
    },
    {
      "cell_type": "markdown",
      "source": [
        "3) What is a Pandas DataFrame?\n",
        "\n",
        "ANS-A Pandas DataFrame is a two-dimensional, tabular data structure in Python that is part of the Pandas library, designed for data analysis and manipulation. It organizes data into labeled rows and columns, much like a spreadsheet or a SQL table, allowing for easy access, filtering, and transformation of information. Each column in a DataFrame can hold data of a specific type, such as integers, floats, strings, or even Python objects, while still allowing different columns to have different data types.\n",
        "\n",
        "DataFrames are highly versatile because they support a wide range of operations for cleaning, summarizing, reshaping, and merging datasets. They come with built-in methods for tasks such as handling missing values, performing group-based aggregations, and applying mathematical or statistical functions across columns or rows. Additionally, the labels for rows and columns make indexing and slicing data more intuitive than working with raw NumPy arrays.\n",
        "\n",
        "Pandas DataFrames are widely used in data science, machine learning, and analytics workflows because they can easily import and export data from various sources like CSV, Excel, SQL databases, and JSON. Their ability to combine the speed of NumPy with the flexibility of labeled data handling makes them one of the most important tools for working with structured data in Python."
      ],
      "metadata": {
        "id": "suGvlyLCRoIC"
      }
    },
    {
      "cell_type": "markdown",
      "source": [
        "4) Explain the use of the groupby() method in Pandas?\n",
        "\n",
        "ANS-The `groupby()` method in Pandas is used to split data into groups based on the values in one or more columns, allowing you to perform operations like aggregation, transformation, or filtering on each group separately. This approach follows the **split–apply–combine** strategy: first, the DataFrame is split into groups; then, a function is applied to each group; finally, the results are combined back into a new DataFrame or Series.\n",
        "\n",
        "One of the most common uses of `groupby()` is for summarizing data. For example, you can group sales records by product category and then calculate the total or average sales within each category. The method can also be used for more advanced tasks like applying custom functions to each group, transforming group values, or filtering out groups that don’t meet certain criteria. This makes it highly valuable for analyzing large and complex datasets.\n",
        "\n",
        "Because `groupby()` can handle multiple grouping keys, it supports hierarchical grouping, where data is grouped by more than one column at a time. Combined with Pandas’ built-in aggregation functions—such as `.sum()`, `.mean()`, `.count()`, and `.agg()`—`groupby()` becomes a powerful tool for data exploration, pattern detection, and summarization in structured datasets."
      ],
      "metadata": {
        "id": "R6DLcb5sRw2b"
      }
    },
    {
      "cell_type": "markdown",
      "source": [
        "5) Why is Seaborn preferred for statistical visualizations?\n",
        "\n",
        "ANS-Seaborn is preferred for statistical visualizations in Python because it provides a high-level interface for creating attractive, informative, and statistically meaningful graphics with minimal code. Built on top of Matplotlib, Seaborn simplifies the process of producing complex plots by handling much of the underlying formatting and statistical computation automatically. Its default styles and color palettes are aesthetically pleasing, making visualizations more polished and publication-ready without extensive customization.\n",
        "\n",
        "One of Seaborn’s main advantages is its tight integration with Pandas DataFrames, which allows it to work directly with labeled datasets. This makes it easy to specify variables by their column names and automatically handle grouping, aggregation, and statistical transformations internally. It also offers specialized plots for common statistical tasks, such as regression analysis, distribution visualization, categorical comparisons, and heatmaps for correlation matrices, saving time that would otherwise be spent manually coding these elements.\n",
        "\n",
        "In addition, Seaborn includes built-in support for confidence intervals, kernel density estimation, and other statistical elements that enhance the interpretability of visualizations. By combining elegant design, statistical insight, and ease of use, Seaborn has become a go-to choice for data scientists and analysts who need both clarity and efficiency in their data visualizations."
      ],
      "metadata": {
        "id": "E8Mwmu5fR6hp"
      }
    },
    {
      "cell_type": "markdown",
      "source": [
        "6) What are the differences between NumPy arrays and Python lists?\n",
        "\n",
        "ANS-NumPy arrays and Python lists both store collections of elements, but they differ significantly in structure, performance, and functionality. A NumPy array is a homogeneous data structure, meaning all its elements must be of the same data type, which allows it to store data in contiguous memory blocks. This results in much faster computations, as NumPy uses optimized C-based implementations for array operations. In contrast, a Python list can hold elements of mixed data types, which offers flexibility but sacrifices speed and memory efficiency because lists store references to objects rather than raw values.\n",
        "\n",
        "Another key difference is that NumPy arrays support vectorized operations, allowing element-wise computations without writing explicit loops. For example, adding two arrays with the `+` operator will add their corresponding elements directly in compiled code, whereas doing the same with Python lists requires manual iteration. NumPy arrays also come with a wide range of built-in mathematical functions, broadcasting capabilities, and advanced indexing features that are not natively available for lists.\n",
        "\n",
        "Finally, NumPy arrays are more suitable for numerical and scientific computing because they integrate seamlessly with other scientific Python libraries like Pandas, SciPy, and scikit-learn. Python lists, on the other hand, are more general-purpose containers better suited for situations where mixed data types or frequent resizing are needed, but they are not optimized for heavy numerical processing."
      ],
      "metadata": {
        "id": "b4hZvtdfSFE1"
      }
    },
    {
      "cell_type": "markdown",
      "source": [
        "7) What is a heatmap, and when should it be used?\n",
        "\n",
        "ANS-A heatmap is a data visualization technique that uses a grid of colored cells to represent the magnitude of values in a matrix or table. The color intensity or hue corresponds to the value in each cell, making it easy to identify patterns, trends, and anomalies at a glance. Heatmaps are particularly effective when working with large datasets where numerical patterns might be difficult to detect from raw numbers alone.\n",
        "\n",
        "They are commonly used to display correlation matrices, where each cell shows the correlation coefficient between two variables, allowing you to quickly see which variables are strongly related. Heatmaps are also useful for visualizing frequency counts, performance metrics across multiple categories, or any form of two-dimensional data distribution. By translating numbers into colors, they help reveal clusters, outliers, and other relationships that may not be immediately apparent in textual or tabular form.\n",
        "\n",
        "Heatmaps should be used when the goal is to highlight intensity variations and identify patterns across multiple dimensions simultaneously. They are especially helpful in exploratory data analysis, scientific research, and business intelligence dashboards, where clarity and quick interpretation of complex data are essential."
      ],
      "metadata": {
        "id": "ggG7BPRfSRY9"
      }
    },
    {
      "cell_type": "markdown",
      "source": [
        "8) What does the term “vectorized operation” mean in NumPy?\n",
        "\n",
        "ANS-In NumPy, the term “vectorized operation” refers to performing computations on entire arrays (or large chunks of them) at once, without the need for explicit Python loops. Instead of iterating through each element manually, NumPy applies the operation at the C level, leveraging highly optimized, low-level implementations. This approach makes the computation not only faster but also more concise and readable in code.\n",
        "\n",
        "For example, adding two NumPy arrays with `a + b` will perform element-wise addition on all corresponding elements simultaneously, without the programmer writing a loop. The same applies to multiplication, division, trigonometric functions, and many other operations. This behavior is possible because NumPy arrays store data in contiguous memory and enforce a single data type, enabling efficient processing with vectorized instructions.\n",
        "\n",
        "Vectorized operations are one of NumPy’s biggest advantages over plain Python lists. They reduce code complexity, improve performance dramatically, and make numerical computations more expressive, closely resembling mathematical notation while still operating at high speed."
      ],
      "metadata": {
        "id": "XJhQYqghSaNi"
      }
    },
    {
      "cell_type": "markdown",
      "source": [
        "9) How does Matplotlib differ from Plotly?\n",
        "\n",
        "ANS-Matplotlib and Plotly are both Python libraries for creating visualizations, but they differ significantly in their design philosophy, interactivity, and typical use cases. Matplotlib is a foundational, low-level plotting library that focuses on static, publication-quality figures. It offers fine-grained control over every aspect of a plot—such as axes, colors, markers, and text—but often requires more code to produce polished visuals. While it can generate interactive plots with additional tools, its primary strength lies in creating static charts for reports, research papers, and print media.\n",
        "\n",
        "Plotly, on the other hand, is designed for interactive and web-based visualizations right out of the box. It allows users to zoom, pan, hover for details, and even export plots in a browser without extra configuration. Plotly’s syntax tends to be higher-level and more declarative, meaning you can produce complex interactive dashboards with less manual customization than in Matplotlib. It integrates seamlessly with web frameworks and supports 3D plotting, making it ideal for data exploration and interactive presentations.\n",
        "\n",
        "In short, Matplotlib is typically preferred when you need full control and static, precise visual output, whereas Plotly is the better choice for creating interactive, shareable, and web-friendly visualizations. Many data scientists use them together—Matplotlib for in-depth control of static figures and Plotly when interactivity is essential."
      ],
      "metadata": {
        "id": "9-FXbMfsSlWk"
      }
    },
    {
      "cell_type": "markdown",
      "source": [
        "10) What is the significance of hierarchical indexing in Pandas?\n",
        "\n",
        "ANS-Hierarchical indexing, also known as multi-level indexing, in Pandas allows you to have multiple index levels for rows or columns, enabling more complex and structured data organization within a single DataFrame or Series. Instead of being limited to a single label per axis, hierarchical indexing lets you use tuples of labels, creating a tree-like structure for indexing. This is particularly useful when working with datasets that have multiple dimensions of categorical keys.\n",
        "\n",
        "The significance of hierarchical indexing lies in its ability to simplify data representation and analysis. It allows you to store and manipulate higher-dimensional data in a two-dimensional DataFrame without reshaping it into multiple separate tables. With multi-level indexes, you can perform grouped operations, partial indexing, and advanced slicing with ease. For example, you might store sales data by both region and year in the index, allowing you to select data for a specific year across all regions or drill down into a particular region-year combination efficiently.\n",
        "\n",
        "Hierarchical indexing also plays an important role in reshaping and pivoting datasets. Methods like `.stack()`, `.unstack()`, and `.swaplevel()` rely on multi-level indexes to rearrange data flexibly. This makes it a powerful tool for handling complex, real-world datasets where relationships between variables require more than a flat index structure."
      ],
      "metadata": {
        "id": "HUgEcyoQSt-U"
      }
    },
    {
      "cell_type": "markdown",
      "source": [
        "11) What is the role of Seaborn’s pairplot() function?\n",
        "\n",
        "ANS-Seaborn’s `pairplot()` function is used to create a grid of plots that visualize pairwise relationships between multiple variables in a dataset. It generates scatterplots for each combination of numeric variables and histograms (or kernel density estimates) along the diagonal to show the distribution of individual variables. This provides an immediate, compact overview of how variables relate to one another and whether any patterns, clusters, or correlations exist.\n",
        "\n",
        "The main role of `pairplot()` is in **exploratory data analysis (EDA)**, where understanding variable interactions is essential before building models or drawing conclusions. For example, in a dataset containing measurements of different plant species, `pairplot()` can reveal which features tend to separate the species and whether any linear or nonlinear trends exist. It also supports grouping data by a categorical variable, using different colors or markers to distinguish groups visually.\n",
        "\n",
        "By automatically creating all pairwise plots in a single call, `pairplot()` saves time and effort compared to manually plotting each variable combination. This makes it a valuable tool for quickly assessing relationships in datasets with a moderate number of numeric variables."
      ],
      "metadata": {
        "id": "27f4nuVeS2q3"
      }
    },
    {
      "cell_type": "markdown",
      "source": [
        "12) What is the purpose of the describe() function in Pandas?\n",
        "\n",
        "ANS-The `describe()` function in Pandas is used to generate summary statistics for the numerical (and optionally categorical) columns in a DataFrame or Series. It provides a quick snapshot of key descriptive measures such as count, mean, standard deviation, minimum, quartiles, and maximum values. This makes it especially useful for understanding the basic distribution and spread of your data without having to calculate each statistic manually.\n",
        "\n",
        "By default, `describe()` focuses on numerical columns, but when used with the argument `include='all'`, it also summarizes categorical data, showing metrics like the number of unique values, the most frequent value, and its frequency. This broader view is helpful when dealing with mixed data types in the same dataset.\n",
        "\n",
        "The main purpose of `describe()` is in **exploratory data analysis (EDA)**, where it helps identify potential issues such as missing values, unexpected ranges, or outliers, as well as providing a baseline understanding of the dataset’s characteristics. It serves as a quick diagnostic tool before moving on to more detailed analyses or visualizations."
      ],
      "metadata": {
        "id": "nL_7myx0TBwc"
      }
    },
    {
      "cell_type": "markdown",
      "source": [
        "13) Why is handling missing data important in Pandas?\n",
        "\n",
        "ANS-Handling missing data in Pandas is important because unaddressed gaps in a dataset can lead to inaccurate analyses, biased results, or even errors when running certain operations or models. Many statistical methods and machine learning algorithms assume that the data is complete, so missing values can cause them to malfunction or produce misleading conclusions. By detecting and addressing these gaps early, you ensure that your analysis is based on reliable and consistent information.\n",
        "\n",
        "In Pandas, missing data is typically represented as `NaN` (Not a Number) for numerical values or `None` for objects. If these values are left untreated, they can interfere with calculations—for example, the presence of a single `NaN` in a column can cause aggregation functions like `.mean()` or `.sum()` to return `NaN` for the entire result unless explicitly handled. Moreover, missing values can distort patterns in visualizations or skew summary statistics, making it harder to interpret the dataset correctly.\n",
        "\n",
        "Proper handling of missing data—whether by removing affected rows, filling gaps with imputed values, or applying interpolation—helps maintain data integrity. This step is a critical part of data preprocessing, ensuring that subsequent analyses, transformations, and model training produce meaningful and trustworthy outcomes."
      ],
      "metadata": {
        "id": "vHivKTIyTOAe"
      }
    },
    {
      "cell_type": "markdown",
      "source": [
        "14) What are the benefits of using Plotly for data visualization?\n",
        "\n",
        "ANS-Plotly offers several benefits for data visualization, particularly when interactivity and presentation quality are important. One of its main advantages is that it creates interactive charts by default, allowing users to zoom, pan, hover for details, and toggle data series without additional configuration. This interactivity makes it ideal for exploratory data analysis, where dynamically exploring patterns can reveal insights that static charts might hide.\n",
        "\n",
        "Another benefit is its versatility. Plotly supports a wide range of visualizations, from basic line and bar charts to complex 3D plots, geographic maps, and dashboards. It integrates well with Jupyter notebooks, Python scripts, and web applications, making it suitable for both analysis and sharing results. Its compatibility with web frameworks like Dash also allows you to build interactive data-driven applications without deep front-end coding knowledge.\n",
        "\n",
        "Additionally, Plotly emphasizes aesthetic quality with modern, polished default styles, reducing the amount of manual formatting needed. Because it works seamlessly with Pandas DataFrames and NumPy arrays, it fits naturally into Python data workflows. Overall, Plotly combines the analytical capabilities of Python with the visual richness and interactivity expected in modern data presentations, making it a powerful tool for both data exploration and storytelling."
      ],
      "metadata": {
        "id": "giihDVlLTXx0"
      }
    },
    {
      "cell_type": "markdown",
      "source": [
        "15) How does NumPy handle multidimensional arrays?\n",
        "\n",
        "ANS-NumPy handles multidimensional arrays using its core data structure, the **`ndarray`**, which can store data in any number of dimensions—ranging from simple one-dimensional vectors to complex multi-dimensional tensors. Each dimension is called an **axis**, and the total number of axes is known as the **rank** of the array. For example, a 2D array has rows and columns, while a 3D array might represent layers of 2D data stacked together.\n",
        "\n",
        "Internally, NumPy stores these arrays in contiguous blocks of memory and keeps track of their shape, data type, and strides (the number of bytes to step in each dimension when traversing the array). This design allows NumPy to access elements efficiently and perform operations across any axis without explicitly looping through the elements in Python code.\n",
        "\n",
        "NumPy also provides a rich set of tools for working with multidimensional arrays, such as slicing, reshaping, transposing, and broadcasting. These features make it possible to manipulate complex datasets, perform mathematical operations across specific dimensions, and handle large-scale numerical computations with high speed and memory efficiency. By combining this low-level memory efficiency with high-level Python syntax, NumPy makes working with multidimensional data both powerful and convenient."
      ],
      "metadata": {
        "id": "u8tkFIhFTgKx"
      }
    },
    {
      "cell_type": "markdown",
      "source": [
        "16) What is the role of Bokeh in data visualization?\n",
        "\n",
        "ANS-Bokeh is a Python library designed for creating interactive and visually appealing data visualizations, particularly for use in modern web browsers. Its primary role is to enable the creation of dynamic, web-ready plots and dashboards without requiring extensive JavaScript knowledge. Bokeh generates visualizations that can respond to user input—such as zooming, panning, hovering for tooltips, and filtering data—making it well-suited for exploratory data analysis and interactive reporting.\n",
        "\n",
        "One of Bokeh’s strengths is its ability to handle large datasets efficiently by streaming and updating data in real time. It integrates smoothly with popular Python data analysis tools like Pandas and NumPy, and it can produce both simple charts (e.g., line, bar, scatter) and more advanced layouts such as linked plots, interactive widgets, and complex dashboards. Bokeh visualizations can be embedded into web applications, exported as standalone HTML files, or integrated into Jupyter notebooks for interactive exploration.\n",
        "\n",
        "In essence, Bokeh’s role is to bridge the gap between Python’s analytical power and the interactivity of modern web-based visualizations. It is especially valuable when you need to share data insights in a way that engages users, allows them to explore patterns, and supports real-time or dynamic data updates."
      ],
      "metadata": {
        "id": "6pmCJuDMToph"
      }
    },
    {
      "cell_type": "markdown",
      "source": [
        "17) Explain the difference between apply() and map() in Pandas?\n",
        "\n",
        "ANS-In Pandas, both `apply()` and `map()` are used to apply functions to data, but they differ in scope, flexibility, and the types of objects they operate on.\n",
        "\n",
        "The `map()` method is designed primarily for **Pandas Series** objects (one-dimensional data). It allows you to apply a function, a dictionary mapping, or a Series mapping to each element in the Series. This makes it useful for element-wise transformations, such as converting values, formatting strings, or performing simple computations on individual items. However, `map()` cannot be directly applied to DataFrames as a whole—it’s limited to one-dimensional transformations.\n",
        "\n",
        "The `apply()` method is more versatile and works with both **DataFrames** and **Series**. When used on a Series, `apply()` behaves similarly to `map()` by applying a function to each element. When used on a DataFrame, `apply()` can apply a function to either each column or each row, depending on the `axis` parameter. This means `apply()` is better suited for more complex operations that require working with entire rows or columns at once, rather than single values.\n",
        "\n",
        "In short, `map()` is best for simple, element-wise transformations on a Series, while `apply()` is the more general tool for applying functions to Series or DataFrames, including row-wise and column-wise operations.\n"
      ],
      "metadata": {
        "id": "pID5g3GdTy2v"
      }
    },
    {
      "cell_type": "markdown",
      "source": [
        "18) What are some advanced features of NumPy?\n",
        "\n",
        "ANS-NumPy offers several advanced features that go beyond basic array creation and arithmetic, making it a powerful tool for high-performance scientific and numerical computing. One such feature is **broadcasting**, which allows arrays of different shapes to be used together in operations without explicit resizing, greatly simplifying code and improving efficiency. Another is **vectorization**, where operations are applied to entire arrays at once, eliminating Python loops and leveraging fast, low-level C implementations for speed.\n",
        "\n",
        "NumPy also supports **advanced indexing**, including boolean indexing and fancy indexing with integer arrays, enabling you to extract and manipulate complex data subsets with concise expressions. Its **universal functions (ufuncs)** provide optimized element-wise operations and support features like reduction, accumulation, and outer products directly on arrays.\n",
        "\n",
        "Other notable capabilities include **linear algebra operations** via `numpy.linalg`, **Fourier transforms** with `numpy.fft`, and **random number generation** through `numpy.random`. Memory efficiency is further enhanced by **views** and **slicing**, which allow you to work with parts of arrays without copying data. For highly specialized needs, NumPy offers **structured arrays** to handle mixed data types and **integration with C/C++ and Fortran** for performance-critical applications. Together, these features make NumPy not just a container for numbers but a complete foundation for scientific computing in Python.\n"
      ],
      "metadata": {
        "id": "LOPJGQSFUAhu"
      }
    },
    {
      "cell_type": "markdown",
      "source": [
        "19) How does Pandas simplify time series analysis?\n",
        "\n",
        "ANS-Pandas simplifies time series analysis by providing specialized data structures, indexing options, and built-in methods tailored for working with date and time information. Its **`DatetimeIndex`** allows you to store timestamps as the index of a Series or DataFrame, enabling fast and intuitive time-based indexing, slicing, and subsetting. For example, you can easily select all data from a specific year, month, or date range using simple, human-readable expressions.\n",
        "\n",
        "The library also offers powerful **resampling** and **frequency conversion** tools, which make it straightforward to aggregate data to a different time scale—such as converting daily data to monthly averages or breaking hourly data into 15-minute intervals. Time-shifting methods allow you to move data forward or backward in time, which is useful for creating lag features or aligning data for analysis.\n",
        "\n",
        "In addition, Pandas integrates well with NumPy’s datetime functionality and supports direct parsing of date strings when reading files, automatically converting them into proper datetime objects. It also includes rolling window calculations, exponentially weighted statistics, and handling of irregular time series, making it a complete toolkit for preprocessing, analyzing, and visualizing time-based datasets with minimal effort.\n"
      ],
      "metadata": {
        "id": "vMu5uYnbUIuN"
      }
    },
    {
      "cell_type": "markdown",
      "source": [
        "20) What is the role of a pivot table in Pandas?\n",
        "\n",
        "ANS-A pivot table in Pandas plays the role of summarizing and reorganizing data to provide meaningful insights by aggregating values based on one or more categorical variables. It allows you to transform long-format data into a more readable, table-like structure where rows and columns represent different categories, and the cells contain aggregated results such as sums, averages, counts, or other statistics.\n",
        "\n",
        "The pivot table helps in quickly analyzing relationships between variables by grouping data and computing summaries across multiple dimensions simultaneously. For example, in sales data, you could create a pivot table to see total sales amounts by region and product category, making it easier to spot trends and compare performance.\n",
        "\n",
        "Pandas’ `pivot_table()` function also supports flexible aggregation methods, handling missing data gracefully, and allows you to specify which columns to use as indices, columns, and values. This versatility makes pivot tables a powerful tool for exploratory data analysis, reporting, and data reshaping.\n"
      ],
      "metadata": {
        "id": "a1UvErjWUQFf"
      }
    },
    {
      "cell_type": "markdown",
      "source": [
        "21) Why is NumPy’s array slicing faster than Python’s list slicing?\n",
        "\n",
        "ANS-NumPy’s array slicing is faster than Python’s list slicing primarily because of how the data is stored and accessed in memory. NumPy arrays store elements in a contiguous block of memory with a fixed data type, which allows slicing to create **views**—lightweight references to the original data without copying it. This means when you slice a NumPy array, no new data is actually copied; instead, NumPy simply adjusts pointers and metadata to represent the desired subset, making slicing operations very fast and memory-efficient.\n",
        "\n",
        "In contrast, Python lists are collections of references to objects that can be of varying types and are stored non-contiguously. When you slice a list, Python creates a new list and copies the references of the sliced elements into it, which involves more overhead both in time and memory usage. Additionally, because NumPy operations are implemented in optimized C code, they benefit from lower-level speed improvements that Python’s list operations do not have.\n",
        "\n",
        "Together, these factors make NumPy slicing much more efficient, especially for large datasets and numerical computations where speed and memory are critical.\n"
      ],
      "metadata": {
        "id": "CeZRgHp9Ufq8"
      }
    },
    {
      "cell_type": "markdown",
      "source": [
        "22) What are some common use cases for Seaborn?\n",
        "\n",
        "ANS-Seaborn is commonly used for statistical data visualization thanks to its simplicity and powerful features. One frequent use case is exploring **relationships between variables** through scatter plots, regression plots, and pair plots, which help reveal correlations, trends, and clusters in data. Seaborn’s ability to easily visualize distributions with histograms, kernel density estimates (KDE), and rug plots makes it ideal for understanding the shape, spread, and modality of datasets.\n",
        "\n",
        "Another common application is **categorical data visualization**, where Seaborn provides functions like box plots, violin plots, bar plots, and count plots. These help compare groups, highlight differences, and detect outliers in data divided by categories or classes. Seaborn also excels at creating **heatmaps** for correlation matrices or other matrix data, enabling quick detection of patterns or relationships between multiple variables.\n",
        "\n",
        "Because it integrates tightly with Pandas DataFrames, Seaborn is widely used in exploratory data analysis (EDA) to generate insightful, publication-quality visualizations with minimal code. It’s especially popular in data science, machine learning, and academic research to communicate findings clearly and effectively.\n"
      ],
      "metadata": {
        "id": "eIIukltwUpsH"
      }
    },
    {
      "cell_type": "markdown",
      "source": [
        "#Practical"
      ],
      "metadata": {
        "id": "-KO4N2qsUyGc"
      }
    },
    {
      "cell_type": "markdown",
      "source": [
        "1) How do you create a 2D NumPy array and calculate the sum of each row?\n",
        "\n",
        "ANS-"
      ],
      "metadata": {
        "id": "t-bSPNuoXLTj"
      }
    },
    {
      "cell_type": "code",
      "source": [
        "import numpy as np\n",
        "\n",
        "arr = np.array([[1, 2, 3],\n",
        "                [4, 5, 6],\n",
        "                [7, 8, 9]])\n",
        "\n",
        "row_sums = arr.sum(axis=1)\n",
        "\n",
        "print(row_sums)"
      ],
      "metadata": {
        "colab": {
          "base_uri": "https://localhost:8080/"
        },
        "id": "f217W80TXPod",
        "outputId": "f336288b-c963-472e-c25c-e50545c4662e"
      },
      "execution_count": null,
      "outputs": [
        {
          "output_type": "stream",
          "name": "stdout",
          "text": [
            "[ 6 15 24]\n"
          ]
        }
      ]
    },
    {
      "cell_type": "markdown",
      "source": [
        "2) Write a Pandas script to find the mean of a specific column in a DataFram?\n",
        "\n",
        "ANS-"
      ],
      "metadata": {
        "id": "BWPLjsUtXqFT"
      }
    },
    {
      "cell_type": "code",
      "source": [
        "import pandas as pd\n",
        "\n",
        "df = pd.DataFrame({\n",
        "    'A': [10, 20, 30, 40],\n",
        "    'B': [5, 15, 25, 35]\n",
        "})\n",
        "\n",
        "mean_value = df['A'].mean()\n",
        "\n",
        "print(mean_value)\n"
      ],
      "metadata": {
        "colab": {
          "base_uri": "https://localhost:8080/"
        },
        "id": "IOTZPHelXWEd",
        "outputId": "efb128b2-c57c-4281-da8a-f36adea20c53"
      },
      "execution_count": null,
      "outputs": [
        {
          "output_type": "stream",
          "name": "stdout",
          "text": [
            "25.0\n"
          ]
        }
      ]
    },
    {
      "cell_type": "markdown",
      "source": [
        "3) Create a scatter plot using Matplotlib?\n",
        "\n",
        "ANS-"
      ],
      "metadata": {
        "id": "kZrrZb6-X8GL"
      }
    },
    {
      "cell_type": "code",
      "source": [
        "import matplotlib.pyplot as plt\n",
        "\n",
        "x = [1, 2, 3, 4, 5]\n",
        "y = [5, 7, 4, 6, 8]\n",
        "\n",
        "plt.scatter(x, y)\n",
        "plt.xlabel('X-axis')\n",
        "plt.ylabel('Y-axis')\n",
        "plt.title('Scatter Plot')\n",
        "plt.show()\n"
      ],
      "metadata": {
        "colab": {
          "base_uri": "https://localhost:8080/",
          "height": 472
        },
        "id": "8aJvwoDmX4mt",
        "outputId": "fb50c48a-48e0-4058-8d9e-ae5c98b55411"
      },
      "execution_count": null,
      "outputs": [
        {
          "output_type": "display_data",
          "data": {
            "text/plain": [
              "<Figure size 640x480 with 1 Axes>"
            ],
            "image/png": "[encoded data removed]"
          },
          "metadata": {}
        }
      ]
    },
    {
      "cell_type": "markdown",
      "source": [
        "4) How do you calculate the correlation matrix using Seaborn and visualize it with a heatmap?\n",
        "\n",
        "ANS-"
      ],
      "metadata": {
        "id": "C4XQizdtYG1P"
      }
    },
    {
      "cell_type": "code",
      "source": [
        "import seaborn as sns\n",
        "import pandas as pd\n",
        "import matplotlib.pyplot as plt\n",
        "\n",
        "data = pd.DataFrame({\n",
        "    'A': [1, 2, 3, 4, 5],\n",
        "    'B': [5, 4, 3, 2, 1],\n",
        "    'C': [2, 3, 4, 5, 6]\n",
        "})\n",
        "\n",
        "corr_matrix = data.corr()\n",
        "\n",
        "sns.heatmap(corr_matrix, annot=True, cmap='coolwarm')\n",
        "plt.show()\n"
      ],
      "metadata": {
        "colab": {
          "base_uri": "https://localhost:8080/",
          "height": 435
        },
        "id": "QlbuFn-fYEc_",
        "outputId": "75399be7-14ac-4fe1-b465-e8ede71c6be0"
      },
      "execution_count": null,
      "outputs": [
        {
          "output_type": "display_data",
          "data": {
            "text/plain": [
              "<Figure size 640x480 with 2 Axes>"
            ],
            "image/png": "[encoded data removed]"
          },
          "metadata": {}
        }
      ]
    },
    {
      "cell_type": "markdown",
      "source": [
        "5) Generate a bar plot using Plotly?\n",
        "\n",
        "ANS-"
      ],
      "metadata": {
        "id": "NvWp2X3vYgyk"
      }
    },
    {
      "cell_type": "code",
      "source": [
        "import plotly.express as px\n",
        "import pandas as pd\n",
        "\n",
        "df = pd.DataFrame({\n",
        "    'Category': ['A', 'B', 'C', 'D'],\n",
        "    'Values': [10, 15, 7, 12]\n",
        "})\n",
        "\n",
        "fig = px.bar(df, x='Category', y='Values', title='Bar Plot Example')\n",
        "fig.show()\n"
      ],
      "metadata": {
        "colab": {
          "base_uri": "https://localhost:8080/",
          "height": 542
        },
        "id": "mG2acgvgYcaU",
        "outputId": "e646d600-e216-48f8-cffb-2d2e1f174192"
      },
      "execution_count": null,
      "outputs": [
        {
          "output_type": "display_data",
          "data": {
            "text/html": [
              "<html>\n",
              "<head><meta charset=\"utf-8\" /></head>\n",
              "<body>\n",
              "    <div>            <script src=\"https://cdnjs.cloudflare.com/ajax/libs/mathjax/2.7.5/MathJax.js?config=TeX-AMS-MML_SVG\"></script><script type=\"text/javascript\">if (window.MathJax && window.MathJax.Hub && window.MathJax.Hub.Config) {window.MathJax.Hub.Config({SVG: {font: \"STIX-Web\"}});}</script>                <script type=\"text/javascript\">window.PlotlyConfig = {MathJaxConfig: 'local'};</script>\n",
              "        <script charset=\"utf-8\" src=\"https://cdn.plot.ly/plotly-2.35.2.min.js\"></script>                <div id=\"a1731f96-24a3-46ca-a636-94bd1df6b284\" class=\"plotly-graph-div\" style=\"height:525px; width:100%;\"></div>            <script type=\"text/javascript\">                                    window.PLOTLYENV=window.PLOTLYENV || {};                                    if (document.getElementById(\"a1731f96-24a3-46ca-a636-94bd1df6b284\")) {                    Plotly.newPlot(                        \"a1731f96-24a3-46ca-a636-94bd1df6b284\",                        [{\"alignmentgroup\":\"True\",\"hovertemplate\":\"Category=%{x}\\u003cbr\\u003eValues=%{y}\\u003cextra\\u003e\\u003c\\u002fextra\\u003e\",\"legendgroup\":\"\",\"marker\":{\"color\":\"#636efa\",\"pattern\":{\"shape\":\"\"}},\"name\":\"\",\"offsetgroup\":\"\",\"orientation\":\"v\",\"showlegend\":false,\"textposition\":\"auto\",\"x\":[\"A\",\"B\",\"C\",\"D\"],\"xaxis\":\"x\",\"y\":[10,15,7,12],\"yaxis\":\"y\",\"type\":\"bar\"}],                        {\"template\":{\"data\":{\"histogram2dcontour\":[{\"type\":\"histogram2dcontour\",\"colorbar\":{\"outlinewidth\":0,\"ticks\":\"\"},\"colorscale\":[[0.0,\"#0d0887\"],[0.1111111111111111,\"#46039f\"],[0.2222222222222222,\"#7201a8\"],[0.3333333333333333,\"#9c179e\"],[0.4444444444444444,\"#bd3786\"],[0.5555555555555556,\"#d8576b\"],[0.6666666666666666,\"#ed7953\"],[0.7777777777777778,\"#fb9f3a\"],[0.8888888888888888,\"#fdca26\"],[1.0,\"#f0f921\"]]}],\"choropleth\":[{\"type\":\"choropleth\",\"colorbar\":{\"outlinewidth\":0,\"ticks\":\"\"}}],\"histogram2d\":[{\"type\":\"histogram2d\",\"colorbar\":{\"outlinewidth\":0,\"ticks\":\"\"},\"colorscale\":[[0.0,\"#0d0887\"],[0.1111111111111111,\"#46039f\"],[0.2222222222222222,\"#7201a8\"],[0.3333333333333333,\"#9c179e\"],[0.4444444444444444,\"#bd3786\"],[0.5555555555555556,\"#d8576b\"],[0.6666666666666666,\"#ed7953\"],[0.7777777777777778,\"#fb9f3a\"],[0.8888888888888888,\"#fdca26\"],[1.0,\"#f0f921\"]]}],\"heatmap\":[{\"type\":\"heatmap\",\"colorbar\":{\"outlinewidth\":0,\"ticks\":\"\"},\"colorscale\":[[0.0,\"#0d0887\"],[0.1111111111111111,\"#46039f\"],[0.2222222222222222,\"#7201a8\"],[0.3333333333333333,\"#9c179e\"],[0.4444444444444444,\"#bd3786\"],[0.5555555555555556,\"#d8576b\"],[0.6666666666666666,\"#ed7953\"],[0.7777777777777778,\"#fb9f3a\"],[0.8888888888888888,\"#fdca26\"],[1.0,\"#f0f921\"]]}],\"heatmapgl\":[{\"type\":\"heatmapgl\",\"colorbar\":{\"outlinewidth\":0,\"ticks\":\"\"},\"colorscale\":[[0.0,\"#0d0887\"],[0.1111111111111111,\"#46039f\"],[0.2222222222222222,\"#7201a8\"],[0.3333333333333333,\"#9c179e\"],[0.4444444444444444,\"#bd3786\"],[0.5555555555555556,\"#d8576b\"],[0.6666666666666666,\"#ed7953\"],[0.7777777777777778,\"#fb9f3a\"],[0.8888888888888888,\"#fdca26\"],[1.0,\"#f0f921\"]]}],\"contourcarpet\":[{\"type\":\"contourcarpet\",\"colorbar\":{\"outlinewidth\":0,\"ticks\":\"\"}}],\"contour\":[{\"type\":\"contour\",\"colorbar\":{\"outlinewidth\":0,\"ticks\":\"\"},\"colorscale\":[[0.0,\"#0d0887\"],[0.1111111111111111,\"#46039f\"],[0.2222222222222222,\"#7201a8\"],[0.3333333333333333,\"#9c179e\"],[0.4444444444444444,\"#bd3786\"],[0.5555555555555556,\"#d8576b\"],[0.6666666666666666,\"#ed7953\"],[0.7777777777777778,\"#fb9f3a\"],[0.8888888888888888,\"#fdca26\"],[1.0,\"#f0f921\"]]}],\"surface\":[{\"type\":\"surface\",\"colorbar\":{\"outlinewidth\":0,\"ticks\":\"\"},\"colorscale\":[[0.0,\"#0d0887\"],[0.1111111111111111,\"#46039f\"],[0.2222222222222222,\"#7201a8\"],[0.3333333333333333,\"#9c179e\"],[0.4444444444444444,\"#bd3786\"],[0.5555555555555556,\"#d8576b\"],[0.6666666666666666,\"#ed7953\"],[0.7777777777777778,\"#fb9f3a\"],[0.8888888888888888,\"#fdca26\"],[1.0,\"#f0f921\"]]}],\"mesh3d\":[{\"type\":\"mesh3d\",\"colorbar\":{\"outlinewidth\":0,\"ticks\":\"\"}}],\"scatter\":[{\"fillpattern\":{\"fillmode\":\"overlay\",\"size\":10,\"solidity\":0.2},\"type\":\"scatter\"}],\"parcoords\":[{\"type\":\"parcoords\",\"line\":{\"colorbar\":{\"outlinewidth\":0,\"ticks\":\"\"}}}],\"scatterpolargl\":[{\"type\":\"scatterpolargl\",\"marker\":{\"colorbar\":{\"outlinewidth\":0,\"ticks\":\"\"}}}],\"bar\":[{\"error_x\":{\"color\":\"#2a3f5f\"},\"error_y\":{\"color\":\"#2a3f5f\"},\"marker\":{\"line\":{\"color\":\"#E5ECF6\",\"width\":0.5},\"pattern\":{\"fillmode\":\"overlay\",\"size\":10,\"solidity\":0.2}},\"type\":\"bar\"}],\"scattergeo\":[{\"type\":\"scattergeo\",\"marker\":{\"colorbar\":{\"outlinewidth\":0,\"ticks\":\"\"}}}],\"scatterpolar\":[{\"type\":\"scatterpolar\",\"marker\":{\"colorbar\":{\"outlinewidth\":0,\"ticks\":\"\"}}}],\"histogram\":[{\"marker\":{\"pattern\":{\"fillmode\":\"overlay\",\"size\":10,\"solidity\":0.2}},\"type\":\"histogram\"}],\"scattergl\":[{\"type\":\"scattergl\",\"marker\":{\"colorbar\":{\"outlinewidth\":0,\"ticks\":\"\"}}}],\"scatter3d\":[{\"type\":\"scatter3d\",\"line\":{\"colorbar\":{\"outlinewidth\":0,\"ticks\":\"\"}},\"marker\":{\"colorbar\":{\"outlinewidth\":0,\"ticks\":\"\"}}}],\"scattermapbox\":[{\"type\":\"scattermapbox\",\"marker\":{\"colorbar\":{\"outlinewidth\":0,\"ticks\":\"\"}}}],\"scatterternary\":[{\"type\":\"scatterternary\",\"marker\":{\"colorbar\":{\"outlinewidth\":0,\"ticks\":\"\"}}}],\"scattercarpet\":[{\"type\":\"scattercarpet\",\"marker\":{\"colorbar\":{\"outlinewidth\":0,\"ticks\":\"\"}}}],\"carpet\":[{\"aaxis\":{\"endlinecolor\":\"#2a3f5f\",\"gridcolor\":\"white\",\"linecolor\":\"white\",\"minorgridcolor\":\"white\",\"startlinecolor\":\"#2a3f5f\"},\"baxis\":{\"endlinecolor\":\"#2a3f5f\",\"gridcolor\":\"white\",\"linecolor\":\"white\",\"minorgridcolor\":\"white\",\"startlinecolor\":\"#2a3f5f\"},\"type\":\"carpet\"}],\"table\":[{\"cells\":{\"fill\":{\"color\":\"#EBF0F8\"},\"line\":{\"color\":\"white\"}},\"header\":{\"fill\":{\"color\":\"#C8D4E3\"},\"line\":{\"color\":\"white\"}},\"type\":\"table\"}],\"barpolar\":[{\"marker\":{\"line\":{\"color\":\"#E5ECF6\",\"width\":0.5},\"pattern\":{\"fillmode\":\"overlay\",\"size\":10,\"solidity\":0.2}},\"type\":\"barpolar\"}],\"pie\":[{\"automargin\":true,\"type\":\"pie\"}]},\"layout\":{\"autotypenumbers\":\"strict\",\"colorway\":[\"#636efa\",\"#EF553B\",\"#00cc96\",\"#ab63fa\",\"#FFA15A\",\"#19d3f3\",\"#FF6692\",\"#B6E880\",\"#FF97FF\",\"#FECB52\"],\"font\":{\"color\":\"#2a3f5f\"},\"hovermode\":\"closest\",\"hoverlabel\":{\"align\":\"left\"},\"paper_bgcolor\":\"white\",\"plot_bgcolor\":\"#E5ECF6\",\"polar\":{\"bgcolor\":\"#E5ECF6\",\"angularaxis\":{\"gridcolor\":\"white\",\"linecolor\":\"white\",\"ticks\":\"\"},\"radialaxis\":{\"gridcolor\":\"white\",\"linecolor\":\"white\",\"ticks\":\"\"}},\"ternary\":{\"bgcolor\":\"#E5ECF6\",\"aaxis\":{\"gridcolor\":\"white\",\"linecolor\":\"white\",\"ticks\":\"\"},\"baxis\":{\"gridcolor\":\"white\",\"linecolor\":\"white\",\"ticks\":\"\"},\"caxis\":{\"gridcolor\":\"white\",\"linecolor\":\"white\",\"ticks\":\"\"}},\"coloraxis\":{\"colorbar\":{\"outlinewidth\":0,\"ticks\":\"\"}},\"colorscale\":{\"sequential\":[[0.0,\"#0d0887\"],[0.1111111111111111,\"#46039f\"],[0.2222222222222222,\"#7201a8\"],[0.3333333333333333,\"#9c179e\"],[0.4444444444444444,\"#bd3786\"],[0.5555555555555556,\"#d8576b\"],[0.6666666666666666,\"#ed7953\"],[0.7777777777777778,\"#fb9f3a\"],[0.8888888888888888,\"#fdca26\"],[1.0,\"#f0f921\"]],\"sequentialminus\":[[0.0,\"#0d0887\"],[0.1111111111111111,\"#46039f\"],[0.2222222222222222,\"#7201a8\"],[0.3333333333333333,\"#9c179e\"],[0.4444444444444444,\"#bd3786\"],[0.5555555555555556,\"#d8576b\"],[0.6666666666666666,\"#ed7953\"],[0.7777777777777778,\"#fb9f3a\"],[0.8888888888888888,\"#fdca26\"],[1.0,\"#f0f921\"]],\"diverging\":[[0,\"#8e0152\"],[0.1,\"#c51b7d\"],[0.2,\"#de77ae\"],[0.3,\"#f1b6da\"],[0.4,\"#fde0ef\"],[0.5,\"#f7f7f7\"],[0.6,\"#e6f5d0\"],[0.7,\"#b8e186\"],[0.8,\"#7fbc41\"],[0.9,\"#4d9221\"],[1,\"#276419\"]]},\"xaxis\":{\"gridcolor\":\"white\",\"linecolor\":\"white\",\"ticks\":\"\",\"title\":{\"standoff\":15},\"zerolinecolor\":\"white\",\"automargin\":true,\"zerolinewidth\":2},\"yaxis\":{\"gridcolor\":\"white\",\"linecolor\":\"white\",\"ticks\":\"\",\"title\":{\"standoff\":15},\"zerolinecolor\":\"white\",\"automargin\":true,\"zerolinewidth\":2},\"scene\":{\"xaxis\":{\"backgroundcolor\":\"#E5ECF6\",\"gridcolor\":\"white\",\"linecolor\":\"white\",\"showbackground\":true,\"ticks\":\"\",\"zerolinecolor\":\"white\",\"gridwidth\":2},\"yaxis\":{\"backgroundcolor\":\"#E5ECF6\",\"gridcolor\":\"white\",\"linecolor\":\"white\",\"showbackground\":true,\"ticks\":\"\",\"zerolinecolor\":\"white\",\"gridwidth\":2},\"zaxis\":{\"backgroundcolor\":\"#E5ECF6\",\"gridcolor\":\"white\",\"linecolor\":\"white\",\"showbackground\":true,\"ticks\":\"\",\"zerolinecolor\":\"white\",\"gridwidth\":2}},\"shapedefaults\":{\"line\":{\"color\":\"#2a3f5f\"}},\"annotationdefaults\":{\"arrowcolor\":\"#2a3f5f\",\"arrowhead\":0,\"arrowwidth\":1},\"geo\":{\"bgcolor\":\"white\",\"landcolor\":\"#E5ECF6\",\"subunitcolor\":\"white\",\"showland\":true,\"showlakes\":true,\"lakecolor\":\"white\"},\"title\":{\"x\":0.05},\"mapbox\":{\"style\":\"light\"}}},\"xaxis\":{\"anchor\":\"y\",\"domain\":[0.0,1.0],\"title\":{\"text\":\"Category\"}},\"yaxis\":{\"anchor\":\"x\",\"domain\":[0.0,1.0],\"title\":{\"text\":\"Values\"}},\"legend\":{\"tracegroupgap\":0},\"title\":{\"text\":\"Bar Plot Example\"},\"barmode\":\"relative\"},                        {\"responsive\": true}                    ).then(function(){\n",
              "                            \n",
              "var gd = document.getElementById('a1731f96-24a3-46ca-a636-94bd1df6b284');\n",
              "var x = new MutationObserver(function (mutations, observer) {{\n",
              "        var display = window.getComputedStyle(gd).display;\n",
              "        if (!display || display === 'none') {{\n",
              "            console.log([gd, 'removed!']);\n",
              "            Plotly.purge(gd);\n",
              "            observer.disconnect();\n",
              "        }}\n",
              "}});\n",
              "\n",
              "// Listen for the removal of the full notebook cells\n",
              "var notebookContainer = gd.closest('#notebook-container');\n",
              "if (notebookContainer) {{\n",
              "    x.observe(notebookContainer, {childList: true});\n",
              "}}\n",
              "\n",
              "// Listen for the clearing of the current output cell\n",
              "var outputEl = gd.closest('.output');\n",
              "if (outputEl) {{\n",
              "    x.observe(outputEl, {childList: true});\n",
              "}}\n",
              "\n",
              "                        })                };                            </script>        </div>\n",
              "</body>\n",
              "</html>"
            ]
          },
          "metadata": {}
        }
      ]
    },
    {
      "cell_type": "markdown",
      "source": [
        "6) Create a DataFrame and add a new column based on an existing column?\n",
        "\n",
        "ANS-"
      ],
      "metadata": {
        "id": "TaZcnLo1YvT1"
      }
    },
    {
      "cell_type": "code",
      "source": [
        "import pandas as pd\n",
        "\n",
        "df = pd.DataFrame({\n",
        "    'Numbers': [1, 2, 3, 4, 5]\n",
        "})\n",
        "\n",
        "df['Squares'] = df['Numbers'] ** 2\n",
        "\n",
        "print(df)\n"
      ],
      "metadata": {
        "colab": {
          "base_uri": "https://localhost:8080/"
        },
        "id": "8i_6RK3qYs87",
        "outputId": "07bb0afe-ee53-4c8e-c5df-20aa4ce09c4e"
      },
      "execution_count": null,
      "outputs": [
        {
          "output_type": "stream",
          "name": "stdout",
          "text": [
            "   Numbers  Squares\n",
            "0        1        1\n",
            "1        2        4\n",
            "2        3        9\n",
            "3        4       16\n",
            "4        5       25\n"
          ]
        }
      ]
    },
    {
      "cell_type": "markdown",
      "source": [
        "7) Write a program to perform element-wise multiplication of two NumPy arrays?\n",
        "\n",
        "ANS-"
      ],
      "metadata": {
        "id": "Ot6TCADfZDg4"
      }
    },
    {
      "cell_type": "code",
      "source": [
        "import numpy as np\n",
        "\n",
        "a = np.array([1, 2, 3])\n",
        "b = np.array([4, 5, 6])\n",
        "\n",
        "result = a * b\n",
        "\n",
        "print(result)\n"
      ],
      "metadata": {
        "colab": {
          "base_uri": "https://localhost:8080/"
        },
        "id": "6chvNxsfY-xx",
        "outputId": "a9523dda-351c-40eb-8fed-34df26a7e253"
      },
      "execution_count": null,
      "outputs": [
        {
          "output_type": "stream",
          "name": "stdout",
          "text": [
            "[ 4 10 18]\n"
          ]
        }
      ]
    },
    {
      "cell_type": "markdown",
      "source": [
        "8) Create a line plot with multiple lines using Matplotlib?\n",
        "\n",
        "ANS-"
      ],
      "metadata": {
        "id": "dm8fGvomZNyq"
      }
    },
    {
      "cell_type": "code",
      "source": [
        "import matplotlib.pyplot as plt\n",
        "\n",
        "x = [1, 2, 3, 4, 5]\n",
        "y1 = [2, 3, 5, 7, 11]\n",
        "y2 = [1, 4, 6, 8, 10]\n",
        "\n",
        "plt.plot(x, y1, label='Line 1')\n",
        "plt.plot(x, y2, label='Line 2')\n",
        "plt.xlabel('X-axis')\n",
        "plt.ylabel('Y-axis')\n",
        "plt.title('Multiple Line Plot')\n",
        "plt.legend()\n",
        "plt.show()\n"
      ],
      "metadata": {
        "colab": {
          "base_uri": "https://localhost:8080/",
          "height": 472
        },
        "id": "Ekcz7c0oZLW0",
        "outputId": "46fa6cdf-4504-4a04-ad22-a0c0663924b2"
      },
      "execution_count": null,
      "outputs": [
        {
          "output_type": "display_data",
          "data": {
            "text/plain": [
              "<Figure size 640x480 with 1 Axes>"
            ],
            "image/png": "[encoded data removed]"
          },
          "metadata": {}
        }
      ]
    },
    {
      "cell_type": "markdown",
      "source": [
        "9) Generate a Pandas DataFrame and filter rows where a column value is greater than a threshold?\n",
        "\n",
        "ANS-"
      ],
      "metadata": {
        "id": "p0BO2U-QZaLX"
      }
    },
    {
      "cell_type": "code",
      "source": [
        "import pandas as pd\n",
        "\n",
        "df = pd.DataFrame({\n",
        "    'Age': [23, 45, 12, 37, 29],\n",
        "    'Name': ['Alice', 'Bob', 'Charlie', 'David', 'Eva']\n",
        "})\n",
        "\n",
        "filtered_df = df[df['Age'] > 30]\n",
        "\n",
        "print(filtered_df)\n"
      ],
      "metadata": {
        "colab": {
          "base_uri": "https://localhost:8080/"
        },
        "id": "2Trkva2xZYvh",
        "outputId": "779e4c07-df89-40c8-9a50-1c0532b3fef1"
      },
      "execution_count": null,
      "outputs": [
        {
          "output_type": "stream",
          "name": "stdout",
          "text": [
            "   Age   Name\n",
            "1   45    Bob\n",
            "3   37  David\n"
          ]
        }
      ]
    },
    {
      "cell_type": "markdown",
      "source": [
        "10) Create a histogram using Seaborn to visualize a distribution?\n",
        "\n",
        "ANS-"
      ],
      "metadata": {
        "id": "4PjVN7iDZpCY"
      }
    },
    {
      "cell_type": "code",
      "source": [
        "import seaborn as sns\n",
        "import matplotlib.pyplot as plt\n",
        "\n",
        "data = [12, 15, 13, 17, 19, 21, 15, 14, 18, 20, 22, 19, 15]\n",
        "\n",
        "sns.histplot(data, bins=5, kde=False)\n",
        "plt.title('Histogram')\n",
        "plt.show()\n"
      ],
      "metadata": {
        "colab": {
          "base_uri": "https://localhost:8080/",
          "height": 452
        },
        "id": "2yCW2z3nZmLO",
        "outputId": "b07d92c3-4e96-45e0-bd26-6d3b6e542b1e"
      },
      "execution_count": null,
      "outputs": [
        {
          "output_type": "display_data",
          "data": {
            "text/plain": [
              "<Figure size 640x480 with 1 Axes>"
            ],
            "image/png": "[encoded data removed]"
          },
          "metadata": {}
        }
      ]
    },
    {
      "cell_type": "markdown",
      "source": [
        "11) Perform matrix multiplication using NumPy?\n",
        "\n",
        "ANS-"
      ],
      "metadata": {
        "id": "BhMsoC9-Zxj4"
      }
    },
    {
      "cell_type": "code",
      "source": [
        "import numpy as np\n",
        "\n",
        "a = np.array([[1, 2],\n",
        "              [3, 4]])\n",
        "\n",
        "b = np.array([[5, 6],\n",
        "              [7, 8]])\n",
        "\n",
        "result = np.dot(a, b)\n",
        "\n",
        "print(result)\n"
      ],
      "metadata": {
        "colab": {
          "base_uri": "https://localhost:8080/"
        },
        "id": "1RHtuP99Zw7G",
        "outputId": "91081ec9-5dfa-49af-fe62-c918bd5c9912"
      },
      "execution_count": null,
      "outputs": [
        {
          "output_type": "stream",
          "name": "stdout",
          "text": [
            "[[19 22]\n",
            " [43 50]]\n"
          ]
        }
      ]
    },
    {
      "cell_type": "markdown",
      "source": [
        "12) Use Pandas to load a CSV file and display its first 5 rows?\n",
        "\n",
        "ANS-"
      ],
      "metadata": {
        "id": "RZr_KDbZZ8bd"
      }
    },
    {
      "cell_type": "code",
      "source": [
        "import pandas as pd\n",
        "\n",
        "df = pd.read_csv('final_dataset.csv')\n",
        "\n",
        "print(df.head())\n"
      ],
      "metadata": {
        "colab": {
          "base_uri": "https://localhost:8080/"
        },
        "id": "N9lyaas8Z4Ra",
        "outputId": "6e087a59-a5a7-453c-8b52-ce45bc22e9c8"
      },
      "execution_count": null,
      "outputs": [
        {
          "output_type": "stream",
          "name": "stdout",
          "text": [
            "   Date  Month  Year  Holidays_Count  Days   PM2.5    PM10     NO2    SO2  \\\n",
            "0     1      1  2021               0     5  408.80  442.42  160.61  12.95   \n",
            "1     2      1  2021               0     6  404.04  561.95   52.85   5.18   \n",
            "2     3      1  2021               1     7  225.07  239.04  170.95  10.93   \n",
            "3     4      1  2021               0     1   89.55  132.08  153.98  10.42   \n",
            "4     5      1  2021               0     2   54.06   55.54  122.66   9.70   \n",
            "\n",
            "     CO  Ozone  AQI  \n",
            "0  2.77  43.19  462  \n",
            "1  2.60  16.43  482  \n",
            "2  1.40  44.29  263  \n",
            "3  1.01  49.19  207  \n",
            "4  0.64  48.88  149  \n"
          ]
        }
      ]
    },
    {
      "cell_type": "markdown",
      "source": [
        "13) Create a 3D scatter plot using Plotly?\n",
        "\n",
        "ANS-"
      ],
      "metadata": {
        "id": "WUvnIBxcawvL"
      }
    },
    {
      "cell_type": "code",
      "source": [
        "import plotly.express as px\n",
        "import pandas as pd\n",
        "\n",
        "df = pd.DataFrame({\n",
        "    'x': [1, 2, 3, 4, 5],\n",
        "    'y': [10, 11, 12, 13, 14],\n",
        "    'z': [5, 6, 7, 8, 9],\n",
        "    'category': ['A', 'B', 'A', 'B', 'A']\n",
        "})\n",
        "\n",
        "fig = px.scatter_3d(df, x='x', y='y', z='z', color='category', title='3D Scatter Plot')\n",
        "fig.show()\n"
      ],
      "metadata": {
        "colab": {
          "base_uri": "https://localhost:8080/",
          "height": 542
        },
        "id": "u05R8iJGatrk",
        "outputId": "31c6b2f2-3258-4670-b7df-212f85ed9a55"
      },
      "execution_count": null,
      "outputs": [
        {
          "output_type": "display_data",
          "data": {
            "text/html": [
              "<html>\n",
              "<head><meta charset=\"utf-8\" /></head>\n",
              "<body>\n",
              "    <div>            <script src=\"https://cdnjs.cloudflare.com/ajax/libs/mathjax/2.7.5/MathJax.js?config=TeX-AMS-MML_SVG\"></script><script type=\"text/javascript\">if (window.MathJax && window.MathJax.Hub && window.MathJax.Hub.Config) {window.MathJax.Hub.Config({SVG: {font: \"STIX-Web\"}});}</script>                <script type=\"text/javascript\">window.PlotlyConfig = {MathJaxConfig: 'local'};</script>\n",
              "        <script charset=\"utf-8\" src=\"https://cdn.plot.ly/plotly-2.35.2.min.js\"></script>                <div id=\"ad8422a1-347b-4a38-8bc6-d4d2841dd30a\" class=\"plotly-graph-div\" style=\"height:525px; width:100%;\"></div>            <script type=\"text/javascript\">                                    window.PLOTLYENV=window.PLOTLYENV || {};                                    if (document.getElementById(\"ad8422a1-347b-4a38-8bc6-d4d2841dd30a\")) {                    Plotly.newPlot(                        \"ad8422a1-347b-4a38-8bc6-d4d2841dd30a\",                        [{\"hovertemplate\":\"category=A\\u003cbr\\u003ex=%{x}\\u003cbr\\u003ey=%{y}\\u003cbr\\u003ez=%{z}\\u003cextra\\u003e\\u003c\\u002fextra\\u003e\",\"legendgroup\":\"A\",\"marker\":{\"color\":\"#636efa\",\"symbol\":\"circle\"},\"mode\":\"markers\",\"name\":\"A\",\"scene\":\"scene\",\"showlegend\":true,\"x\":[1,3,5],\"y\":[10,12,14],\"z\":[5,7,9],\"type\":\"scatter3d\"},{\"hovertemplate\":\"category=B\\u003cbr\\u003ex=%{x}\\u003cbr\\u003ey=%{y}\\u003cbr\\u003ez=%{z}\\u003cextra\\u003e\\u003c\\u002fextra\\u003e\",\"legendgroup\":\"B\",\"marker\":{\"color\":\"#EF553B\",\"symbol\":\"circle\"},\"mode\":\"markers\",\"name\":\"B\",\"scene\":\"scene\",\"showlegend\":true,\"x\":[2,4],\"y\":[11,13],\"z\":[6,8],\"type\":\"scatter3d\"}],                        {\"template\":{\"data\":{\"histogram2dcontour\":[{\"type\":\"histogram2dcontour\",\"colorbar\":{\"outlinewidth\":0,\"ticks\":\"\"},\"colorscale\":[[0.0,\"#0d0887\"],[0.1111111111111111,\"#46039f\"],[0.2222222222222222,\"#7201a8\"],[0.3333333333333333,\"#9c179e\"],[0.4444444444444444,\"#bd3786\"],[0.5555555555555556,\"#d8576b\"],[0.6666666666666666,\"#ed7953\"],[0.7777777777777778,\"#fb9f3a\"],[0.8888888888888888,\"#fdca26\"],[1.0,\"#f0f921\"]]}],\"choropleth\":[{\"type\":\"choropleth\",\"colorbar\":{\"outlinewidth\":0,\"ticks\":\"\"}}],\"histogram2d\":[{\"type\":\"histogram2d\",\"colorbar\":{\"outlinewidth\":0,\"ticks\":\"\"},\"colorscale\":[[0.0,\"#0d0887\"],[0.1111111111111111,\"#46039f\"],[0.2222222222222222,\"#7201a8\"],[0.3333333333333333,\"#9c179e\"],[0.4444444444444444,\"#bd3786\"],[0.5555555555555556,\"#d8576b\"],[0.6666666666666666,\"#ed7953\"],[0.7777777777777778,\"#fb9f3a\"],[0.8888888888888888,\"#fdca26\"],[1.0,\"#f0f921\"]]}],\"heatmap\":[{\"type\":\"heatmap\",\"colorbar\":{\"outlinewidth\":0,\"ticks\":\"\"},\"colorscale\":[[0.0,\"#0d0887\"],[0.1111111111111111,\"#46039f\"],[0.2222222222222222,\"#7201a8\"],[0.3333333333333333,\"#9c179e\"],[0.4444444444444444,\"#bd3786\"],[0.5555555555555556,\"#d8576b\"],[0.6666666666666666,\"#ed7953\"],[0.7777777777777778,\"#fb9f3a\"],[0.8888888888888888,\"#fdca26\"],[1.0,\"#f0f921\"]]}],\"heatmapgl\":[{\"type\":\"heatmapgl\",\"colorbar\":{\"outlinewidth\":0,\"ticks\":\"\"},\"colorscale\":[[0.0,\"#0d0887\"],[0.1111111111111111,\"#46039f\"],[0.2222222222222222,\"#7201a8\"],[0.3333333333333333,\"#9c179e\"],[0.4444444444444444,\"#bd3786\"],[0.5555555555555556,\"#d8576b\"],[0.6666666666666666,\"#ed7953\"],[0.7777777777777778,\"#fb9f3a\"],[0.8888888888888888,\"#fdca26\"],[1.0,\"#f0f921\"]]}],\"contourcarpet\":[{\"type\":\"contourcarpet\",\"colorbar\":{\"outlinewidth\":0,\"ticks\":\"\"}}],\"contour\":[{\"type\":\"contour\",\"colorbar\":{\"outlinewidth\":0,\"ticks\":\"\"},\"colorscale\":[[0.0,\"#0d0887\"],[0.1111111111111111,\"#46039f\"],[0.2222222222222222,\"#7201a8\"],[0.3333333333333333,\"#9c179e\"],[0.4444444444444444,\"#bd3786\"],[0.5555555555555556,\"#d8576b\"],[0.6666666666666666,\"#ed7953\"],[0.7777777777777778,\"#fb9f3a\"],[0.8888888888888888,\"#fdca26\"],[1.0,\"#f0f921\"]]}],\"surface\":[{\"type\":\"surface\",\"colorbar\":{\"outlinewidth\":0,\"ticks\":\"\"},\"colorscale\":[[0.0,\"#0d0887\"],[0.1111111111111111,\"#46039f\"],[0.2222222222222222,\"#7201a8\"],[0.3333333333333333,\"#9c179e\"],[0.4444444444444444,\"#bd3786\"],[0.5555555555555556,\"#d8576b\"],[0.6666666666666666,\"#ed7953\"],[0.7777777777777778,\"#fb9f3a\"],[0.8888888888888888,\"#fdca26\"],[1.0,\"#f0f921\"]]}],\"mesh3d\":[{\"type\":\"mesh3d\",\"colorbar\":{\"outlinewidth\":0,\"ticks\":\"\"}}],\"scatter\":[{\"fillpattern\":{\"fillmode\":\"overlay\",\"size\":10,\"solidity\":0.2},\"type\":\"scatter\"}],\"parcoords\":[{\"type\":\"parcoords\",\"line\":{\"colorbar\":{\"outlinewidth\":0,\"ticks\":\"\"}}}],\"scatterpolargl\":[{\"type\":\"scatterpolargl\",\"marker\":{\"colorbar\":{\"outlinewidth\":0,\"ticks\":\"\"}}}],\"bar\":[{\"error_x\":{\"color\":\"#2a3f5f\"},\"error_y\":{\"color\":\"#2a3f5f\"},\"marker\":{\"line\":{\"color\":\"#E5ECF6\",\"width\":0.5},\"pattern\":{\"fillmode\":\"overlay\",\"size\":10,\"solidity\":0.2}},\"type\":\"bar\"}],\"scattergeo\":[{\"type\":\"scattergeo\",\"marker\":{\"colorbar\":{\"outlinewidth\":0,\"ticks\":\"\"}}}],\"scatterpolar\":[{\"type\":\"scatterpolar\",\"marker\":{\"colorbar\":{\"outlinewidth\":0,\"ticks\":\"\"}}}],\"histogram\":[{\"marker\":{\"pattern\":{\"fillmode\":\"overlay\",\"size\":10,\"solidity\":0.2}},\"type\":\"histogram\"}],\"scattergl\":[{\"type\":\"scattergl\",\"marker\":{\"colorbar\":{\"outlinewidth\":0,\"ticks\":\"\"}}}],\"scatter3d\":[{\"type\":\"scatter3d\",\"line\":{\"colorbar\":{\"outlinewidth\":0,\"ticks\":\"\"}},\"marker\":{\"colorbar\":{\"outlinewidth\":0,\"ticks\":\"\"}}}],\"scattermapbox\":[{\"type\":\"scattermapbox\",\"marker\":{\"colorbar\":{\"outlinewidth\":0,\"ticks\":\"\"}}}],\"scatterternary\":[{\"type\":\"scatterternary\",\"marker\":{\"colorbar\":{\"outlinewidth\":0,\"ticks\":\"\"}}}],\"scattercarpet\":[{\"type\":\"scattercarpet\",\"marker\":{\"colorbar\":{\"outlinewidth\":0,\"ticks\":\"\"}}}],\"carpet\":[{\"aaxis\":{\"endlinecolor\":\"#2a3f5f\",\"gridcolor\":\"white\",\"linecolor\":\"white\",\"minorgridcolor\":\"white\",\"startlinecolor\":\"#2a3f5f\"},\"baxis\":{\"endlinecolor\":\"#2a3f5f\",\"gridcolor\":\"white\",\"linecolor\":\"white\",\"minorgridcolor\":\"white\",\"startlinecolor\":\"#2a3f5f\"},\"type\":\"carpet\"}],\"table\":[{\"cells\":{\"fill\":{\"color\":\"#EBF0F8\"},\"line\":{\"color\":\"white\"}},\"header\":{\"fill\":{\"color\":\"#C8D4E3\"},\"line\":{\"color\":\"white\"}},\"type\":\"table\"}],\"barpolar\":[{\"marker\":{\"line\":{\"color\":\"#E5ECF6\",\"width\":0.5},\"pattern\":{\"fillmode\":\"overlay\",\"size\":10,\"solidity\":0.2}},\"type\":\"barpolar\"}],\"pie\":[{\"automargin\":true,\"type\":\"pie\"}]},\"layout\":{\"autotypenumbers\":\"strict\",\"colorway\":[\"#636efa\",\"#EF553B\",\"#00cc96\",\"#ab63fa\",\"#FFA15A\",\"#19d3f3\",\"#FF6692\",\"#B6E880\",\"#FF97FF\",\"#FECB52\"],\"font\":{\"color\":\"#2a3f5f\"},\"hovermode\":\"closest\",\"hoverlabel\":{\"align\":\"left\"},\"paper_bgcolor\":\"white\",\"plot_bgcolor\":\"#E5ECF6\",\"polar\":{\"bgcolor\":\"#E5ECF6\",\"angularaxis\":{\"gridcolor\":\"white\",\"linecolor\":\"white\",\"ticks\":\"\"},\"radialaxis\":{\"gridcolor\":\"white\",\"linecolor\":\"white\",\"ticks\":\"\"}},\"ternary\":{\"bgcolor\":\"#E5ECF6\",\"aaxis\":{\"gridcolor\":\"white\",\"linecolor\":\"white\",\"ticks\":\"\"},\"baxis\":{\"gridcolor\":\"white\",\"linecolor\":\"white\",\"ticks\":\"\"},\"caxis\":{\"gridcolor\":\"white\",\"linecolor\":\"white\",\"ticks\":\"\"}},\"coloraxis\":{\"colorbar\":{\"outlinewidth\":0,\"ticks\":\"\"}},\"colorscale\":{\"sequential\":[[0.0,\"#0d0887\"],[0.1111111111111111,\"#46039f\"],[0.2222222222222222,\"#7201a8\"],[0.3333333333333333,\"#9c179e\"],[0.4444444444444444,\"#bd3786\"],[0.5555555555555556,\"#d8576b\"],[0.6666666666666666,\"#ed7953\"],[0.7777777777777778,\"#fb9f3a\"],[0.8888888888888888,\"#fdca26\"],[1.0,\"#f0f921\"]],\"sequentialminus\":[[0.0,\"#0d0887\"],[0.1111111111111111,\"#46039f\"],[0.2222222222222222,\"#7201a8\"],[0.3333333333333333,\"#9c179e\"],[0.4444444444444444,\"#bd3786\"],[0.5555555555555556,\"#d8576b\"],[0.6666666666666666,\"#ed7953\"],[0.7777777777777778,\"#fb9f3a\"],[0.8888888888888888,\"#fdca26\"],[1.0,\"#f0f921\"]],\"diverging\":[[0,\"#8e0152\"],[0.1,\"#c51b7d\"],[0.2,\"#de77ae\"],[0.3,\"#f1b6da\"],[0.4,\"#fde0ef\"],[0.5,\"#f7f7f7\"],[0.6,\"#e6f5d0\"],[0.7,\"#b8e186\"],[0.8,\"#7fbc41\"],[0.9,\"#4d9221\"],[1,\"#276419\"]]},\"xaxis\":{\"gridcolor\":\"white\",\"linecolor\":\"white\",\"ticks\":\"\",\"title\":{\"standoff\":15},\"zerolinecolor\":\"white\",\"automargin\":true,\"zerolinewidth\":2},\"yaxis\":{\"gridcolor\":\"white\",\"linecolor\":\"white\",\"ticks\":\"\",\"title\":{\"standoff\":15},\"zerolinecolor\":\"white\",\"automargin\":true,\"zerolinewidth\":2},\"scene\":{\"xaxis\":{\"backgroundcolor\":\"#E5ECF6\",\"gridcolor\":\"white\",\"linecolor\":\"white\",\"showbackground\":true,\"ticks\":\"\",\"zerolinecolor\":\"white\",\"gridwidth\":2},\"yaxis\":{\"backgroundcolor\":\"#E5ECF6\",\"gridcolor\":\"white\",\"linecolor\":\"white\",\"showbackground\":true,\"ticks\":\"\",\"zerolinecolor\":\"white\",\"gridwidth\":2},\"zaxis\":{\"backgroundcolor\":\"#E5ECF6\",\"gridcolor\":\"white\",\"linecolor\":\"white\",\"showbackground\":true,\"ticks\":\"\",\"zerolinecolor\":\"white\",\"gridwidth\":2}},\"shapedefaults\":{\"line\":{\"color\":\"#2a3f5f\"}},\"annotationdefaults\":{\"arrowcolor\":\"#2a3f5f\",\"arrowhead\":0,\"arrowwidth\":1},\"geo\":{\"bgcolor\":\"white\",\"landcolor\":\"#E5ECF6\",\"subunitcolor\":\"white\",\"showland\":true,\"showlakes\":true,\"lakecolor\":\"white\"},\"title\":{\"x\":0.05},\"mapbox\":{\"style\":\"light\"}}},\"scene\":{\"domain\":{\"x\":[0.0,1.0],\"y\":[0.0,1.0]},\"xaxis\":{\"title\":{\"text\":\"x\"}},\"yaxis\":{\"title\":{\"text\":\"y\"}},\"zaxis\":{\"title\":{\"text\":\"z\"}}},\"legend\":{\"title\":{\"text\":\"category\"},\"tracegroupgap\":0},\"title\":{\"text\":\"3D Scatter Plot\"}},                        {\"responsive\": true}                    ).then(function(){\n",
              "                            \n",
              "var gd = document.getElementById('ad8422a1-347b-4a38-8bc6-d4d2841dd30a');\n",
              "var x = new MutationObserver(function (mutations, observer) {{\n",
              "        var display = window.getComputedStyle(gd).display;\n",
              "        if (!display || display === 'none') {{\n",
              "            console.log([gd, 'removed!']);\n",
              "            Plotly.purge(gd);\n",
              "            observer.disconnect();\n",
              "        }}\n",
              "}});\n",
              "\n",
              "// Listen for the removal of the full notebook cells\n",
              "var notebookContainer = gd.closest('#notebook-container');\n",
              "if (notebookContainer) {{\n",
              "    x.observe(notebookContainer, {childList: true});\n",
              "}}\n",
              "\n",
              "// Listen for the clearing of the current output cell\n",
              "var outputEl = gd.closest('.output');\n",
              "if (outputEl) {{\n",
              "    x.observe(outputEl, {childList: true});\n",
              "}}\n",
              "\n",
              "                        })                };                            </script>        </div>\n",
              "</body>\n",
              "</html>"
            ]
          },
          "metadata": {}
        }
      ]
    }
  ]
}