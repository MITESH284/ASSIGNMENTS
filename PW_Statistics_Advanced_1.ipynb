{
  "nbformat": 4,
  "nbformat_minor": 0,
  "metadata": {
    "colab": {
      "provenance": []
    },
    "kernelspec": {
      "name": "python3",
      "display_name": "Python 3"
    },
    "language_info": {
      "name": "python"
    }
  },
  "cells": [
    {
      "cell_type": "markdown",
      "source": [
        "#Statistics Advanced - 1"
      ],
      "metadata": {
        "id": "72HzNlJWzWYo"
      }
    },
    {
      "cell_type": "markdown",
      "source": [
        "Question 1: What is a random variable in probability theory?\n",
        "\n",
        "Answer: A random variable in probability theory is a function that assigns numerical values to the outcomes of a random experiment, thereby allowing us to study uncertain events mathematically. It connects the abstract concept of a sample space, which consists of all possible outcomes, to the real number system, where probabilities and statistical measures can be applied. Random variables are broadly classified into two types: discrete random variables, which take countable values such as the number of heads in coin tosses, and continuous random variables, which take values from a continuum such as the measurement of time or height. By representing outcomes numerically, random variables serve as the foundation for defining probability distributions, expected values, variances, and many other key concepts in probability and statistics."
      ],
      "metadata": {
        "id": "WfA2B6G2zbKX"
      }
    },
    {
      "cell_type": "markdown",
      "source": [
        "Question 2: What are the types of random variables?\n",
        "\n",
        "Answer: Random variables are generally classified into two main types based on the nature of the values they can assume: discrete random variables and continuous random variables. A discrete random variable is one that can take only a finite or countably infinite set of distinct values, such as the result of rolling a die, the number of heads in coin tosses, or the number of customers arriving at a shop in an hour. In contrast, a continuous random variable can take any value within a given interval on the real number line, meaning its possible outcomes are uncountably infinite. Examples include the time taken to complete a task, the height of individuals, or the amount of rainfall in a day. In addition to these two main categories, there are also mixed random variables, which have characteristics of both discrete and continuous types, although these are less commonly emphasized. This classification is fundamental in probability theory, as it determines the kind of probability distribution and mathematical tools used to analyze the random variable."
      ],
      "metadata": {
        "id": "mkpc_uQ6z2k1"
      }
    },
    {
      "cell_type": "markdown",
      "source": [
        "Question 3: Explain the difference between discrete and continuous distributions.\n",
        "\n",
        "Answer: The difference between discrete and continuous distributions lies in the type of random variables they describe and how probabilities are assigned to outcomes. A discrete distribution is associated with a discrete random variable, which takes on a finite or countably infinite set of values. In such cases, probabilities are assigned to individual outcomes, and the total probability is obtained by summing over these possible values. For example, the binomial distribution models the probability of a certain number of successes in repeated coin tosses, where the outcomes are distinct and countable. On the other hand, a continuous distribution is associated with a continuous random variable, which can take infinitely many values within a range or interval on the real number line. In this case, probabilities are not assigned to exact values but to intervals of values, and they are calculated using integrals of the probability density function. For instance, the normal distribution models continuous data like heights or exam scores, where the probability of the variable taking an exact value is zero, but the probability of it lying within an interval is positive. Thus, the essential distinction is that discrete distributions deal with summations over distinct outcomes, while continuous distributions deal with integrations over continuous ranges."
      ],
      "metadata": {
        "id": "xmT9nLPf0AL5"
      }
    },
    {
      "cell_type": "markdown",
      "source": [
        "Question 4: What is a binomial distribution, and how is it used in probability?\n",
        "\n",
        "Answer:A binomial distribution is a discrete probability distribution that describes the likelihood of obtaining a certain number of successes in a fixed number of independent trials, where each trial has only two possible outcomes: success or failure. It is defined by two parameters: the number of trials\n",
        "𝑛\n",
        "n and the probability of success in each trial\n",
        "𝑝\n",
        "p. The probability of getting exactly\n",
        "𝑘\n",
        "k successes is calculated using the binomial formula, which accounts for both the number of ways the successes can occur and the probabilities of successes and failures. This distribution is widely used in probability theory to model real-life scenarios involving repeated experiments with binary outcomes, such as coin tosses, quality control in manufacturing, or survey responses in favor or against a candidate. Its significance lies in providing a mathematical framework for analyzing binary events and serving as the basis for more advanced probability models and approximations, such as the normal distribution when the number of trials becomes large."
      ],
      "metadata": {
        "id": "QtghEjLE0JRG"
      }
    },
    {
      "cell_type": "markdown",
      "source": [
        "Question 5: What is the standard normal distribution, and why is it important?\n",
        "\n",
        "Answer: The standard normal distribution is a specific type of normal distribution that has a mean of zero and a standard deviation of one, forming a perfectly symmetric, bell-shaped curve centered around zero. It is important because it serves as the basis for standardizing any normal distribution, allowing data with different means and standard deviations to be converted into a common scale.This process, known as standardization, enables the use of\n",
        "𝑍\n",
        "Z-tables to find probabilities and areas under the curve without needing separate tables for every possible normal distribution. The standard normal distribution is fundamental in probability and statistics as it underpins key concepts such as hypothesis testing, confidence intervals, and significance testing, making it one of the most widely applied distributions in both theoretical and practical contexts."
      ],
      "metadata": {
        "id": "qjRF0wgG0on4"
      }
    },
    {
      "cell_type": "markdown",
      "source": [
        "Question 6: What is the Central Limit Theorem (CLT), and why is it critical in statistics?\n",
        "\n",
        "Answer: The Central Limit Theorem (CLT) is a fundamental principle in statistics that states that when a large number of independent and identically distributed random variables are averaged, their normalized sum tends to follow a normal distribution, regardless of the original distribution of the variables. In simpler terms, as the sample size increases, the distribution of the sample mean approaches a normal distribution with the same mean as the population and a variance equal to the population variance divided by the sample size. This theorem is critical in statistics because it justifies the widespread use of the normal distribution in real-world data analysis, even when the underlying population is not normally distributed. It forms the foundation for many statistical methods, including hypothesis testing and confidence interval estimation, since it allows researchers to make inferences about population parameters using sample data. By bridging the gap between theoretical probability distributions and practical data analysis, the CLT provides the essential mathematical justification for much of modern inferential statistics."
      ],
      "metadata": {
        "id": "_Uv7gJbw0-tj"
      }
    },
    {
      "cell_type": "markdown",
      "source": [
        "Question 7: What is the significance of confidence intervals in statistical analysis?\n",
        "\n",
        "Answer: A confidence interval is a range of values, derived from sample data, that is used to estimate an unknown population parameter with a certain level of confidence. Its significance in statistical analysis lies in the fact that it not only provides an estimate of the parameter, such as the mean or proportion, but also quantifies the uncertainty associated with that estimate. Unlike a single point estimate, which gives only one value, a confidence interval accounts for sampling variability and indicates the degree of reliability of the result. For example, a 95% confidence interval suggests that if the same sampling process were repeated many times, approximately 95% of the calculated intervals would contain the true population parameter. Confidence intervals are therefore essential tools in inferential statistics, as they allow researchers to make probabilistic statements about population values, guide decision-making, and assess the precision and reliability of their conclusions."
      ],
      "metadata": {
        "id": "JJTUE8TC1G8t"
      }
    },
    {
      "cell_type": "markdown",
      "source": [
        "Question 8: What is the concept of expected value in a probability distribution?\n",
        "\n",
        "Answer: The **expected value** of a probability distribution is a fundamental concept that represents the long-run average or mean value of a random variable if an experiment is repeated many times under the same conditions. It is calculated by multiplying each possible outcome of the random variable by its corresponding probability and then summing (for discrete distributions) or integrating (for continuous distributions) these products. Mathematically, for a discrete random variable $X$ with outcomes $x_i$ and probabilities $p(x_i)$, the expected value is given by $E[X] = \\sum x_i p(x_i)$, while for a continuous random variable with probability density function $f(x)$, it is $E[X] = \\int_{-\\infty}^{\\infty} x f(x) dx$. The expected value provides a measure of the central tendency of the distribution and is widely used in decision-making, risk analysis, and statistical inference. Its importance lies in offering a single summary measure that reflects the overall behavior of the random variable, guiding predictions and comparisons in uncertain situations.\n"
      ],
      "metadata": {
        "id": "iN4WIKwt1Qtn"
      }
    },
    {
      "cell_type": "markdown",
      "source": [
        "Question 9: Write a Python program to generate 1000 random numbers from a normal\n",
        "distribution with mean = 50 and standard deviation = 5. Compute its mean and standard\n",
        "deviation using NumPy, and draw a histogram to visualize the distribution.\n",
        "(Include your Python code and output in the code box below.)\n",
        "\n",
        "Answer:"
      ],
      "metadata": {
        "id": "5BvY7RVU1fe7"
      }
    },
    {
      "cell_type": "code",
      "execution_count": 1,
      "metadata": {
        "colab": {
          "base_uri": "https://localhost:8080/",
          "height": 508
        },
        "id": "5H4BEb8wy-fR",
        "outputId": "a326e18c-6f06-4b04-e36b-3ad739c6d734"
      },
      "outputs": [
        {
          "output_type": "stream",
          "name": "stdout",
          "text": [
            "Calculated Mean: 50.27514518972543\n",
            "Calculated Standard Deviation: 4.933836876612783\n"
          ]
        },
        {
          "output_type": "display_data",
          "data": {
            "text/plain": [
              "<Figure size 640x480 with 1 Axes>"
            ],
            "image/png": "[encoded data removed]"
          },
          "metadata": {}
        }
      ],
      "source": [
        "import numpy as np\n",
        "import matplotlib.pyplot as plt\n",
        "\n",
        "mean = 50\n",
        "std_dev = 5\n",
        "data = np.random.normal(mean, std_dev, 1000)\n",
        "\n",
        "calculated_mean = np.mean(data)\n",
        "calculated_std = np.std(data)\n",
        "\n",
        "print(\"Calculated Mean:\", calculated_mean)\n",
        "print(\"Calculated Standard Deviation:\", calculated_std)\n",
        "\n",
        "plt.hist(data, bins=30, edgecolor='black', alpha=0.7)\n",
        "plt.title(\"Histogram of Normally Distributed Data (mean=50, std=5)\")\n",
        "plt.xlabel(\"Value\")\n",
        "plt.ylabel(\"Frequency\")\n",
        "plt.show()\n"
      ]
    },
    {
      "cell_type": "markdown",
      "source": [
        "Question 10: You are working as a data analyst for a retail company. The company has\n",
        "collected daily sales data for 2 years and wants you to identify the overall sales trend.\n",
        "\n",
        "daily_sales = [220, 245, 210, 265, 230, 250, 260, 275, 240, 255,\n",
        " 235, 260, 245, 250, 225, 270, 265, 255, 250, 260]\n",
        "\n",
        "● Explain how you would apply the Central Limit Theorem to estimate the average sales\n",
        "with a 95% confidence interval.\n",
        "\n",
        "● Write the Python code to compute the mean sales and its confidence interval.\n",
        "(Include your Python code and output in the code box below.)\n",
        "\n",
        "Answer: To apply the **Central Limit Theorem (CLT)** in this case, we use the idea that the distribution of the sample mean approaches a normal distribution as the sample size increases, regardless of the original distribution of sales. The company’s daily sales data can be treated as a sample representing the overall sales pattern. By calculating the sample mean and sample standard deviation, we can estimate the average daily sales and construct a confidence interval to measure the reliability of this estimate. A 95% confidence interval means that if we repeatedly took samples and computed intervals, about 95% of those intervals would contain the true population mean. Mathematically, the confidence interval is calculated as\n",
        "\n",
        "$$\n",
        "\\bar{x} \\pm Z_{\\alpha/2} \\cdot \\frac{s}{\\sqrt{n}},\n",
        "$$\n",
        "\n",
        "where $\\bar{x}$ is the sample mean, $s$ is the sample standard deviation, $n$ is the number of observations, and $Z_{\\alpha/2}$ is the critical value from the standard normal distribution corresponding to the desired confidence level (1.96 for 95%). This approach provides a range of plausible values for the true average daily sales, helping the company understand its overall sales trend with statistical certainty.\n",
        "\n"
      ],
      "metadata": {
        "id": "dvp2f5al17Lh"
      }
    },
    {
      "cell_type": "code",
      "source": [
        "import numpy as np\n",
        "import scipy.stats as st\n",
        "\n",
        "daily_sales = [220, 245, 210, 265, 230, 250, 260, 275, 240, 255,\n",
        "               235, 260, 245, 250, 225, 270, 265, 255, 250, 260]\n",
        "\n",
        "mean_sales = np.mean(daily_sales)\n",
        "std_sales = np.std(daily_sales, ddof=1)\n",
        "n = len(daily_sales)\n",
        "confidence_level = 0.95\n",
        "alpha = 1 - confidence_level\n",
        "z_value = st.norm.ppf(1 - alpha/2)\n",
        "\n",
        "margin_of_error = z_value * (std_sales / np.sqrt(n))\n",
        "lower_bound = mean_sales - margin_of_error\n",
        "upper_bound = mean_sales + margin_of_error\n",
        "\n",
        "print(\"Mean Sales:\", mean_sales)\n",
        "print(\"95% Confidence Interval: ({:.2f}, {:.2f})\".format(lower_bound, upper_bound))\n"
      ],
      "metadata": {
        "colab": {
          "base_uri": "https://localhost:8080/"
        },
        "id": "75R_rKmj2ZGL",
        "outputId": "7b52aa18-9b9e-4aaf-d71e-20ecae65e925"
      },
      "execution_count": 2,
      "outputs": [
        {
          "output_type": "stream",
          "name": "stdout",
          "text": [
            "Mean Sales: 248.25\n",
            "95% Confidence Interval: (240.68, 255.82)\n"
          ]
        }
      ]
    }
  ]
}