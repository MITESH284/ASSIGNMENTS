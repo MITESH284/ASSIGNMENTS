{
  "nbformat": 4,
  "nbformat_minor": 0,
  "metadata": {
    "colab": {
      "provenance": []
    },
    "kernelspec": {
      "name": "python3",
      "display_name": "Python 3"
    },
    "language_info": {
      "name": "python"
    }
  },
  "cells": [
    {
      "cell_type": "markdown",
      "source": [
        "#Data Types and Structures Questions"
      ],
      "metadata": {
        "id": "bXZZFsIg5tk7"
      }
    },
    {
      "cell_type": "markdown",
      "source": [
        "1) What are data structures, and why are they important?\n",
        "\n",
        "ANS-Data structures are specialized formats for organizing, processing, and storing data in a computer so that it can be used efficiently. They are essential in computer science because they determine how data is accessed and manipulated, which directly impacts the performance of software and algorithms. Common examples of data structures include arrays, linked lists, stacks, queues, hash tables, trees, and graphs. Each of these structures is designed for specific types of tasks, such as storing ordered data, managing dynamic memory, or modeling complex relationships. Using the right data structure can greatly improve the speed and scalability of an application. Moreover, data structures are fundamental in solving many real-world problems, making them a core concept in programming and algorithm development."
      ],
      "metadata": {
        "id": "ZhPtQmgI51N9"
      }
    },
    {
      "cell_type": "markdown",
      "source": [
        "2) Explain the difference between mutable and immutable data types with examples?\n",
        "\n",
        "ANS-Mutable and immutable data types differ in whether their content can be changed after they are created.\n",
        "\n",
        "Mutable data types can be modified in place, meaning their values can be changed without creating a new object. For example, in Python, lists are mutable. If you create a list like my_list = [1, 2, 3], you can change an element using my_list[0] = 10, and the original list is updated to [10, 2, 3].\n",
        "\n",
        "Immutable data types, on the other hand, cannot be changed after they are created. Any operation that alters their value creates a new object. For example, strings and tuples in Python are immutable. If you have a string my_str = \"hello\" and try to change a character with my_str[0] = \"H\", it will result in an error. Instead, you must create a new string, like my_str = \"Hello\"."
      ],
      "metadata": {
        "id": "IdfOOEN16KwG"
      }
    },
    {
      "cell_type": "markdown",
      "source": [
        "3) What are the main differences between lists and tuples in Python?\n",
        "\n",
        "ANS-In Python, lists and tuples are both used to store collections of items, but the main difference is that lists are mutable, meaning you can change, add, or remove elements, while tuples are immutable, meaning their contents cannot be changed after creation. Lists use square brackets [ ], and tuples use parentheses ( ). Because tuples cannot be changed, they are slightly faster and use less memory compared to lists. In general, you should use a list when you need a flexible, editable collection of items, and a tuple when you want to keep the data fixed and protected from changes."
      ],
      "metadata": {
        "id": "9hDJjVxi6fD-"
      }
    },
    {
      "cell_type": "markdown",
      "source": [
        "4) Describe how dictionaries store data?\n",
        "\n",
        "ANS-Dictionaries in Python store data in key-value pairs, where each key is unique and points to a specific value. This means that instead of accessing data by position (like in a list), you access it by using a key. For example, in the dictionary {\"name\": \"Alice\", \"age\": 25}, \"name\" and \"age\" are keys, and \"Alice\" and 25 are their corresponding values. Dictionaries use a hashing mechanism internally, which allows them to quickly find or update values using their keys. This makes dictionaries very efficient for tasks where fast lookups, insertions, or deletions are needed based on a unique identifier."
      ],
      "metadata": {
        "id": "bjijZkCl60_Y"
      }
    },
    {
      "cell_type": "markdown",
      "source": [
        "5) Why might you use a set instead of a list in Python?\n",
        "\n",
        "ANS-You might use a set instead of a list in Python when you need to store unique items and don't care about the order. Sets automatically remove duplicates, so if you have a list with repeated values and want only one of each, converting it to a set is helpful. Also, sets are generally faster than lists for checking if an item exists, because they use a hashing system. However, sets do not maintain order like lists do, and you can’t access elements by index. So, use a set when you need fast lookups and uniqueness, not ordering."
      ],
      "metadata": {
        "id": "muT1pLgw7GGk"
      }
    },
    {
      "cell_type": "markdown",
      "source": [
        "6) What is a string in Python, and how is it different from a list?\n",
        "\n",
        "ANS-In Python, a string is a sequence of characters enclosed in quotes, like \"hello\" or 'Python'. It is used to store text. A list, on the other hand, is a collection of items (which can be numbers, strings, or other objects) enclosed in square brackets, like [1, 2, 3] or [\"a\", \"b\", \"c\"]."
      ],
      "metadata": {
        "id": "2vGu5E7L7Vta"
      }
    },
    {
      "cell_type": "markdown",
      "source": [
        "7) How do tuples ensure data integrity in Python?\n",
        "\n",
        "ANS-Tuples help ensure data integrity in Python by being immutable, which means their contents cannot be changed after creation. Once a tuple is defined, you cannot add, remove, or modify its elements. This prevents accidental changes to the data, making tuples a safe choice when you want to protect information that should stay constant. For example, using a tuple to store coordinates or configuration settings ensures that the values remain the same throughout the program, helping maintain reliability and consistency in your code."
      ],
      "metadata": {
        "id": "_LhlfsuH8Q9o"
      }
    },
    {
      "cell_type": "markdown",
      "source": [
        "8) What is a hash table, and how does it relate to dictionaries in Python?\n",
        "\n",
        "ANS-A hash table is a data structure that stores data in key-value pairs and uses a process called hashing to quickly find the value associated with a given key. It works by converting the key into a unique index (using a hash function), which points to where the value is stored.\n",
        "\n",
        "In Python, dictionaries are built using hash tables behind the scenes. When you use a dictionary like my_dict = {\"name\": \"Alice\"}, Python uses hashing to map the key \"name\" to the value \"Alice\" efficiently. This allows dictionaries to offer very fast lookups, insertions, and deletions, making them ideal for working with data where each item has a unique identifier."
      ],
      "metadata": {
        "id": "CSH-h0nN8eaL"
      }
    },
    {
      "cell_type": "markdown",
      "source": [
        "9) Can lists contain different data types in Python?\n",
        "\n",
        "ANS-Yes, lists can contain different data types in Python. A single list can hold integers, strings, floats, booleans, or even other lists. For example, my_list = [1, \"hello\", 3.14, True] is a valid list with mixed types. This flexibility makes lists very powerful for storing collections of various kinds of data in one place."
      ],
      "metadata": {
        "id": "JhmGX9kH89Xs"
      }
    },
    {
      "cell_type": "markdown",
      "source": [
        "10) Explain why strings are immutable in Python?\n",
        "\n",
        "ANS-Strings are immutable in Python because once a string is created, its contents cannot be changed. This design choice helps make strings safe, efficient, and predictable. For example, if multiple parts of a program use the same string, Python can store just one copy in memory, saving space and avoiding bugs from accidental changes. Also, immutability makes strings hashable, meaning they can be used as keys in dictionaries. If strings were mutable, their value (and hash) could change, breaking the dictionary’s internal structure. So, immutability ensures data integrity and reliable behavior in programs."
      ],
      "metadata": {
        "id": "pbDefLpj9Hvq"
      }
    },
    {
      "cell_type": "markdown",
      "source": [
        "11) What advantages do dictionaries offer over lists for certain tasks?\n",
        "\n",
        "ANS-Dictionaries in Python offer several advantages over lists for certain tasks, especially when working with structured or labeled data. Unlike lists, which store items by position, dictionaries store data in key-value pairs, allowing for fast and direct access using unique keys. This makes dictionaries much more efficient when you need to look up information quickly based on a specific identifier, such as a name or ID. They also help make code more readable and meaningful, as accessing person[\"name\"] is clearer than using an index like person[0]. Additionally, dictionaries automatically prevent duplicate keys, keeping data well-organized. Overall, dictionaries are ideal for situations where data needs to be retrieved quickly and clearly using labels rather than positions."
      ],
      "metadata": {
        "id": "O9uPVxbY9TN7"
      }
    },
    {
      "cell_type": "markdown",
      "source": [
        "12) Describe a scenario where using a tuple would be preferable over a list?\n",
        "\n",
        "ANS-A tuple would be preferable over a list in a scenario where you want to store data that should not change. For example, if you're storing the coordinates of a location, like (40.7128, -74.0060) for New York City, using a tuple is better because the latitude and longitude should remain constant. Since tuples are immutable, they protect the data from being accidentally modified, ensuring data integrity. This makes tuples ideal for storing fixed sets of values, such as dates, RGB color codes, or database keys."
      ],
      "metadata": {
        "id": "vW5d77OC9hch"
      }
    },
    {
      "cell_type": "markdown",
      "source": [
        "13) How do sets handle duplicate values in Python?\n",
        "\n",
        "ANS-In Python, sets automatically remove duplicate values. When you create a set, it only keeps unique elements, no matter how many duplicates you try to add. For example, if you write my_set = {1, 2, 2, 3}, the set will store only {1, 2, 3}. If you add a duplicate later using my_set.add(2), nothing will change. This behavior makes sets useful when you need to filter out duplicates or check for unique items in a collection."
      ],
      "metadata": {
        "id": "PZISRtHk9uwt"
      }
    },
    {
      "cell_type": "markdown",
      "source": [
        "14) How does the “in” keyword work differently for lists and dictionaries?\n",
        "\n",
        "ANS-In Python, the in keyword is used to check for the presence of an element, but it behaves differently depending on the data type. When used with a list, it checks whether a value exists in the list. For example, 3 in [1, 2, 3] returns True because 3 is one of the list elements. However, when used with a dictionary, in checks only for keys, not values. For instance, in the dictionary {\"name\": \"Alice\", \"age\": 25}, the expression \"name\" in dict returns True, but \"Alice\" in dict would return False unless \"Alice\" is a key. This difference is important to remember when using in with different data structures."
      ],
      "metadata": {
        "id": "vvFzY2BL96Zr"
      }
    },
    {
      "cell_type": "markdown",
      "source": [
        "15 Can you modify the elements of a tuple? Explain why or why not?\n",
        "\n",
        "ANS-No, you cannot modify the elements of a tuple in Python because tuples are immutable. This means that once a tuple is created, its elements cannot be changed, added, or removed. For example, if you have a tuple like my_tuple = (1, 2, 3), trying to change an element with my_tuple[0] = 10 will result in an error. This immutability is by design to help ensure data integrity, making tuples useful for storing constant or fixed data that should not be altered during program execution."
      ],
      "metadata": {
        "id": "QLw688E0-I7j"
      }
    },
    {
      "cell_type": "markdown",
      "source": [
        "16) What is a nested dictionary, and give an example of its use case?\n",
        "\n",
        "ANS-A nested dictionary in Python is a dictionary that contains another dictionary as a value. This allows you to store related sets of data in a structured way. Each key in the outer dictionary can point to its own inner dictionary, making it useful for representing complex or grouped data.\n",
        "\n",
        "students = {\n",
        "    \n",
        "    \"Alice\": {\"age\": 20, \"grade\": \"A\"},\n",
        "    \n",
        "    \"Bob\": {\"age\": 22, \"grade\": \"B\"}\n",
        "}\n",
        "\n",
        "A nested dictionary is useful when managing multiple records, such as storing information about students, employees, or products. In the example above, each student has their own dictionary containing details like age and grade, making the data easy to organize and access."
      ],
      "metadata": {
        "id": "-gOjezT4-Xcm"
      }
    },
    {
      "cell_type": "markdown",
      "source": [
        "17) Describe the time complexity of accessing elements in a dictionary?\n",
        "\n",
        "ANS-Accessing elements in a dictionary in Python has an average time complexity of O(1), which means it takes constant time regardless of the dictionary’s size. This fast access is possible because dictionaries use a hash table to store data. When you look up a value by its key (like my_dict[\"name\"]), Python uses a hash function to find the location of the value almost instantly. However, in rare cases (like hash collisions), the time complexity can degrade to O(n), but this is uncommon. Overall, dictionaries are very efficient for quick lookups."
      ],
      "metadata": {
        "id": "qttYWWNd-_Po"
      }
    },
    {
      "cell_type": "markdown",
      "source": [
        "18) In what situations are lists preferred over dictionaries?\n",
        "\n",
        "ANS-Lists are preferred over dictionaries in situations where the order of elements matters or when you need to store simple, ordered collections of data without key-value pairs. For example, if you're working with a sequence of numbers, names, or items where each element’s position (index) is important, a list is more suitable. Lists are also ideal when you want to iterate through items in a specific order, or when keys are not needed. Additionally, lists use less memory than dictionaries and are simpler when you don’t require fast lookups based on custom keys."
      ],
      "metadata": {
        "id": "LgG3lyr2_MIQ"
      }
    },
    {
      "cell_type": "markdown",
      "source": [
        "19) Why are dictionaries considered unordered, and how does that affect data retrieval?\n",
        "\n",
        "ANS-Dictionaries were traditionally considered unordered in Python because they did not maintain the order in which items were added. However, starting with Python 3.7, dictionaries do preserve insertion order, meaning items are stored and retrieved in the order they were added.\n",
        "\n",
        "Despite this, dictionaries are still mainly designed for key-based access, not position-based access like lists. This means you retrieve values using keys, not by index. So even though modern Python keeps order, it's best to think of dictionaries as optimized for fast lookups, not for maintaining or relying on order in most use cases. The main impact is that you can't access items by position (e.g., dict[0] won’t work), and the focus remains on key-value retrieval."
      ],
      "metadata": {
        "id": "pDQPhqDr_cNT"
      }
    },
    {
      "cell_type": "markdown",
      "source": [
        "20) Explain the difference between a list and a dictionary in terms of data retrieval.\n",
        "\n",
        "ANS-The main difference between a list and a dictionary in terms of data retrieval is how you access the data. In a list, you retrieve elements by their index (position), such as my_list[0] to get the first item. In a dictionary, you retrieve data by using a key, like my_dict[\"name\"]. Lists are good when the order of items matters and you need to access items by position. Dictionaries are better when you need to quickly find values using unique identifiers (keys), offering faster key-based lookup."
      ],
      "metadata": {
        "id": "mgm70vjf_vC3"
      }
    },
    {
      "cell_type": "markdown",
      "source": [
        "#Practical Questions"
      ],
      "metadata": {
        "id": "uU7d4l7d54B3"
      }
    },
    {
      "cell_type": "markdown",
      "source": [
        "1) Write a code to create a string with your name and print it?\n",
        "\n",
        "ANS-"
      ],
      "metadata": {
        "id": "9ouX0kOn5_AD"
      }
    },
    {
      "cell_type": "code",
      "source": [
        "name = \"MITESH\"\n",
        "print(name)"
      ],
      "metadata": {
        "colab": {
          "base_uri": "https://localhost:8080/"
        },
        "id": "xTh3zq7C6Iw0",
        "outputId": "085dbbcb-168f-4eb6-c5bc-4ed1c01d2bc8"
      },
      "execution_count": 1,
      "outputs": [
        {
          "output_type": "stream",
          "name": "stdout",
          "text": [
            "MITESH\n"
          ]
        }
      ]
    },
    {
      "cell_type": "markdown",
      "source": [
        "2) Write a code to find the length of the string \"Hello World\"?\n",
        "\n",
        "ANS-"
      ],
      "metadata": {
        "id": "ymlu4SHJ6XC6"
      }
    },
    {
      "cell_type": "code",
      "source": [
        "text = \"Hello World\"\n",
        "length = len(text)\n",
        "print(length)"
      ],
      "metadata": {
        "colab": {
          "base_uri": "https://localhost:8080/"
        },
        "id": "yOFTrrpN6dgI",
        "outputId": "3352dca9-eef2-461e-e999-3da84712c30b"
      },
      "execution_count": 2,
      "outputs": [
        {
          "output_type": "stream",
          "name": "stdout",
          "text": [
            "11\n"
          ]
        }
      ]
    },
    {
      "cell_type": "markdown",
      "source": [
        "3) Write a code to slice the first 3 characters from the string \"Python Programming\"?\n",
        "\n",
        "ANS-"
      ],
      "metadata": {
        "id": "dv4lDDCL6kWD"
      }
    },
    {
      "cell_type": "code",
      "source": [
        "text = \"Python Programming\"\n",
        "sliced = text[:3]\n",
        "print(sliced)"
      ],
      "metadata": {
        "colab": {
          "base_uri": "https://localhost:8080/"
        },
        "id": "n8BhLPr96uem",
        "outputId": "e4a00be5-a14c-4313-ad68-7508cbc881c7"
      },
      "execution_count": 3,
      "outputs": [
        {
          "output_type": "stream",
          "name": "stdout",
          "text": [
            "Pyt\n"
          ]
        }
      ]
    },
    {
      "cell_type": "markdown",
      "source": [
        "4) Write a code to convert the string \"hello\" to uppercase?\n",
        "\n",
        "ANS-"
      ],
      "metadata": {
        "id": "sEyDYs9M6-YQ"
      }
    },
    {
      "cell_type": "code",
      "source": [
        "text = \"hello\"\n",
        "upper_text = text.upper()\n",
        "print(upper_text)"
      ],
      "metadata": {
        "colab": {
          "base_uri": "https://localhost:8080/"
        },
        "id": "_0YNX9N07FZe",
        "outputId": "67efa020-cbcc-403a-9cfb-001eddf2f18b"
      },
      "execution_count": 4,
      "outputs": [
        {
          "output_type": "stream",
          "name": "stdout",
          "text": [
            "HELLO\n"
          ]
        }
      ]
    },
    {
      "cell_type": "markdown",
      "source": [
        "5) Write a code to replace the word \"apple\" with \"orange\" in the string \"I like apple\"?\n",
        "\n",
        "ANS-"
      ],
      "metadata": {
        "id": "7Q55tTuY7NgX"
      }
    },
    {
      "cell_type": "code",
      "source": [
        "text = \"I like apple\"\n",
        "new_text = text.replace(\"apple\", \"orange\")\n",
        "print(new_text)"
      ],
      "metadata": {
        "colab": {
          "base_uri": "https://localhost:8080/"
        },
        "id": "1X46aTuN7V7Z",
        "outputId": "fdd53c33-b1a0-4385-c50e-3b9bd3f15ba5"
      },
      "execution_count": 5,
      "outputs": [
        {
          "output_type": "stream",
          "name": "stdout",
          "text": [
            "I like orange\n"
          ]
        }
      ]
    },
    {
      "cell_type": "markdown",
      "source": [
        "6) Write a code to create a list with numbers 1 to 5 and print it?\n",
        "\n",
        "ANS-"
      ],
      "metadata": {
        "id": "6D8-F5ng7weY"
      }
    },
    {
      "cell_type": "code",
      "source": [
        "numbers = [1, 2, 3, 4, 5]\n",
        "print(numbers)"
      ],
      "metadata": {
        "colab": {
          "base_uri": "https://localhost:8080/"
        },
        "id": "p7mYR5fB73Sy",
        "outputId": "4cd05892-e2ba-49da-c3f6-732fed34a895"
      },
      "execution_count": 6,
      "outputs": [
        {
          "output_type": "stream",
          "name": "stdout",
          "text": [
            "[1, 2, 3, 4, 5]\n"
          ]
        }
      ]
    },
    {
      "cell_type": "markdown",
      "source": [
        "7) Write a code to append the number 10 to the list [1, 2, 3, 4]?\n",
        "\n",
        "ANS-"
      ],
      "metadata": {
        "id": "cZgUsq2n8Gs0"
      }
    },
    {
      "cell_type": "code",
      "source": [
        "numbers = [1, 2, 3, 4]\n",
        "numbers.append(10)\n",
        "print(numbers)"
      ],
      "metadata": {
        "colab": {
          "base_uri": "https://localhost:8080/"
        },
        "id": "nErkpr_L8KtT",
        "outputId": "6d355d5e-0854-4a67-a0a0-e15144a18403"
      },
      "execution_count": 7,
      "outputs": [
        {
          "output_type": "stream",
          "name": "stdout",
          "text": [
            "[1, 2, 3, 4, 10]\n"
          ]
        }
      ]
    },
    {
      "cell_type": "markdown",
      "source": [
        "8) Write a code to remove the number 3 from the list [1, 2, 3, 4, 5]?\n",
        "\n",
        "ANS-"
      ],
      "metadata": {
        "id": "Pgv0qLEy8UvJ"
      }
    },
    {
      "cell_type": "code",
      "source": [
        "numbers = [1, 2, 3, 4, 5]\n",
        "numbers.remove(3)\n",
        "print(numbers)"
      ],
      "metadata": {
        "colab": {
          "base_uri": "https://localhost:8080/"
        },
        "id": "XvooiINL8dW6",
        "outputId": "87a05863-da74-43d5-9bd5-bf141571d1eb"
      },
      "execution_count": 8,
      "outputs": [
        {
          "output_type": "stream",
          "name": "stdout",
          "text": [
            "[1, 2, 4, 5]\n"
          ]
        }
      ]
    },
    {
      "cell_type": "markdown",
      "source": [
        "9) Write a code to access the second element in the list ['a', 'b', 'c', 'd']?\n",
        "\n",
        "ANS-"
      ],
      "metadata": {
        "id": "SKGIPq_Y8kvT"
      }
    },
    {
      "cell_type": "code",
      "source": [
        "letters = ['a', 'b', 'c', 'd']\n",
        "second_element = letters[1]\n",
        "print(second_element)"
      ],
      "metadata": {
        "colab": {
          "base_uri": "https://localhost:8080/"
        },
        "id": "dllilguu8ioa",
        "outputId": "1a4fa2d8-1377-431c-bde3-6fcb907a392b"
      },
      "execution_count": 9,
      "outputs": [
        {
          "output_type": "stream",
          "name": "stdout",
          "text": [
            "b\n"
          ]
        }
      ]
    },
    {
      "cell_type": "markdown",
      "source": [
        "10) Write a code to reverse the list [10, 20, 30, 40, 50].\n",
        "\n",
        "ANS-"
      ],
      "metadata": {
        "id": "ziOC4TnO83Ex"
      }
    },
    {
      "cell_type": "code",
      "source": [
        "numbers = [10, 20, 30, 40, 50]\n",
        "numbers.reverse()\n",
        "print(numbers)"
      ],
      "metadata": {
        "colab": {
          "base_uri": "https://localhost:8080/"
        },
        "id": "gyqzleAl81we",
        "outputId": "1b2deb89-6a24-4140-f64d-c6b16580bc19"
      },
      "execution_count": 10,
      "outputs": [
        {
          "output_type": "stream",
          "name": "stdout",
          "text": [
            "[50, 40, 30, 20, 10]\n"
          ]
        }
      ]
    },
    {
      "cell_type": "markdown",
      "source": [
        "11) Write a code to create a tuple with the elements 100, 200, 300 and print it.\n",
        "\n",
        "ANS-"
      ],
      "metadata": {
        "id": "JM4k3z5J9HfK"
      }
    },
    {
      "cell_type": "code",
      "source": [
        "my_tuple = (100, 200, 300)\n",
        "print(my_tuple)"
      ],
      "metadata": {
        "colab": {
          "base_uri": "https://localhost:8080/"
        },
        "id": "gmWeFFwW9Di3",
        "outputId": "1d9a2685-a807-45e2-d35a-b632db6f329a"
      },
      "execution_count": 11,
      "outputs": [
        {
          "output_type": "stream",
          "name": "stdout",
          "text": [
            "(100, 200, 300)\n"
          ]
        }
      ]
    },
    {
      "cell_type": "markdown",
      "source": [
        "12) Write a code to access the second-to-last element of the tuple ('red', 'green', 'blue', 'yellow').\n",
        "\n",
        "ANS-"
      ],
      "metadata": {
        "id": "6G3TbB4f9WLN"
      }
    },
    {
      "cell_type": "code",
      "source": [
        "colors = ('red', 'green', 'blue', 'yellow')\n",
        "result = colors[-2:]\n",
        "print(result)"
      ],
      "metadata": {
        "colab": {
          "base_uri": "https://localhost:8080/"
        },
        "id": "j8nZ1F9V9S71",
        "outputId": "3669040c-3d57-4466-80e8-1c95a459945f"
      },
      "execution_count": 12,
      "outputs": [
        {
          "output_type": "stream",
          "name": "stdout",
          "text": [
            "('blue', 'yellow')\n"
          ]
        }
      ]
    },
    {
      "cell_type": "code",
      "source": [
        "13) Write a code to find the minimum number in the tuple (10, 20, 5, 15).\n",
        "\n",
        "ANS-"
      ],
      "metadata": {
        "id": "K83zlopU97T-"
      },
      "execution_count": null,
      "outputs": []
    },
    {
      "cell_type": "code",
      "source": [
        "numbers = (10, 20, 5, 15)\n",
        "min_value = min(numbers)\n",
        "print(min_value)"
      ],
      "metadata": {
        "colab": {
          "base_uri": "https://localhost:8080/"
        },
        "id": "FmOqYh3m955T",
        "outputId": "3976389e-4548-4586-8ba0-c05f573f5e50"
      },
      "execution_count": 13,
      "outputs": [
        {
          "output_type": "stream",
          "name": "stdout",
          "text": [
            "5\n"
          ]
        }
      ]
    },
    {
      "cell_type": "markdown",
      "source": [
        "14) Write a code to find the index of the element \"cat\" in the tuple ('dog', 'cat', 'rabbit').\n",
        "\n",
        "ANS-"
      ],
      "metadata": {
        "id": "PmbgzbU3-N9x"
      }
    },
    {
      "cell_type": "code",
      "source": [
        "animals = ('dog', 'cat', 'rabbit')\n",
        "index = animals.index('cat')\n",
        "print(index)"
      ],
      "metadata": {
        "colab": {
          "base_uri": "https://localhost:8080/"
        },
        "id": "VjNYHt8W-Lb2",
        "outputId": "18368927-12ff-430c-bfda-4892a8fb3a40"
      },
      "execution_count": 14,
      "outputs": [
        {
          "output_type": "stream",
          "name": "stdout",
          "text": [
            "1\n"
          ]
        }
      ]
    },
    {
      "cell_type": "markdown",
      "source": [
        "15) Write a code to create a tuple containing three different fruits and check if \"kiwi\" is in it.\n",
        "\n",
        "ANS-"
      ],
      "metadata": {
        "id": "WU7V0MKU-hvT"
      }
    },
    {
      "cell_type": "code",
      "source": [
        "fruits = ('apple', 'banana', 'orange')\n",
        "if 'kiwi' in fruits:\n",
        "    print(\"kiwi is in the tuple.\")\n",
        "else:\n",
        "    print(\"kiwi is not in the tuple.\")"
      ],
      "metadata": {
        "colab": {
          "base_uri": "https://localhost:8080/"
        },
        "id": "xmCG4wHD-fvf",
        "outputId": "454dbb26-1a98-4c32-a28c-ae148be90504"
      },
      "execution_count": 15,
      "outputs": [
        {
          "output_type": "stream",
          "name": "stdout",
          "text": [
            "kiwi is not in the tuple.\n"
          ]
        }
      ]
    },
    {
      "cell_type": "markdown",
      "source": [
        "16) Write a code to create a set with the elements 'a', 'b', 'c' and print it.\n",
        "\n",
        "ANS-"
      ],
      "metadata": {
        "id": "HjjjZ_Az-2R_"
      }
    },
    {
      "cell_type": "code",
      "source": [
        "my_set = {'a', 'b', 'c'}\n",
        "print(my_set)"
      ],
      "metadata": {
        "colab": {
          "base_uri": "https://localhost:8080/"
        },
        "id": "Wn2Lw0VK-z5d",
        "outputId": "370397e9-839d-4404-805e-b4424282b198"
      },
      "execution_count": 16,
      "outputs": [
        {
          "output_type": "stream",
          "name": "stdout",
          "text": [
            "{'b', 'a', 'c'}\n"
          ]
        }
      ]
    },
    {
      "cell_type": "markdown",
      "source": [
        "17) Write a code to clear all elements from the set {1, 2, 3, 4, 5}.\n",
        "\n",
        "ANS-"
      ],
      "metadata": {
        "id": "tYEBUnob_E51"
      }
    },
    {
      "cell_type": "code",
      "source": [
        "my_set = {1, 2, 3, 4, 5}\n",
        "my_set.clear()\n",
        "print(my_set)"
      ],
      "metadata": {
        "colab": {
          "base_uri": "https://localhost:8080/"
        },
        "id": "pz6GTcFN_Dl4",
        "outputId": "54a5ea68-6b1c-4cfe-e8e9-0aedd3bd43b1"
      },
      "execution_count": 17,
      "outputs": [
        {
          "output_type": "stream",
          "name": "stdout",
          "text": [
            "set()\n"
          ]
        }
      ]
    },
    {
      "cell_type": "markdown",
      "source": [
        "18) Write a code to remove the element 4 from the set {1, 2, 3, 4}."
      ],
      "metadata": {
        "id": "QO9S7UYx_XRY"
      }
    },
    {
      "cell_type": "code",
      "source": [
        "my_set = {1, 2, 3, 4}\n",
        "my_set.remove(4)\n",
        "print(my_set)"
      ],
      "metadata": {
        "colab": {
          "base_uri": "https://localhost:8080/"
        },
        "id": "GjfoxQcp_WLZ",
        "outputId": "c2eb7641-e6f2-4947-a9bf-cb0f460e8423"
      },
      "execution_count": 18,
      "outputs": [
        {
          "output_type": "stream",
          "name": "stdout",
          "text": [
            "{1, 2, 3}\n"
          ]
        }
      ]
    },
    {
      "cell_type": "markdown",
      "source": [
        "19) Write a code to find the union of two sets {1, 2, 3} and {3, 4, 5}.\n",
        "\n",
        "ANS-"
      ],
      "metadata": {
        "id": "BTFpB8QA_jHq"
      }
    },
    {
      "cell_type": "code",
      "source": [
        "set1 = {1, 2, 3}\n",
        "set2 = {3, 4, 5}\n",
        "union_set = set1.union(set2)\n",
        "print(union_set)"
      ],
      "metadata": {
        "colab": {
          "base_uri": "https://localhost:8080/"
        },
        "id": "i4fO_uxZ_g8h",
        "outputId": "71382e51-0b97-4a57-8004-ae1dbac11e94"
      },
      "execution_count": 19,
      "outputs": [
        {
          "output_type": "stream",
          "name": "stdout",
          "text": [
            "{1, 2, 3, 4, 5}\n"
          ]
        }
      ]
    },
    {
      "cell_type": "markdown",
      "source": [
        "20) Write a code to find the intersection of two sets {1, 2, 3} and {2, 3, 4}.\n",
        "\n",
        "ANS-"
      ],
      "metadata": {
        "id": "ZfyvS4Y1_8Zo"
      }
    },
    {
      "cell_type": "code",
      "source": [
        "set1 = {1, 2, 3}\n",
        "set2 = {2, 3, 4}\n",
        "intersection_set = set1.intersection(set2)\n",
        "print(intersection_set)"
      ],
      "metadata": {
        "colab": {
          "base_uri": "https://localhost:8080/"
        },
        "id": "UZhsAmgE_59Y",
        "outputId": "a909543e-bd13-4238-9276-c6415837cbdd"
      },
      "execution_count": 20,
      "outputs": [
        {
          "output_type": "stream",
          "name": "stdout",
          "text": [
            "{2, 3}\n"
          ]
        }
      ]
    },
    {
      "cell_type": "markdown",
      "source": [
        "21) Write a code to create a dictionary with the keys \"name\", \"age\", and \"city\", and print it.\n",
        "\n",
        "ANS-"
      ],
      "metadata": {
        "id": "CFNgphyfAUGZ"
      }
    },
    {
      "cell_type": "code",
      "source": [
        "person = {\n",
        "    \"name\": \"Alice\",\n",
        "    \"age\": 25,\n",
        "    \"city\": \"New York\"\n",
        "}\n",
        "print(person)"
      ],
      "metadata": {
        "colab": {
          "base_uri": "https://localhost:8080/"
        },
        "id": "UTmifwdTAOrQ",
        "outputId": "ed5255e4-ec13-4d84-f1f7-7f57542205f7"
      },
      "execution_count": 21,
      "outputs": [
        {
          "output_type": "stream",
          "name": "stdout",
          "text": [
            "{'name': 'Alice', 'age': 25, 'city': 'New York'}\n"
          ]
        }
      ]
    },
    {
      "cell_type": "markdown",
      "source": [
        "22) Write a code to add a new key-value pair \"country\": \"USA\" to the dictionary {'name': 'John', 'age': 25}.\n",
        "\n",
        "ANS-"
      ],
      "metadata": {
        "id": "7KWQm6M6Ak9I"
      }
    },
    {
      "cell_type": "code",
      "source": [
        "person = {'name': 'John', 'age': 25}\n",
        "person['country'] = 'USA'\n",
        "print(person)"
      ],
      "metadata": {
        "colab": {
          "base_uri": "https://localhost:8080/"
        },
        "id": "WHVSw0RJAi_4",
        "outputId": "ff4463ac-8b6f-4d95-8224-4855a912d4a7"
      },
      "execution_count": 22,
      "outputs": [
        {
          "output_type": "stream",
          "name": "stdout",
          "text": [
            "{'name': 'John', 'age': 25, 'country': 'USA'}\n"
          ]
        }
      ]
    },
    {
      "cell_type": "markdown",
      "source": [
        "23) Write a code to access the value associated with the key \"name\" in the dictionary {'name': 'Alice', 'age': 30}.\n",
        "\n",
        "ANS-"
      ],
      "metadata": {
        "id": "gfGsPddpA58v"
      }
    },
    {
      "cell_type": "code",
      "source": [
        "person = {'name': 'Alice', 'age': 30}\n",
        "name_value = person['name']\n",
        "print(name_value)"
      ],
      "metadata": {
        "colab": {
          "base_uri": "https://localhost:8080/"
        },
        "id": "Gu6Yqy-CA3ZV",
        "outputId": "a001b2cc-ef9d-44f4-f5b4-09611a7116b4"
      },
      "execution_count": 23,
      "outputs": [
        {
          "output_type": "stream",
          "name": "stdout",
          "text": [
            "Alice\n"
          ]
        }
      ]
    },
    {
      "cell_type": "markdown",
      "source": [
        "24) Write a code to remove the key \"age\" from the dictionary {'name': 'Bob', 'age': 22, 'city': 'New York'}.\n",
        "\n",
        "ANS-"
      ],
      "metadata": {
        "id": "5su0cNA7BLIF"
      }
    },
    {
      "cell_type": "code",
      "source": [
        "person = {'name': 'Bob', 'age': 22, 'city': 'New York'}\n",
        "del person['age']\n",
        "print(person)"
      ],
      "metadata": {
        "colab": {
          "base_uri": "https://localhost:8080/"
        },
        "id": "ya9NsPZtBISY",
        "outputId": "43658859-ec23-49c2-ff24-f0d5194da6bf"
      },
      "execution_count": 24,
      "outputs": [
        {
          "output_type": "stream",
          "name": "stdout",
          "text": [
            "{'name': 'Bob', 'city': 'New York'}\n"
          ]
        }
      ]
    },
    {
      "cell_type": "markdown",
      "source": [
        "25) Write a code to check if the key \"city\" exists in the dictionary {'name': 'Alice', 'city': 'Paris'}.\n",
        "\n",
        "ANS-"
      ],
      "metadata": {
        "id": "rfDtq6tqBYWU"
      }
    },
    {
      "cell_type": "code",
      "source": [
        "person = {'name': 'Alice', 'city': 'Paris'}\n",
        "if 'city' in person:\n",
        "    print(\"Key 'city' exists.\")\n",
        "else:\n",
        "    print(\"Key 'city' does not exist.\")"
      ],
      "metadata": {
        "colab": {
          "base_uri": "https://localhost:8080/"
        },
        "id": "levZ1ENDBW0H",
        "outputId": "896e2b0f-f7cf-494e-cbb4-e5e9bb3f33f0"
      },
      "execution_count": 25,
      "outputs": [
        {
          "output_type": "stream",
          "name": "stdout",
          "text": [
            "Key 'city' exists.\n"
          ]
        }
      ]
    },
    {
      "cell_type": "markdown",
      "source": [
        "26) Write a code to create a list, a tuple, and a dictionary, and print them all."
      ],
      "metadata": {
        "id": "CwGK2skgBuaF"
      }
    },
    {
      "cell_type": "code",
      "source": [
        "name=[1,2,3,4]\n",
        "name1=(5,6,7,8)\n",
        "name2={\"name\":'mitesh',\"age\":20}\n",
        "print(name)\n",
        "print(name1)\n",
        "print(name2)"
      ],
      "metadata": {
        "colab": {
          "base_uri": "https://localhost:8080/"
        },
        "id": "NVGhgOSCBsAM",
        "outputId": "699cd78f-068b-47ea-a9b4-7a0c154708be"
      },
      "execution_count": 27,
      "outputs": [
        {
          "output_type": "stream",
          "name": "stdout",
          "text": [
            "[1, 2, 3, 4]\n",
            "(5, 6, 7, 8)\n",
            "{'name': 'mitesh', 'age': 20}\n"
          ]
        }
      ]
    },
    {
      "cell_type": "markdown",
      "source": [
        "27. Write a code to create a list of 5 random numbers between 1 and 100, sort it in ascending order, and print the\n",
        "result.(replaced)\n",
        "\n",
        "ANS-"
      ],
      "metadata": {
        "id": "Bjqq6tfeCili"
      }
    },
    {
      "cell_type": "code",
      "source": [
        "import random\n",
        "\n",
        "numbers = random.sample(range(1, 101), 5)\n",
        "numbers.sort()\n",
        "print(numbers)"
      ],
      "metadata": {
        "colab": {
          "base_uri": "https://localhost:8080/"
        },
        "id": "8QPabtHHCYX_",
        "outputId": "372ebf35-2ec1-4e1b-954e-117d51959e8e"
      },
      "execution_count": 31,
      "outputs": [
        {
          "output_type": "stream",
          "name": "stdout",
          "text": [
            "[13, 21, 42, 86, 94]\n"
          ]
        }
      ]
    },
    {
      "cell_type": "markdown",
      "source": [
        "28) Write a code to create a list with strings and print the element at the third index.\n",
        "\n",
        "ANS-"
      ],
      "metadata": {
        "id": "VRbC8zBcDDH3"
      }
    },
    {
      "cell_type": "code",
      "source": [
        "words = [\"apple\", \"banana\", \"cherry\", \"date\", \"fig\"]\n",
        "print(words[3])"
      ],
      "metadata": {
        "colab": {
          "base_uri": "https://localhost:8080/"
        },
        "id": "jy6HOEy1C8F-",
        "outputId": "e0754e87-bdab-440f-ca4f-7f5c135c8abf"
      },
      "execution_count": 32,
      "outputs": [
        {
          "output_type": "stream",
          "name": "stdout",
          "text": [
            "date\n"
          ]
        }
      ]
    },
    {
      "cell_type": "markdown",
      "source": [
        "29) Write a code to combine two dictionaries into one and print the result.\n",
        "\n",
        "ANS-"
      ],
      "metadata": {
        "id": "9hkunjWTDXRO"
      }
    },
    {
      "cell_type": "code",
      "source": [
        "dict1 = {'a': 1, 'b': 2}\n",
        "dict2 = {'c': 3, 'd': 4}\n",
        "\n",
        "combined = {**dict1, **dict2}\n",
        "print(combined)"
      ],
      "metadata": {
        "colab": {
          "base_uri": "https://localhost:8080/"
        },
        "id": "pg85f5jHDWCZ",
        "outputId": "da312d10-2012-41fd-8363-2fb6085e7df1"
      },
      "execution_count": 33,
      "outputs": [
        {
          "output_type": "stream",
          "name": "stdout",
          "text": [
            "{'a': 1, 'b': 2, 'c': 3, 'd': 4}\n"
          ]
        }
      ]
    },
    {
      "cell_type": "markdown",
      "source": [
        "30) Write a code to convert a list of strings into a set.\n",
        "\n",
        "ANS-"
      ],
      "metadata": {
        "id": "MioEqzZrDl97"
      }
    },
    {
      "cell_type": "code",
      "source": [
        "words = [\"apple\", \"banana\", \"cherry\", \"apple\"]\n",
        "words_set = set(words)\n",
        "print(words_set)"
      ],
      "metadata": {
        "colab": {
          "base_uri": "https://localhost:8080/"
        },
        "id": "0WYpgDN1DhWQ",
        "outputId": "7c0cd3a3-3716-4c04-db40-d5492dd362b9"
      },
      "execution_count": 34,
      "outputs": [
        {
          "output_type": "stream",
          "name": "stdout",
          "text": [
            "{'cherry', 'banana', 'apple'}\n"
          ]
        }
      ]
    }
  ]
}