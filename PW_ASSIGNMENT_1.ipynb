{
  "nbformat": 4,
  "nbformat_minor": 0,
  "metadata": {
    "colab": {
      "provenance": []
    },
    "kernelspec": {
      "name": "python3",
      "display_name": "Python 3"
    },
    "language_info": {
      "name": "python"
    }
  },
  "cells": [
    {
      "cell_type": "markdown",
      "source": [
        "#Python Basics Questions"
      ],
      "metadata": {
        "id": "UlRMlgVx3b13"
      }
    },
    {
      "cell_type": "markdown",
      "source": [
        "1) What is Python, and why is it popular ?\n",
        "\n",
        "ANS-Python is a high-level, interpreted programming language known for its simplicity, readability, and versatility. It was created by Guido van Rossum and first released in 1991.Python is popular because it is powerful, flexible, and easy to learn, making it an ideal choice for everything from beginner programming to cutting-edge AI development."
      ],
      "metadata": {
        "id": "gncNroHM358S"
      }
    },
    {
      "cell_type": "markdown",
      "source": [
        "2) What is an interpreter in Python ?\n",
        "\n",
        "ANS-An interpreter in Python is a program that reads and executes Python code line by line, rather than compiling the entire code into machine language first."
      ],
      "metadata": {
        "id": "S8GwcLjz466q"
      }
    },
    {
      "cell_type": "markdown",
      "source": [
        "3) What are pre-defined keywords in Python ?\n",
        "\n",
        "ANS-Pre-defined keywords in Python are reserved words that have special meaning to the Python interpreter. These words cannot be used as variable names, function names, or identifiers because they are part of the syntax and structure of the language."
      ],
      "metadata": {
        "id": "VqQEIyiO5SZs"
      }
    },
    {
      "cell_type": "markdown",
      "source": [
        "4) Can keywords be used as variable names ?\n",
        "\n",
        "ANS-No, keywords cannot be used as variable names in Python."
      ],
      "metadata": {
        "id": "Bj3C04Vb5oXZ"
      }
    },
    {
      "cell_type": "markdown",
      "source": [
        "5) What is mutability in Python ?\n",
        "\n",
        "ANS-Mutability refers to whether or not an object in Python can be changed after it is created."
      ],
      "metadata": {
        "id": "ZFNy2jKs56J-"
      }
    },
    {
      "cell_type": "markdown",
      "source": [
        "6) Why are lists mutable, but tuples are immutable ?\n",
        "\n",
        "ANS-In Python, lists are mutable because they are designed to store data that may change during the execution of a program. This means you can add, remove, or modify elements within a list without creating a new one. On the other hand, tuples are immutable, meaning their contents cannot be changed after they are created."
      ],
      "metadata": {
        "id": "Rkxw1hUN6Nad"
      }
    },
    {
      "cell_type": "markdown",
      "source": [
        "7) What is the difference between “==” and “is” operators in Python ?\\\n",
        "\n",
        "ANS-In Python, the == operator checks whether two variables have the same value, while the is operator checks whether they refer to the same object in memory. This means that == compares the contents of the objects, whereas is compares their identity. For example, if you create two separate lists with the same elements, == will return True because the contents are equal, but is will return False because they are two different objects stored at different memory locations. The is operator is often used to compare with special objects like None, while == is used for general value comparisons."
      ],
      "metadata": {
        "id": "LL-FVaoQ6vIU"
      }
    },
    {
      "cell_type": "markdown",
      "source": [
        "8) What are logical operators in Python ?\n",
        "\n",
        "ANS-Logical operators in Python are used to combine or compare boolean expressions i.e., conditions that are either True or False. They are mainly used in decision-making statements like if, while, and while."
      ],
      "metadata": {
        "id": "_WX77NeY7JBh"
      }
    },
    {
      "cell_type": "markdown",
      "source": [
        "9) What is type casting in Python ?\n",
        "\n",
        "ANS-Type casting in Python means converting one data type into another. It is useful when you want to change the type of a variable—for example, turning a string into a number, or a float into an integer."
      ],
      "metadata": {
        "id": "suulEP6K7caS"
      }
    },
    {
      "cell_type": "markdown",
      "source": [
        "10) What is the difference between implicit and explicit type casting ?\n",
        "\n",
        "ANS-In Python, implicit type casting occurs automatically when the interpreter converts one data type to another to avoid errors—for example, converting an integer to a float during arithmetic. This process doesn’t require any programmer intervention. In contrast, explicit type casting is done manually using functions like int(), float(), or str() to convert data types when needed. This is especially useful when working with input data (like strings from users) or combining different types that Python doesn’t automatically convert. Understanding both helps ensure that your code handles data types correctly and avoids type errors."
      ],
      "metadata": {
        "id": "RkRQfTw57q9K"
      }
    },
    {
      "cell_type": "markdown",
      "source": [
        "11) What is the purpose of conditional statements in Python ?\n",
        "\n",
        "ANS-The main purpose of conditional statements is to control the flow of a program. By checking whether a condition is True or False, Python can decide what action to take. This enables the program to react to different inputs or situations and perform tasks accordingly."
      ],
      "metadata": {
        "id": "wcrBcwsX79VI"
      }
    },
    {
      "cell_type": "markdown",
      "source": [
        "12) How does the elif statement work ?\n",
        "\n",
        "ANS-In Python, the elif statement is used to handle multiple conditions in a decision-making structure. It follows an if statement and is only evaluated if the if condition is false. If the elif condition is true, Python executes the corresponding block of code and skips the rest. You can use as many elif statements as needed to check different cases. This allows your program to respond to several specific conditions, making your logic more clear and organized."
      ],
      "metadata": {
        "id": "mRSS0oan8Pv2"
      }
    },
    {
      "cell_type": "markdown",
      "source": [
        "13) What is the difference between for and while loops ?\n",
        "\n",
        "ANS-The main difference between for and while loops in Python lies in how and when they repeat. A for loop is used when you know in advance how many times you want to iterate, such as looping through a list or a range of numbers. In contrast, a while loop is used when you want to keep repeating a block of code as long as a condition remains true, without necessarily knowing how many times it will run. While loops give more control over the condition, but can lead to infinite loops if not handled carefully. Both are powerful tools for repetition but are suited for different kinds of tasks."
      ],
      "metadata": {
        "id": "IxW6oAa38rcb"
      }
    },
    {
      "cell_type": "markdown",
      "source": [
        "14) Describe a scenario where a while loop is more suitable than a for loop?\n",
        "\n",
        "ANS-A while loop is more suitable than a for loop in situations where the number of iterations is not known beforehand and depends on a condition being met. For example, in a user authentication system, you might want the program to keep asking the user for a password until they enter the correct one. Since the number of attempts is unknown, a while loop allows the program to continue running until the correct input is received, making it ideal for this type of task."
      ],
      "metadata": {
        "id": "t9K8-s8k89yf"
      }
    },
    {
      "cell_type": "markdown",
      "source": [
        "#Practical Questions"
      ],
      "metadata": {
        "id": "o9b0EP5Otw8O"
      }
    },
    {
      "cell_type": "markdown",
      "source": [
        "1) Write a Python program to print \"Hello, World!\"\n",
        "\n",
        "ANS-"
      ],
      "metadata": {
        "id": "PzAbYKspt77D"
      }
    },
    {
      "cell_type": "code",
      "source": [
        "print(\"Hello, World!\")"
      ],
      "metadata": {
        "colab": {
          "base_uri": "https://localhost:8080/"
        },
        "id": "HXw001PouHkC",
        "outputId": "6f984a71-4340-4b14-e627-a88f67225da9"
      },
      "execution_count": null,
      "outputs": [
        {
          "output_type": "stream",
          "name": "stdout",
          "text": [
            "Hello, World!\n"
          ]
        }
      ]
    },
    {
      "cell_type": "markdown",
      "source": [
        "2) Write a Python program that displays your name and age.\n",
        "\n",
        "ANS-"
      ],
      "metadata": {
        "id": "Z9gg4oMouXJi"
      }
    },
    {
      "cell_type": "code",
      "source": [
        "name = \"MITESH DESHMUKH\"\n",
        "age = 20\n",
        "print(\"Name:\", name)\n",
        "print(\"Age:\", age)\n"
      ],
      "metadata": {
        "colab": {
          "base_uri": "https://localhost:8080/"
        },
        "id": "RbN6PCtduVXG",
        "outputId": "462f2011-4d98-485b-deba-632075201e9e"
      },
      "execution_count": null,
      "outputs": [
        {
          "output_type": "stream",
          "name": "stdout",
          "text": [
            "Name: MITESH DESHMUKH\n",
            "Age: 20\n"
          ]
        }
      ]
    },
    {
      "cell_type": "markdown",
      "source": [
        "3) Write code to print all the pre-defined keywords in Python using the keyword library.\n",
        "\n",
        "ANS-"
      ],
      "metadata": {
        "id": "_hbDhla5uuyI"
      }
    },
    {
      "cell_type": "code",
      "source": [
        "help(\"keywords\")"
      ],
      "metadata": {
        "colab": {
          "base_uri": "https://localhost:8080/"
        },
        "id": "i3jopdVRus1-",
        "outputId": "ef46c931-78c0-4dd7-9364-053d3bf13b0d"
      },
      "execution_count": null,
      "outputs": [
        {
          "output_type": "stream",
          "name": "stdout",
          "text": [
            "\n",
            "Here is a list of the Python keywords.  Enter any keyword to get more help.\n",
            "\n",
            "False               class               from                or\n",
            "None                continue            global              pass\n",
            "True                def                 if                  raise\n",
            "and                 del                 import              return\n",
            "as                  elif                in                  try\n",
            "assert              else                is                  while\n",
            "async               except              lambda              with\n",
            "await               finally             nonlocal            yield\n",
            "break               for                 not                 \n",
            "\n"
          ]
        }
      ]
    },
    {
      "cell_type": "markdown",
      "source": [
        "4) Write a program that checks if a given word is a Python keyword.\n",
        "\n",
        "ANS-"
      ],
      "metadata": {
        "id": "H6Suj2wmvcgZ"
      }
    },
    {
      "cell_type": "code",
      "source": [
        "import keyword\n",
        "\n",
        "word = input(\"Enter a word: \")\n",
        "\n",
        "if keyword.iskeyword(word):\n",
        "    print(f\"'{word}' is a Python keyword.\")\n",
        "else:\n",
        "    print(f\"'{word}' is not a Python keyword.\")"
      ],
      "metadata": {
        "colab": {
          "base_uri": "https://localhost:8080/"
        },
        "id": "rrMXm4hsvZHG",
        "outputId": "7c7f5197-0155-4fd3-e8e0-46c6ef66dfda"
      },
      "execution_count": null,
      "outputs": [
        {
          "output_type": "stream",
          "name": "stdout",
          "text": [
            "Enter a word: elif\n",
            "'elif' is a Python keyword.\n"
          ]
        }
      ]
    },
    {
      "cell_type": "markdown",
      "source": [
        "5) Create a list and tuple in Python, and demonstrate how attempting to change an element works differently\n",
        "for each.\n",
        "\n",
        "ANS-"
      ],
      "metadata": {
        "id": "hVtulbxXwEmT"
      }
    },
    {
      "cell_type": "code",
      "source": [
        "my_list = [10, 20, 30]\n",
        "my_tuple = (10, 20, 30)\n",
        "\n",
        "my_list[1] = 200\n",
        "print(\"Modified list:\", my_list)\n",
        "\n",
        "my_tuple[1] = 200"
      ],
      "metadata": {
        "colab": {
          "base_uri": "https://localhost:8080/",
          "height": 193
        },
        "id": "-Z72H9Vxv9sQ",
        "outputId": "31bdd259-3798-437d-f4b4-14eb0cd2673e"
      },
      "execution_count": null,
      "outputs": [
        {
          "output_type": "stream",
          "name": "stdout",
          "text": [
            "Modified list: [10, 200, 30]\n"
          ]
        },
        {
          "output_type": "error",
          "ename": "TypeError",
          "evalue": "'tuple' object does not support item assignment",
          "traceback": [
            "\u001b[0;31m---------------------------------------------------------------------------\u001b[0m",
            "\u001b[0;31mTypeError\u001b[0m                                 Traceback (most recent call last)",
            "\u001b[0;32m/tmp/ipython-input-5-2123872094.py\u001b[0m in \u001b[0;36m<cell line: 0>\u001b[0;34m()\u001b[0m\n\u001b[1;32m      5\u001b[0m \u001b[0mprint\u001b[0m\u001b[0;34m(\u001b[0m\u001b[0;34m\"Modified list:\"\u001b[0m\u001b[0;34m,\u001b[0m \u001b[0mmy_list\u001b[0m\u001b[0;34m)\u001b[0m\u001b[0;34m\u001b[0m\u001b[0;34m\u001b[0m\u001b[0m\n\u001b[1;32m      6\u001b[0m \u001b[0;34m\u001b[0m\u001b[0m\n\u001b[0;32m----> 7\u001b[0;31m \u001b[0mmy_tuple\u001b[0m\u001b[0;34m[\u001b[0m\u001b[0;36m1\u001b[0m\u001b[0;34m]\u001b[0m \u001b[0;34m=\u001b[0m \u001b[0;36m200\u001b[0m\u001b[0;34m\u001b[0m\u001b[0;34m\u001b[0m\u001b[0m\n\u001b[0m",
            "\u001b[0;31mTypeError\u001b[0m: 'tuple' object does not support item assignment"
          ]
        }
      ]
    },
    {
      "cell_type": "markdown",
      "source": [
        "6) Write a function to demonstrate the behavior of mutable and immutable arguments.\n",
        "\n",
        "ANS-"
      ],
      "metadata": {
        "id": "P9jbJMH6we6v"
      }
    },
    {
      "cell_type": "code",
      "source": [
        "def modify_args(a, b):\n",
        "    a = a + 1\n",
        "    b.append(100)\n",
        "    print(\"Inside function - a:\", a)\n",
        "    print(\"Inside function - b:\", b)\n",
        "\n",
        "x = 10\n",
        "y = [1, 2, 3]\n",
        "\n",
        "modify_args(x, y)\n",
        "\n",
        "print(\"Outside function - x:\", x)\n",
        "print(\"Outside function - y:\", y)"
      ],
      "metadata": {
        "colab": {
          "base_uri": "https://localhost:8080/"
        },
        "id": "iz7FoM-3waun",
        "outputId": "5c246177-7215-4c24-c31a-56d9e15e5e44"
      },
      "execution_count": null,
      "outputs": [
        {
          "output_type": "stream",
          "name": "stdout",
          "text": [
            "Inside function - a: 11\n",
            "Inside function - b: [1, 2, 3, 100]\n",
            "Outside function - x: 10\n",
            "Outside function - y: [1, 2, 3, 100]\n"
          ]
        }
      ]
    },
    {
      "cell_type": "markdown",
      "source": [
        "7) Write a program that performs basic arithmetic operations on two user-input numbers.\n",
        "\n",
        "ANS-"
      ],
      "metadata": {
        "id": "2BS7_aeCxGJ2"
      }
    },
    {
      "cell_type": "code",
      "source": [
        "num1 = float(input(\"Enter first number: \"))\n",
        "num2 = float(input(\"Enter second number: \"))\n",
        "\n",
        "print(\"Addition:\", num1 + num2)\n",
        "print(\"Subtraction:\", num1 - num2)\n",
        "print(\"Multiplication:\", num1 * num2)\n",
        "\n",
        "if num2 != 0:\n",
        "    print(\"Division:\", num1 / num2)\n",
        "else:\n",
        "    print(\"Division: Cannot divide by zero\")"
      ],
      "metadata": {
        "colab": {
          "base_uri": "https://localhost:8080/"
        },
        "id": "TtdCG0Tuw9j3",
        "outputId": "aa0e5fbe-4468-4adb-8ad6-ce340958f509"
      },
      "execution_count": null,
      "outputs": [
        {
          "output_type": "stream",
          "name": "stdout",
          "text": [
            "Enter first number: 2\n",
            "Enter second number: 5\n",
            "Addition: 7.0\n",
            "Subtraction: -3.0\n",
            "Multiplication: 10.0\n",
            "Division: 0.4\n"
          ]
        }
      ]
    },
    {
      "cell_type": "markdown",
      "source": [
        "8) Write a program to demonstrate the use of logical operators.\n",
        "\n",
        "ANS-"
      ],
      "metadata": {
        "id": "KrNR2KcsxdMH"
      }
    },
    {
      "cell_type": "code",
      "source": [
        "a = int(input(\"Enter first number: \"))\n",
        "b = int(input(\"Enter second number: \"))\n",
        "\n",
        "print(\"a > 0 and b > 0:\", a > 0 and b > 0)\n",
        "print(\"a > 0 or b > 0:\", a > 0 or b > 0)\n",
        "print(\"not (a > 0):\", not (a > 0))"
      ],
      "metadata": {
        "colab": {
          "base_uri": "https://localhost:8080/"
        },
        "id": "ZFVxCDnAxZ6w",
        "outputId": "6013bde3-8227-41b9-c293-7aff9dc440f8"
      },
      "execution_count": null,
      "outputs": [
        {
          "output_type": "stream",
          "name": "stdout",
          "text": [
            "Enter first number: 5\n",
            "Enter second number: 2\n",
            "a > 0 and b > 0: True\n",
            "a > 0 or b > 0: True\n",
            "not (a > 0): False\n"
          ]
        }
      ]
    },
    {
      "cell_type": "markdown",
      "source": [
        "9) Write a Python program to convert user input from string to integer, float, and boolean types.\n",
        "\n",
        "ANS-"
      ],
      "metadata": {
        "id": "t8rQOPAjx15J"
      }
    },
    {
      "cell_type": "code",
      "source": [
        "user_input = input(\"Enter a value: \")\n",
        "\n",
        "int_value = int(user_input)\n",
        "float_value = float(user_input)\n",
        "bool_value = bool(user_input)\n",
        "\n",
        "print(\"As Integer:\", int_value)\n",
        "print(\"As Float:\", float_value)\n",
        "print(\"As Boolean:\", bool_value)"
      ],
      "metadata": {
        "colab": {
          "base_uri": "https://localhost:8080/"
        },
        "id": "40IFACldxyQh",
        "outputId": "1ddf2279-436f-4145-8d8f-23802a6272dc"
      },
      "execution_count": null,
      "outputs": [
        {
          "output_type": "stream",
          "name": "stdout",
          "text": [
            "Enter a value: 5\n",
            "As Integer: 5\n",
            "As Float: 5.0\n",
            "As Boolean: True\n"
          ]
        }
      ]
    },
    {
      "cell_type": "markdown",
      "source": [
        "10) Write code to demonstrate type casting with list elements.\n",
        "\n",
        "ANS-"
      ],
      "metadata": {
        "id": "Y66i9kJDyFK8"
      }
    },
    {
      "cell_type": "code",
      "source": [
        "data = [\"1\", \"2\", \"3\"]\n",
        "\n",
        "data_int = [int(i) for i in data]\n",
        "data_float = [float(i) for i in data]\n",
        "\n",
        "print(\"Integers:\", data_int)\n",
        "print(\"Floats:\", data_float)"
      ],
      "metadata": {
        "colab": {
          "base_uri": "https://localhost:8080/"
        },
        "id": "SZkFJG1PyCdn",
        "outputId": "3377d747-efec-467d-bbaa-70f0ab005ec7"
      },
      "execution_count": null,
      "outputs": [
        {
          "output_type": "stream",
          "name": "stdout",
          "text": [
            "Integers: [1, 2, 3]\n",
            "Floats: [1.0, 2.0, 3.0]\n"
          ]
        }
      ]
    },
    {
      "cell_type": "markdown",
      "source": [
        "11) Write a program that checks if a number is positive, negative, or zero.\n",
        "\n",
        "ANS-"
      ],
      "metadata": {
        "id": "nb--W-zlylm8"
      }
    },
    {
      "cell_type": "code",
      "source": [
        "num = float(input(\"Enter a number: \"))\n",
        "\n",
        "if num > 0:\n",
        "    print(\"The number is positive.\")\n",
        "elif num < 0:\n",
        "    print(\"The number is negative.\")\n",
        "else:\n",
        "    print(\"The number is zero.\")"
      ],
      "metadata": {
        "colab": {
          "base_uri": "https://localhost:8080/"
        },
        "id": "GVD_-gYkykbN",
        "outputId": "71a5d90c-d433-4d2b-a153-dc7accbb3be1"
      },
      "execution_count": null,
      "outputs": [
        {
          "output_type": "stream",
          "name": "stdout",
          "text": [
            "Enter a number: 5\n",
            "The number is positive.\n"
          ]
        }
      ]
    },
    {
      "cell_type": "markdown",
      "source": [
        "12) Write a for loop to print numbers from 1 to 10.\n",
        "\n",
        "ANS-"
      ],
      "metadata": {
        "id": "4A48iAKWyzXj"
      }
    },
    {
      "cell_type": "code",
      "source": [
        "for i in range(1, 11):\n",
        "    print(i)"
      ],
      "metadata": {
        "colab": {
          "base_uri": "https://localhost:8080/"
        },
        "id": "5DOGzwj6yxGq",
        "outputId": "45110bbd-e325-4670-a667-dce584399745"
      },
      "execution_count": null,
      "outputs": [
        {
          "output_type": "stream",
          "name": "stdout",
          "text": [
            "1\n",
            "2\n",
            "3\n",
            "4\n",
            "5\n",
            "6\n",
            "7\n",
            "8\n",
            "9\n",
            "10\n"
          ]
        }
      ]
    },
    {
      "cell_type": "markdown",
      "source": [
        "13) Write a Python program to find the sum of all even numbers between 1 and 50.\n",
        "\n",
        "ANS-"
      ],
      "metadata": {
        "id": "uJrI5tgYzFwS"
      }
    },
    {
      "cell_type": "code",
      "source": [
        "total = 0\n",
        "for i in range(1, 51):\n",
        "    if i % 2 == 0:\n",
        "        total += i\n",
        "print(\"Sum of even numbers from 1 to 50:\", total)"
      ],
      "metadata": {
        "colab": {
          "base_uri": "https://localhost:8080/"
        },
        "id": "giSDY_6GzCE0",
        "outputId": "80773103-7acb-47c6-e2b8-56332f15307d"
      },
      "execution_count": null,
      "outputs": [
        {
          "output_type": "stream",
          "name": "stdout",
          "text": [
            "Sum of even numbers from 1 to 50: 650\n"
          ]
        }
      ]
    },
    {
      "cell_type": "markdown",
      "source": [
        "14) Write a program to reverse a string using a while loop.\n",
        "\n",
        "ANS-"
      ],
      "metadata": {
        "id": "9yJMAzH-zUI-"
      }
    },
    {
      "cell_type": "code",
      "source": [
        "text = input(\"Enter a string: \")\n",
        "reversed_text = \"\"\n",
        "index = len(text) - 1\n",
        "\n",
        "while index >= 0:\n",
        "    reversed_text += text[index]\n",
        "    index -= 1\n",
        "\n",
        "print(\"Reversed string:\", reversed_text)"
      ],
      "metadata": {
        "colab": {
          "base_uri": "https://localhost:8080/"
        },
        "id": "mlyHhLrxzSiM",
        "outputId": "0d88bcf1-87ed-457a-8348-1a8d756759ab"
      },
      "execution_count": null,
      "outputs": [
        {
          "output_type": "stream",
          "name": "stdout",
          "text": [
            "Enter a string: MITESH\n",
            "Reversed string: HSETIM\n"
          ]
        }
      ]
    },
    {
      "cell_type": "markdown",
      "source": [
        "15) Write a Python program to calculate the factorial of a number provided by the user using a while loop.\n",
        "\n",
        "ANS-"
      ],
      "metadata": {
        "id": "jnVIdMvSzoWE"
      }
    },
    {
      "cell_type": "code",
      "source": [
        "num = int(input(\"Enter a number: \"))\n",
        "factorial = 1\n",
        "i = 1\n",
        "\n",
        "while i <= num:\n",
        "    factorial *= i\n",
        "    i += 1\n",
        "\n",
        "print(\"Factorial:\", factorial)"
      ],
      "metadata": {
        "colab": {
          "base_uri": "https://localhost:8080/"
        },
        "id": "qojAcTvkzlUE",
        "outputId": "26d8c89e-6180-48dc-8c3d-02a395bfe8bf"
      },
      "execution_count": null,
      "outputs": [
        {
          "output_type": "stream",
          "name": "stdout",
          "text": [
            "Enter a number: 5\n",
            "Factorial: 120\n"
          ]
        }
      ]
    }
  ]
}